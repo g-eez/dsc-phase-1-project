{
 "cells": [
  {
   "cell_type": "markdown",
   "metadata": {},
   "source": [
    "## Final Project Submission\n",
    "\n",
    "Please fill out:\n",
    "* Student name: George Kariuki\n",
    "* Student pace: part time \n",
    "* Scheduled project review date/time: \n",
    "* Instructor name: George Kamundia\n",
    "* Blog post URL:\n"
   ]
  },
  {
   "cell_type": "markdown",
   "metadata": {},
   "source": [
    "# 1. Business Understanding\n",
    "\n",
    "## Project Context\n",
    "\n",
    "Wilson Airport is expanding its operations to include aircraft acquisition for commercial and private aviation services. However, before investing millions of dollars into purchasing aircraft, the airport's Board of Directors requires a comprehensive risk assessment based on historical safety data.\n",
    "\n",
    "The primary objective of this project is to leverage historical aviation accident data (1962–2023) to identify **low-risk aircraft makes and models** that would be suitable for purchase. The findings of this analysis will directly influence Wilson Airport's procurement strategy and fleet composition.\n",
    "\n",
    "As data scientists, our role is to provide **data-driven insights** that support **strategic decision-making**, reduce **investment risk**, and promote **operational safety**.\n",
    "\n",
    "---\n",
    "\n",
    "## Business Questions\n",
    "\n",
    "The business questions we are tasked to address are:\n",
    "\n",
    "1. **Which aircraft makes and models have the lowest accident and fatality rates?**  \n",
    "   We aim to identify aircraft that statistically demonstrate better safety records compared to others.\n",
    "\n",
    "2. **Are newer aircraft models statistically safer than older models?**  \n",
    "   We seek to determine whether more recently manufactured aircraft provide a measurable safety advantage.\n",
    "\n",
    "3. **Are there specific types or categories of aircraft that should be preferred or avoided based on safety history?**  \n",
    "   We will assess whether specific categories (e.g., single-engine vs twin-engine, commercial vs private) show significant safety differences.\n",
    "\n",
    "4. **(Additional Question)**:  \n",
    "   **Does the phase of flight (takeoff, cruise, landing) have a strong correlation with the severity of accidents for certain aircraft models?**  \n",
    "   This self-derived question will help further refine safety strategies based on operational phases.\n",
    "\n",
    "---\n",
    "\n",
    "## Stakeholders\n",
    "\n",
    "The key stakeholders who will rely on our findings include:\n",
    "\n",
    "- **Board of Directors, Wilson Airport**  \n",
    "  (Require high-level recommendations to inform aircraft purchasing decisions.)\n",
    "\n",
    "- **Procurement and Acquisition Team**  \n",
    "  (Need specific lists of recommended aircraft makes/models.)\n",
    "\n",
    "- **Operations and Safety Department**  \n",
    "  (Interested in trends related to aircraft safety history to adjust operational protocols.)\n",
    "\n",
    "- **Investors and Financial Partners**  \n",
    "  (Seek assurance that fleet investments are made into safer, lower-risk assets.)\n",
    "\n",
    "- **Insurance Providers**  \n",
    "  (May adjust premiums based on evidence of risk levels associated with the selected aircraft.)\n",
    "\n",
    "---\n",
    "\n",
    "## Expectations and Deliverables\n",
    "\n",
    "In addition to answering the specific business questions outlined, we are expected to:\n",
    "\n",
    "-  Perform data quality checks, basic cleaning, and exploratory analysis.\n",
    "-  Use **visualizations** (bar charts, line graphs, pie charts) to highlight important findings clearly and simply.\n",
    "-  Maintain a **reproducible, clean Jupyter Notebook** with clear Markdown framing and idiomatic code.\n",
    "-  Provide **three clear, actionable business recommendations**.\n",
    "-  Summarize findings in a **non-technical presentation** for business stakeholders.\n",
    "-  Develop an **interactive dashboard** to explore accident trends and severity distributions.\n",
    "\n",
    "---\n",
    "\n",
    "## Business Value\n",
    "\n",
    "The ability to make **evidence-based fleet acquisition decisions** will:\n",
    "\n",
    "-  Reduce financial risks associated with buying unsafe or unreliable aircraft.\n",
    "-  Increase customer confidence and brand reputation for Wilson Airport's new operations.\n",
    "-  Improve long-term operational safety and minimize insurance costs.\n",
    "\n",
    "By transforming raw historical data into meaningful, strategic insights, we enable Wilson Airport to make smart, safe, and profitable business moves.\n",
    "\n",
    "---\n",
    "\n",
    "![Aviation Safety](https://upload.wikimedia.org/wikipedia/commons/thumb/f/f3/Aviation_safety.png/640px-Aviation_safety.png)\n",
    "\n",
    "[Learn more about aviation safety statistics here.](https://www.ntsb.gov/investigations/data/Pages/AviationDataStats.aspx)\n"
   ]
  },
  {
   "cell_type": "markdown",
   "metadata": {},
   "source": [
    "# 2. Data Understanding\n",
    "\n",
    "In this section, we aim to build a strong understanding of the aviation accident dataset.  \n",
    "Before any cleaning, transformation, or analysis can take place, it is critical to:\n",
    "\n",
    "- Explore the **overall structure** of the data.\n",
    "- Assess the **completeness and quality** of the data.\n",
    "- Understand the **meaning and role** of key columns.\n",
    "- Detect any **missing values**, **strange data types**, or **anomalies**.\n",
    "- Identify **time coverage** and any potential **bias** in the dataset.\n",
    "\n",
    "**The specific steps we will follow:**\n",
    "\n",
    "1. **Import libraries** required for data manipulation and visualization.\n",
    "2. **Load** the dataset into a pandas DataFrame\n",
    "3. **Inspect** the dataset’s structure (columns, data types, non-null counts).\n",
    "4. **Preview** sample records to understand typical entries.\n",
    "5. **Summarize** the dataset with basic descriptive statistics.\n",
    "6. **Check for missing values** across all columns.\n",
    "7. **Investigate key features** such as:\n",
    "   - Aircraft Make\n",
    "   - Aircraft Model\n",
    "   - Event Date\n",
    "   - Injury Severity\n",
    "   - Aircraft Category\n",
    "8. **Review time coverage**: What time range does the dataset cover?\n",
    "9. **Identify data quality issues**, inconsistencies, or potential cleaning needs.\n",
    "10. **Document** initial findings that will inform data cleaning and preparation steps later.\n",
    "\n",
    "> Data understanding is a foundation of all strong data science projects. Skipping this phase risks introducing errors, misinterpretations, and poor business recommendations.\n"
   ]
  },
  {
   "cell_type": "markdown",
   "metadata": {},
   "source": [
    "## Step 1: Import Required Libraries\n",
    "\n",
    "To begin our data exploration, we need to import important Python libraries:\n",
    "\n",
    "- **pandas**: for handling and manipulating dataframes.\n",
    "- **numpy**: for numerical operations.\n",
    "- **matplotlib** and **seaborn**: for creating visualizations to better understand patterns and trends in the data.\n"
   ]
  },
  {
   "cell_type": "code",
   "execution_count": 306,
   "metadata": {},
   "outputs": [],
   "source": [
    "# Your code here - remember to use markdown cells for comments as well!\n",
    "# Import essential libraries\n",
    "import pandas as pd\n",
    "import numpy as np\n",
    "import matplotlib.pyplot as plt\n",
    "import seaborn as sns\n",
    "\n",
    "# Set seaborn theme\n",
    "sns.set_theme(style=\"whitegrid\")\n"
   ]
  },
  {
   "cell_type": "markdown",
   "metadata": {},
   "source": [
    "## Step 2: Load the Aviation Dataset\n",
    "\n",
    "We will now load the aviation accident dataset into a pandas DataFrame for inspection.\n",
    "\n",
    "Our goal in this step:\n",
    "- Read the `.csv` file into memory.\n",
    "\n",
    "## Step 3: Inspect the Dataset Structure\n",
    "\n",
    "At this stage, we use the `.info()` method to inspect the **structure** of the aviation accident dataset.\n",
    "\n",
    "**Purpose**:\n",
    "- Understand the **number of records** and **columns**.\n",
    "- Check **data types** of each feature (object, float, etc.).\n",
    "- See **how many non-null entries** exist for each column (helps spot missing data early).\n",
    "\n",
    "**Findings**:\n",
    "- The dataset contains **90,348 records** and **31 columns**.\n",
    "- Most columns are of **object** type (i.e., text or mixed data).\n",
    "- Some columns (e.g., `Number.of.Engines`) are **numerical** (`float64`).\n",
    "- Many important fields such as `Latitude`, `Longitude`, `Aircraft.Category`, and `FAR.Description` have **significant missing data**.\n",
    "- Critical fields like `Event.Id`, `Accident.Number`, and `Event.Date` are mostly complete but **not 100% complete**.\n",
    "\n",
    "**Next Step**:\n",
    "- We will preview a few sample rows to get a better feel for what typical records look like.\n",
    "\n"
   ]
  },
  {
   "cell_type": "code",
   "execution_count": 307,
   "metadata": {},
   "outputs": [
    {
     "name": "stdout",
     "output_type": "stream",
     "text": [
      "<class 'pandas.core.frame.DataFrame'>\n",
      "RangeIndex: 90348 entries, 0 to 90347\n",
      "Data columns (total 31 columns):\n",
      " #   Column                  Non-Null Count  Dtype  \n",
      "---  ------                  --------------  -----  \n",
      " 0   Event.Id                88889 non-null  object \n",
      " 1   Investigation.Type      90348 non-null  object \n",
      " 2   Accident.Number         88889 non-null  object \n",
      " 3   Event.Date              88889 non-null  object \n",
      " 4   Location                88837 non-null  object \n",
      " 5   Country                 88663 non-null  object \n",
      " 6   Latitude                34382 non-null  object \n",
      " 7   Longitude               34373 non-null  object \n",
      " 8   Airport.Code            50132 non-null  object \n",
      " 9   Airport.Name            52704 non-null  object \n",
      " 10  Injury.Severity         87889 non-null  object \n",
      " 11  Aircraft.damage         85695 non-null  object \n",
      " 12  Aircraft.Category       32287 non-null  object \n",
      " 13  Registration.Number     87507 non-null  object \n",
      " 14  Make                    88826 non-null  object \n",
      " 15  Model                   88797 non-null  object \n",
      " 16  Amateur.Built           88787 non-null  object \n",
      " 17  Number.of.Engines       82805 non-null  float64\n",
      " 18  Engine.Type             81793 non-null  object \n",
      " 19  FAR.Description         32023 non-null  object \n",
      " 20  Schedule                12582 non-null  object \n",
      " 21  Purpose.of.flight       82697 non-null  object \n",
      " 22  Air.carrier             16648 non-null  object \n",
      " 23  Total.Fatal.Injuries    77488 non-null  float64\n",
      " 24  Total.Serious.Injuries  76379 non-null  float64\n",
      " 25  Total.Minor.Injuries    76956 non-null  float64\n",
      " 26  Total.Uninjured         82977 non-null  float64\n",
      " 27  Weather.Condition       84397 non-null  object \n",
      " 28  Broad.phase.of.flight   61724 non-null  object \n",
      " 29  Report.Status           82505 non-null  object \n",
      " 30  Publication.Date        73659 non-null  object \n",
      "dtypes: float64(5), object(26)\n",
      "memory usage: 21.4+ MB\n"
     ]
    },
    {
     "name": "stderr",
     "output_type": "stream",
     "text": [
      "C:\\Users\\HP\\AppData\\Local\\Temp\\ipykernel_15652\\524183646.py:2: DtypeWarning: Columns (6,7,28) have mixed types. Specify dtype option on import or set low_memory=False.\n",
      "  df = pd.read_csv('data/Aviation_Data.csv')\n"
     ]
    }
   ],
   "source": [
    "# Load the aviation accident dataset\n",
    "df = pd.read_csv('data/Aviation_Data.csv')\n",
    "\n",
    "# Display basic information about the dataset\n",
    "df.info()\n"
   ]
  },
  {
   "cell_type": "markdown",
   "metadata": {},
   "source": [
    "## Step 4: Preview Sample Records with `.head()`\n",
    "\n",
    "The `.head()` method displays the **first five rows** of the dataset by default. This provides a quick look at typical entries and helps us understand:\n",
    "\n",
    "* How the data is formatted (e.g., date formats, use of capital letters, empty cells).\n",
    "* Common values in important columns like `Make`, `Model`, `Event.Date`, `Injury.Severity`, and `Aircraft.damage`.\n",
    "* Which fields are frequently blank or contain placeholder values.\n",
    "\n",
    "From the preview, we observed:\n",
    "\n",
    "* Many records lack geographic data (`Latitude`, `Longitude`) and airport details.\n",
    "* Common accident descriptors include values like `\"Fatal(2)\"` in `Injury.Severity`, `\"Destroyed\"` in `Aircraft.damage`, and `\"Reciprocating\"` in `Engine.Type`.\n",
    "* Aircraft manufacturers like `Cessna`, `Piper`, and `Stinson` appear multiple times.\n",
    "* Some columns, such as `FAR.Description` and `Air.carrier`, are often empty or unused.\n",
    "\n",
    "This helps build early familiarity with the data and surfaces potential quality issues we'll address in later steps."
   ]
  },
  {
   "cell_type": "code",
   "execution_count": 308,
   "metadata": {},
   "outputs": [
    {
     "data": {
      "application/vnd.microsoft.datawrangler.viewer.v0+json": {
       "columns": [
        {
         "name": "index",
         "rawType": "int64",
         "type": "integer"
        },
        {
         "name": "Event.Id",
         "rawType": "object",
         "type": "string"
        },
        {
         "name": "Investigation.Type",
         "rawType": "object",
         "type": "string"
        },
        {
         "name": "Accident.Number",
         "rawType": "object",
         "type": "string"
        },
        {
         "name": "Event.Date",
         "rawType": "object",
         "type": "string"
        },
        {
         "name": "Location",
         "rawType": "object",
         "type": "string"
        },
        {
         "name": "Country",
         "rawType": "object",
         "type": "string"
        },
        {
         "name": "Latitude",
         "rawType": "object",
         "type": "unknown"
        },
        {
         "name": "Longitude",
         "rawType": "object",
         "type": "unknown"
        },
        {
         "name": "Airport.Code",
         "rawType": "object",
         "type": "unknown"
        },
        {
         "name": "Airport.Name",
         "rawType": "object",
         "type": "unknown"
        },
        {
         "name": "Injury.Severity",
         "rawType": "object",
         "type": "string"
        },
        {
         "name": "Aircraft.damage",
         "rawType": "object",
         "type": "string"
        },
        {
         "name": "Aircraft.Category",
         "rawType": "object",
         "type": "unknown"
        },
        {
         "name": "Registration.Number",
         "rawType": "object",
         "type": "string"
        },
        {
         "name": "Make",
         "rawType": "object",
         "type": "string"
        },
        {
         "name": "Model",
         "rawType": "object",
         "type": "string"
        },
        {
         "name": "Amateur.Built",
         "rawType": "object",
         "type": "string"
        },
        {
         "name": "Number.of.Engines",
         "rawType": "float64",
         "type": "float"
        },
        {
         "name": "Engine.Type",
         "rawType": "object",
         "type": "unknown"
        },
        {
         "name": "FAR.Description",
         "rawType": "object",
         "type": "unknown"
        },
        {
         "name": "Schedule",
         "rawType": "object",
         "type": "unknown"
        },
        {
         "name": "Purpose.of.flight",
         "rawType": "object",
         "type": "string"
        },
        {
         "name": "Air.carrier",
         "rawType": "object",
         "type": "unknown"
        },
        {
         "name": "Total.Fatal.Injuries",
         "rawType": "float64",
         "type": "float"
        },
        {
         "name": "Total.Serious.Injuries",
         "rawType": "float64",
         "type": "float"
        },
        {
         "name": "Total.Minor.Injuries",
         "rawType": "float64",
         "type": "float"
        },
        {
         "name": "Total.Uninjured",
         "rawType": "float64",
         "type": "float"
        },
        {
         "name": "Weather.Condition",
         "rawType": "object",
         "type": "string"
        },
        {
         "name": "Broad.phase.of.flight",
         "rawType": "object",
         "type": "string"
        },
        {
         "name": "Report.Status",
         "rawType": "object",
         "type": "string"
        },
        {
         "name": "Publication.Date",
         "rawType": "object",
         "type": "unknown"
        }
       ],
       "conversionMethod": "pd.DataFrame",
       "ref": "c6e0c435-9f50-49fd-9e7c-533c96bd25e1",
       "rows": [
        [
         "0",
         "20001218X45444",
         "Accident",
         "SEA87LA080",
         "1948-10-24",
         "MOOSE CREEK, ID",
         "United States",
         null,
         null,
         null,
         null,
         "Fatal(2)",
         "Destroyed",
         null,
         "NC6404",
         "Stinson",
         "108-3",
         "No",
         "1.0",
         "Reciprocating",
         null,
         null,
         "Personal",
         null,
         "2.0",
         "0.0",
         "0.0",
         "0.0",
         "UNK",
         "Cruise",
         "Probable Cause",
         null
        ],
        [
         "1",
         "20001218X45447",
         "Accident",
         "LAX94LA336",
         "1962-07-19",
         "BRIDGEPORT, CA",
         "United States",
         null,
         null,
         null,
         null,
         "Fatal(4)",
         "Destroyed",
         null,
         "N5069P",
         "Piper",
         "PA24-180",
         "No",
         "1.0",
         "Reciprocating",
         null,
         null,
         "Personal",
         null,
         "4.0",
         "0.0",
         "0.0",
         "0.0",
         "UNK",
         "Unknown",
         "Probable Cause",
         "19-09-1996"
        ],
        [
         "2",
         "20061025X01555",
         "Accident",
         "NYC07LA005",
         "1974-08-30",
         "Saltville, VA",
         "United States",
         "36.922223",
         "-81.878056",
         null,
         null,
         "Fatal(3)",
         "Destroyed",
         null,
         "N5142R",
         "Cessna",
         "172M",
         "No",
         "1.0",
         "Reciprocating",
         null,
         null,
         "Personal",
         null,
         "3.0",
         null,
         null,
         null,
         "IMC",
         "Cruise",
         "Probable Cause",
         "26-02-2007"
        ],
        [
         "3",
         "20001218X45448",
         "Accident",
         "LAX96LA321",
         "1977-06-19",
         "EUREKA, CA",
         "United States",
         null,
         null,
         null,
         null,
         "Fatal(2)",
         "Destroyed",
         null,
         "N1168J",
         "Rockwell",
         "112",
         "No",
         "1.0",
         "Reciprocating",
         null,
         null,
         "Personal",
         null,
         "2.0",
         "0.0",
         "0.0",
         "0.0",
         "IMC",
         "Cruise",
         "Probable Cause",
         "12-09-2000"
        ],
        [
         "4",
         "20041105X01764",
         "Accident",
         "CHI79FA064",
         "1979-08-02",
         "Canton, OH",
         "United States",
         null,
         null,
         null,
         null,
         "Fatal(1)",
         "Destroyed",
         null,
         "N15NY",
         "Cessna",
         "501",
         "No",
         null,
         null,
         null,
         null,
         "Personal",
         null,
         "1.0",
         "2.0",
         null,
         "0.0",
         "VMC",
         "Approach",
         "Probable Cause",
         "16-04-1980"
        ]
       ],
       "shape": {
        "columns": 31,
        "rows": 5
       }
      },
      "text/html": [
       "<div>\n",
       "<style scoped>\n",
       "    .dataframe tbody tr th:only-of-type {\n",
       "        vertical-align: middle;\n",
       "    }\n",
       "\n",
       "    .dataframe tbody tr th {\n",
       "        vertical-align: top;\n",
       "    }\n",
       "\n",
       "    .dataframe thead th {\n",
       "        text-align: right;\n",
       "    }\n",
       "</style>\n",
       "<table border=\"1\" class=\"dataframe\">\n",
       "  <thead>\n",
       "    <tr style=\"text-align: right;\">\n",
       "      <th></th>\n",
       "      <th>Event.Id</th>\n",
       "      <th>Investigation.Type</th>\n",
       "      <th>Accident.Number</th>\n",
       "      <th>Event.Date</th>\n",
       "      <th>Location</th>\n",
       "      <th>Country</th>\n",
       "      <th>Latitude</th>\n",
       "      <th>Longitude</th>\n",
       "      <th>Airport.Code</th>\n",
       "      <th>Airport.Name</th>\n",
       "      <th>...</th>\n",
       "      <th>Purpose.of.flight</th>\n",
       "      <th>Air.carrier</th>\n",
       "      <th>Total.Fatal.Injuries</th>\n",
       "      <th>Total.Serious.Injuries</th>\n",
       "      <th>Total.Minor.Injuries</th>\n",
       "      <th>Total.Uninjured</th>\n",
       "      <th>Weather.Condition</th>\n",
       "      <th>Broad.phase.of.flight</th>\n",
       "      <th>Report.Status</th>\n",
       "      <th>Publication.Date</th>\n",
       "    </tr>\n",
       "  </thead>\n",
       "  <tbody>\n",
       "    <tr>\n",
       "      <th>0</th>\n",
       "      <td>20001218X45444</td>\n",
       "      <td>Accident</td>\n",
       "      <td>SEA87LA080</td>\n",
       "      <td>1948-10-24</td>\n",
       "      <td>MOOSE CREEK, ID</td>\n",
       "      <td>United States</td>\n",
       "      <td>NaN</td>\n",
       "      <td>NaN</td>\n",
       "      <td>NaN</td>\n",
       "      <td>NaN</td>\n",
       "      <td>...</td>\n",
       "      <td>Personal</td>\n",
       "      <td>NaN</td>\n",
       "      <td>2.0</td>\n",
       "      <td>0.0</td>\n",
       "      <td>0.0</td>\n",
       "      <td>0.0</td>\n",
       "      <td>UNK</td>\n",
       "      <td>Cruise</td>\n",
       "      <td>Probable Cause</td>\n",
       "      <td>NaN</td>\n",
       "    </tr>\n",
       "    <tr>\n",
       "      <th>1</th>\n",
       "      <td>20001218X45447</td>\n",
       "      <td>Accident</td>\n",
       "      <td>LAX94LA336</td>\n",
       "      <td>1962-07-19</td>\n",
       "      <td>BRIDGEPORT, CA</td>\n",
       "      <td>United States</td>\n",
       "      <td>NaN</td>\n",
       "      <td>NaN</td>\n",
       "      <td>NaN</td>\n",
       "      <td>NaN</td>\n",
       "      <td>...</td>\n",
       "      <td>Personal</td>\n",
       "      <td>NaN</td>\n",
       "      <td>4.0</td>\n",
       "      <td>0.0</td>\n",
       "      <td>0.0</td>\n",
       "      <td>0.0</td>\n",
       "      <td>UNK</td>\n",
       "      <td>Unknown</td>\n",
       "      <td>Probable Cause</td>\n",
       "      <td>19-09-1996</td>\n",
       "    </tr>\n",
       "    <tr>\n",
       "      <th>2</th>\n",
       "      <td>20061025X01555</td>\n",
       "      <td>Accident</td>\n",
       "      <td>NYC07LA005</td>\n",
       "      <td>1974-08-30</td>\n",
       "      <td>Saltville, VA</td>\n",
       "      <td>United States</td>\n",
       "      <td>36.922223</td>\n",
       "      <td>-81.878056</td>\n",
       "      <td>NaN</td>\n",
       "      <td>NaN</td>\n",
       "      <td>...</td>\n",
       "      <td>Personal</td>\n",
       "      <td>NaN</td>\n",
       "      <td>3.0</td>\n",
       "      <td>NaN</td>\n",
       "      <td>NaN</td>\n",
       "      <td>NaN</td>\n",
       "      <td>IMC</td>\n",
       "      <td>Cruise</td>\n",
       "      <td>Probable Cause</td>\n",
       "      <td>26-02-2007</td>\n",
       "    </tr>\n",
       "    <tr>\n",
       "      <th>3</th>\n",
       "      <td>20001218X45448</td>\n",
       "      <td>Accident</td>\n",
       "      <td>LAX96LA321</td>\n",
       "      <td>1977-06-19</td>\n",
       "      <td>EUREKA, CA</td>\n",
       "      <td>United States</td>\n",
       "      <td>NaN</td>\n",
       "      <td>NaN</td>\n",
       "      <td>NaN</td>\n",
       "      <td>NaN</td>\n",
       "      <td>...</td>\n",
       "      <td>Personal</td>\n",
       "      <td>NaN</td>\n",
       "      <td>2.0</td>\n",
       "      <td>0.0</td>\n",
       "      <td>0.0</td>\n",
       "      <td>0.0</td>\n",
       "      <td>IMC</td>\n",
       "      <td>Cruise</td>\n",
       "      <td>Probable Cause</td>\n",
       "      <td>12-09-2000</td>\n",
       "    </tr>\n",
       "    <tr>\n",
       "      <th>4</th>\n",
       "      <td>20041105X01764</td>\n",
       "      <td>Accident</td>\n",
       "      <td>CHI79FA064</td>\n",
       "      <td>1979-08-02</td>\n",
       "      <td>Canton, OH</td>\n",
       "      <td>United States</td>\n",
       "      <td>NaN</td>\n",
       "      <td>NaN</td>\n",
       "      <td>NaN</td>\n",
       "      <td>NaN</td>\n",
       "      <td>...</td>\n",
       "      <td>Personal</td>\n",
       "      <td>NaN</td>\n",
       "      <td>1.0</td>\n",
       "      <td>2.0</td>\n",
       "      <td>NaN</td>\n",
       "      <td>0.0</td>\n",
       "      <td>VMC</td>\n",
       "      <td>Approach</td>\n",
       "      <td>Probable Cause</td>\n",
       "      <td>16-04-1980</td>\n",
       "    </tr>\n",
       "  </tbody>\n",
       "</table>\n",
       "<p>5 rows × 31 columns</p>\n",
       "</div>"
      ],
      "text/plain": [
       "         Event.Id Investigation.Type Accident.Number  Event.Date  \\\n",
       "0  20001218X45444           Accident      SEA87LA080  1948-10-24   \n",
       "1  20001218X45447           Accident      LAX94LA336  1962-07-19   \n",
       "2  20061025X01555           Accident      NYC07LA005  1974-08-30   \n",
       "3  20001218X45448           Accident      LAX96LA321  1977-06-19   \n",
       "4  20041105X01764           Accident      CHI79FA064  1979-08-02   \n",
       "\n",
       "          Location        Country   Latitude  Longitude Airport.Code  \\\n",
       "0  MOOSE CREEK, ID  United States        NaN        NaN          NaN   \n",
       "1   BRIDGEPORT, CA  United States        NaN        NaN          NaN   \n",
       "2    Saltville, VA  United States  36.922223 -81.878056          NaN   \n",
       "3       EUREKA, CA  United States        NaN        NaN          NaN   \n",
       "4       Canton, OH  United States        NaN        NaN          NaN   \n",
       "\n",
       "  Airport.Name  ... Purpose.of.flight Air.carrier Total.Fatal.Injuries  \\\n",
       "0          NaN  ...          Personal         NaN                  2.0   \n",
       "1          NaN  ...          Personal         NaN                  4.0   \n",
       "2          NaN  ...          Personal         NaN                  3.0   \n",
       "3          NaN  ...          Personal         NaN                  2.0   \n",
       "4          NaN  ...          Personal         NaN                  1.0   \n",
       "\n",
       "  Total.Serious.Injuries Total.Minor.Injuries Total.Uninjured  \\\n",
       "0                    0.0                  0.0             0.0   \n",
       "1                    0.0                  0.0             0.0   \n",
       "2                    NaN                  NaN             NaN   \n",
       "3                    0.0                  0.0             0.0   \n",
       "4                    2.0                  NaN             0.0   \n",
       "\n",
       "  Weather.Condition  Broad.phase.of.flight   Report.Status Publication.Date  \n",
       "0               UNK                 Cruise  Probable Cause              NaN  \n",
       "1               UNK                Unknown  Probable Cause       19-09-1996  \n",
       "2               IMC                 Cruise  Probable Cause       26-02-2007  \n",
       "3               IMC                 Cruise  Probable Cause       12-09-2000  \n",
       "4               VMC               Approach  Probable Cause       16-04-1980  \n",
       "\n",
       "[5 rows x 31 columns]"
      ]
     },
     "execution_count": 308,
     "metadata": {},
     "output_type": "execute_result"
    }
   ],
   "source": [
    "# Display the first five rows to understand the structure\n",
    "df.head()\n"
   ]
  },
  {
   "cell_type": "markdown",
   "metadata": {},
   "source": [
    "## Step 5: Summarize Dataset with Basic Descriptive Statistics (`.describe()`)\n",
    "\n",
    "We generated basic descriptive statistics for the key numeric columns. Here are the main findings:\n",
    "\n",
    "* **Number.of.Engines**\n",
    "   * Mean: ~1.15 engines per aircraft.\n",
    "   * Minimum: 0 (likely missing or error entries).\n",
    "   * Maximum: 8 engines (likely large multi-engine aircraft).\n",
    "* **Total.Fatal.Injuries**\n",
    "   * Mean: ~0.65 fatalities per accident.\n",
    "   * Standard Deviation: 5.49, indicating a wide spread — some accidents involve multiple fatalities.\n",
    "   * Maximum: 349 fatalities (outlier, possibly large-scale accidents).\n",
    "* **Total.Serious.Injuries**, **Total.Minor.Injuries**\n",
    "   * Both have low means (~0.28 to 0.36), suggesting most accidents involve few or no serious/minor injuries.\n",
    "* **Total.Uninjured**\n",
    "   * Mean: ~5.32 uninjured individuals per accident.\n",
    "   * High standard deviation (27.91), meaning in some cases, large groups of people were unharmed (e.g., commercial flights).\n",
    "\n",
    "**Insights:**\n",
    "* Most incidents involve small numbers of injuries or fatalities.\n",
    "* Some large outliers (e.g., 349 fatalities) suggest commercial or mass-casualty incidents.\n",
    "* Some accidents are recorded with 0 engines or 0 injuries, indicating data quality issues we'll need to handle later."
   ]
  },
  {
   "cell_type": "code",
   "execution_count": 309,
   "metadata": {},
   "outputs": [
    {
     "data": {
      "application/vnd.microsoft.datawrangler.viewer.v0+json": {
       "columns": [
        {
         "name": "index",
         "rawType": "object",
         "type": "string"
        },
        {
         "name": "Number.of.Engines",
         "rawType": "float64",
         "type": "float"
        },
        {
         "name": "Total.Fatal.Injuries",
         "rawType": "float64",
         "type": "float"
        },
        {
         "name": "Total.Serious.Injuries",
         "rawType": "float64",
         "type": "float"
        },
        {
         "name": "Total.Minor.Injuries",
         "rawType": "float64",
         "type": "float"
        },
        {
         "name": "Total.Uninjured",
         "rawType": "float64",
         "type": "float"
        }
       ],
       "conversionMethod": "pd.DataFrame",
       "ref": "225f9c47-4573-43ed-ad21-46ece10aa43c",
       "rows": [
        [
         "count",
         "82805.0",
         "77488.0",
         "76379.0",
         "76956.0",
         "82977.0"
        ],
        [
         "mean",
         "1.1465853511261397",
         "0.6478551517654346",
         "0.27988059545162935",
         "0.3570611778158948",
         "5.325439579642552"
        ],
        [
         "std",
         "0.44651021381976264",
         "5.485960107558412",
         "1.544083645233758",
         "2.2356253196561946",
         "27.913634431016277"
        ],
        [
         "min",
         "0.0",
         "0.0",
         "0.0",
         "0.0",
         "0.0"
        ],
        [
         "25%",
         "1.0",
         "0.0",
         "0.0",
         "0.0",
         "0.0"
        ],
        [
         "50%",
         "1.0",
         "0.0",
         "0.0",
         "0.0",
         "1.0"
        ],
        [
         "75%",
         "1.0",
         "0.0",
         "0.0",
         "0.0",
         "2.0"
        ],
        [
         "max",
         "8.0",
         "349.0",
         "161.0",
         "380.0",
         "699.0"
        ]
       ],
       "shape": {
        "columns": 5,
        "rows": 8
       }
      },
      "text/html": [
       "<div>\n",
       "<style scoped>\n",
       "    .dataframe tbody tr th:only-of-type {\n",
       "        vertical-align: middle;\n",
       "    }\n",
       "\n",
       "    .dataframe tbody tr th {\n",
       "        vertical-align: top;\n",
       "    }\n",
       "\n",
       "    .dataframe thead th {\n",
       "        text-align: right;\n",
       "    }\n",
       "</style>\n",
       "<table border=\"1\" class=\"dataframe\">\n",
       "  <thead>\n",
       "    <tr style=\"text-align: right;\">\n",
       "      <th></th>\n",
       "      <th>Number.of.Engines</th>\n",
       "      <th>Total.Fatal.Injuries</th>\n",
       "      <th>Total.Serious.Injuries</th>\n",
       "      <th>Total.Minor.Injuries</th>\n",
       "      <th>Total.Uninjured</th>\n",
       "    </tr>\n",
       "  </thead>\n",
       "  <tbody>\n",
       "    <tr>\n",
       "      <th>count</th>\n",
       "      <td>82805.000000</td>\n",
       "      <td>77488.000000</td>\n",
       "      <td>76379.000000</td>\n",
       "      <td>76956.000000</td>\n",
       "      <td>82977.000000</td>\n",
       "    </tr>\n",
       "    <tr>\n",
       "      <th>mean</th>\n",
       "      <td>1.146585</td>\n",
       "      <td>0.647855</td>\n",
       "      <td>0.279881</td>\n",
       "      <td>0.357061</td>\n",
       "      <td>5.325440</td>\n",
       "    </tr>\n",
       "    <tr>\n",
       "      <th>std</th>\n",
       "      <td>0.446510</td>\n",
       "      <td>5.485960</td>\n",
       "      <td>1.544084</td>\n",
       "      <td>2.235625</td>\n",
       "      <td>27.913634</td>\n",
       "    </tr>\n",
       "    <tr>\n",
       "      <th>min</th>\n",
       "      <td>0.000000</td>\n",
       "      <td>0.000000</td>\n",
       "      <td>0.000000</td>\n",
       "      <td>0.000000</td>\n",
       "      <td>0.000000</td>\n",
       "    </tr>\n",
       "    <tr>\n",
       "      <th>25%</th>\n",
       "      <td>1.000000</td>\n",
       "      <td>0.000000</td>\n",
       "      <td>0.000000</td>\n",
       "      <td>0.000000</td>\n",
       "      <td>0.000000</td>\n",
       "    </tr>\n",
       "    <tr>\n",
       "      <th>50%</th>\n",
       "      <td>1.000000</td>\n",
       "      <td>0.000000</td>\n",
       "      <td>0.000000</td>\n",
       "      <td>0.000000</td>\n",
       "      <td>1.000000</td>\n",
       "    </tr>\n",
       "    <tr>\n",
       "      <th>75%</th>\n",
       "      <td>1.000000</td>\n",
       "      <td>0.000000</td>\n",
       "      <td>0.000000</td>\n",
       "      <td>0.000000</td>\n",
       "      <td>2.000000</td>\n",
       "    </tr>\n",
       "    <tr>\n",
       "      <th>max</th>\n",
       "      <td>8.000000</td>\n",
       "      <td>349.000000</td>\n",
       "      <td>161.000000</td>\n",
       "      <td>380.000000</td>\n",
       "      <td>699.000000</td>\n",
       "    </tr>\n",
       "  </tbody>\n",
       "</table>\n",
       "</div>"
      ],
      "text/plain": [
       "       Number.of.Engines  Total.Fatal.Injuries  Total.Serious.Injuries  \\\n",
       "count       82805.000000          77488.000000            76379.000000   \n",
       "mean            1.146585              0.647855                0.279881   \n",
       "std             0.446510              5.485960                1.544084   \n",
       "min             0.000000              0.000000                0.000000   \n",
       "25%             1.000000              0.000000                0.000000   \n",
       "50%             1.000000              0.000000                0.000000   \n",
       "75%             1.000000              0.000000                0.000000   \n",
       "max             8.000000            349.000000              161.000000   \n",
       "\n",
       "       Total.Minor.Injuries  Total.Uninjured  \n",
       "count          76956.000000     82977.000000  \n",
       "mean               0.357061         5.325440  \n",
       "std                2.235625        27.913634  \n",
       "min                0.000000         0.000000  \n",
       "25%                0.000000         0.000000  \n",
       "50%                0.000000         1.000000  \n",
       "75%                0.000000         2.000000  \n",
       "max              380.000000       699.000000  "
      ]
     },
     "execution_count": 309,
     "metadata": {},
     "output_type": "execute_result"
    }
   ],
   "source": [
    "# Summarize numeric columns with descriptive statistics\n",
    "df.describe()\n"
   ]
  },
  {
   "cell_type": "markdown",
   "metadata": {},
   "source": [
    "## Step 6: Check for Missing Values\n",
    "\n",
    "We checked for missing values across all columns. Here are the main findings:\n",
    "\n",
    "* Several columns have **substantial missing data**, particularly:\n",
    "  * `Schedule` (~77,766 missing)\n",
    "  * `Air.carrier` (~73,700 missing)\n",
    "  * `FAR.Description` (~58,325 missing)\n",
    "  * `Aircraft.Category` (~58,061 missing)\n",
    "  * `Latitude` and `Longitude` (~55,000 missing each)\n",
    "* Operational details like `Airport.Code`, `Airport.Name`, and `Broad.phase.of.flight` also have notable gaps.\n",
    "* Critical outcome columns like `Total.Fatal.Injuries`, `Total.Serious.Injuries`, and `Total.Minor.Injuries` have around ~13,000 missing values.\n",
    "* Core identifiers like `Event.Id`, `Event.Date`, and `Accident.Number` are missing for about ~1,459 records.\n",
    "\n",
    "**Implications:**\n",
    "* We may need to **drop** or **impute** certain columns depending on their importance for our analysis.\n",
    "* Some columns with very high missingness (e.g., `Schedule`, `Air.carrier`) may not be reliable for modeling or analysis."
   ]
  },
  {
   "cell_type": "code",
   "execution_count": 310,
   "metadata": {},
   "outputs": [
    {
     "data": {
      "text/plain": [
       "Schedule                  77766\n",
       "Air.carrier               73700\n",
       "FAR.Description           58325\n",
       "Aircraft.Category         58061\n",
       "Longitude                 55975\n",
       "Latitude                  55966\n",
       "Airport.Code              40216\n",
       "Airport.Name              37644\n",
       "Broad.phase.of.flight     28624\n",
       "Publication.Date          16689\n",
       "Total.Serious.Injuries    13969\n",
       "Total.Minor.Injuries      13392\n",
       "Total.Fatal.Injuries      12860\n",
       "Engine.Type                8555\n",
       "Report.Status              7843\n",
       "Purpose.of.flight          7651\n",
       "Number.of.Engines          7543\n",
       "Total.Uninjured            7371\n",
       "Weather.Condition          5951\n",
       "Aircraft.damage            4653\n",
       "Registration.Number        2841\n",
       "Injury.Severity            2459\n",
       "Country                    1685\n",
       "Amateur.Built              1561\n",
       "Model                      1551\n",
       "Make                       1522\n",
       "Location                   1511\n",
       "Event.Date                 1459\n",
       "Accident.Number            1459\n",
       "Event.Id                   1459\n",
       "dtype: int64"
      ]
     },
     "execution_count": 310,
     "metadata": {},
     "output_type": "execute_result"
    }
   ],
   "source": [
    "# Check for missing values across all columns\n",
    "missing_values = df.isnull().sum().sort_values(ascending=False)\n",
    "\n",
    "# Display columns with missing values\n",
    "missing_values[missing_values > 0]\n"
   ]
  },
  {
   "cell_type": "markdown",
   "metadata": {},
   "source": [
    "## Step 7: Investigate Key Features\n",
    "\n",
    "We have explored the following key features to gather insights:\n",
    "\n",
    "* **Aircraft Make**:\n",
    "  * The top manufacturers are **Cessna** (22,227 occurrences) and **Piper** (12,029 occurrences), with a mix of capitalizations (e.g., `Cessna` vs. `CESSNA`, `Piper` vs. `PIPER`) indicating potential inconsistencies in the data.\n",
    "* **Aircraft Model**:\n",
    "  * **Cessna 152** (2,367 occurrences) and **Cessna 172** (1,756 occurrences) are the most common models. There are also a few rare models like \"Rocket\" and \"ULTR,\" which might require further validation due to their low counts.\n",
    "* **Event Date**:\n",
    "  * The dataset spans from **October 24, 1948**, to **December 29, 2022**, providing a broad range of data over several decades.\n",
    "* **Injury Severity**:\n",
    "  * Most accidents were **Non-Fatal** (67,357 occurrences), with a smaller number of **Fatal** accidents. Notably, there are several variations of \"Fatal\" (e.g., **Fatal(1)**, **Fatal(2)**), which should be cleaned and standardized for better analysis.\n",
    "* **Aircraft Category**:\n",
    "  * The majority of accidents involve **Airplanes** (27,617 occurrences), followed by **Helicopters** (3,440 occurrences). There are also smaller numbers of **Gliders**, **Balloons**, and other aircraft types."
   ]
  },
  {
   "cell_type": "code",
   "execution_count": 311,
   "metadata": {},
   "outputs": [
    {
     "name": "stdout",
     "output_type": "stream",
     "text": [
      "Aircraft Make:\n",
      " Make\n",
      "Cessna     22227\n",
      "Piper      12029\n",
      "CESSNA      4922\n",
      "Beech       4330\n",
      "PIPER       2841\n",
      "Bell        2134\n",
      "Boeing      1594\n",
      "BOEING      1151\n",
      "Grumman     1094\n",
      "Mooney      1092\n",
      "Name: count, dtype: int64 \n",
      "\n",
      "Aircraft Model:\n",
      " Model\n",
      "152          2367\n",
      "172          1756\n",
      "172N         1164\n",
      "PA-28-140     932\n",
      "150           829\n",
      "172M          798\n",
      "172P          689\n",
      "182           659\n",
      "180           622\n",
      "150M          585\n",
      "Name: count, dtype: int64 \n",
      "\n",
      "Event Date Range:\n",
      " 1948-10-24 00:00:00 to 2022-12-29 00:00:00 \n",
      "\n",
      "Injury Severity:\n",
      " Injury.Severity\n",
      "Non-Fatal     67357\n",
      "Fatal(1)       6167\n",
      "Fatal          5262\n",
      "Fatal(2)       3711\n",
      "Incident       2219\n",
      "              ...  \n",
      "Fatal(270)        1\n",
      "Fatal(60)         1\n",
      "Fatal(43)         1\n",
      "Fatal(143)        1\n",
      "Fatal(230)        1\n",
      "Name: count, Length: 109, dtype: int64 \n",
      "\n",
      "Aircraft Category:\n",
      " Aircraft.Category\n",
      "Airplane             27617\n",
      "Helicopter            3440\n",
      "Glider                 508\n",
      "Balloon                231\n",
      "Gyrocraft              173\n",
      "Weight-Shift           161\n",
      "Powered Parachute       91\n",
      "Ultralight              30\n",
      "Unknown                 14\n",
      "WSFT                     9\n",
      "Powered-Lift             5\n",
      "Blimp                    4\n",
      "UNK                      2\n",
      "Rocket                   1\n",
      "ULTR                     1\n",
      "Name: count, dtype: int64 \n",
      "\n"
     ]
    }
   ],
   "source": [
    "# Convert Event.Date to datetime\n",
    "df['Event.Date'] = pd.to_datetime(df['Event.Date'], errors='coerce')\n",
    "\n",
    "# Investigate important categorical features\n",
    "print(\"Aircraft Make:\\n\", df['Make'].value_counts().head(10), \"\\n\")\n",
    "print(\"Aircraft Model:\\n\", df['Model'].value_counts().head(10), \"\\n\")\n",
    "print(\"Event Date Range:\\n\", df['Event.Date'].min(), \"to\", df['Event.Date'].max(), \"\\n\")\n",
    "print(\"Injury Severity:\\n\", df['Injury.Severity'].value_counts(), \"\\n\")\n",
    "print(\"Aircraft Category:\\n\", df['Aircraft.Category'].value_counts(), \"\\n\")\n"
   ]
  },
  {
   "cell_type": "markdown",
   "metadata": {},
   "source": [
    "## Step 8: Review Time Coverage\n",
    "\n",
    "The dataset spans from **October 24, 1948**, to **December 29, 2022**, covering more than **74 years** of data. This broad time range gives us a comprehensive view of aviation accidents over several decades, including both historical and more recent incidents."
   ]
  },
  {
   "cell_type": "code",
   "execution_count": 312,
   "metadata": {},
   "outputs": [
    {
     "name": "stdout",
     "output_type": "stream",
     "text": [
      "Time range covered by Event.Date: 1948-10-24 00:00:00 to 2022-12-29 00:00:00\n"
     ]
    }
   ],
   "source": [
    "# Review time coverage of the dataset\n",
    "print(\"Time range covered by Event.Date:\", df['Event.Date'].min(), \"to\", df['Event.Date'].max())"
   ]
  },
  {
   "cell_type": "markdown",
   "metadata": {},
   "source": [
    "## Step 9: Identify Data Quality Issues\n",
    "\n",
    "Here are the findings from the **data quality check**:\n",
    "\n",
    "* **Duplicate Rows**:\n",
    "  * There are **1,390 duplicate rows** in the dataset. These should be removed to ensure the analysis is accurate and not biased by repeated entries.\n",
    "* **Columns with Missing Values**:\n",
    "  * Several columns have high percentages of missing values, particularly:\n",
    "     * **Latitude** (61.94% missing)\n",
    "     * **Longitude** (61.95% missing)\n",
    "     * **Aircraft.Category** (64.26% missing)\n",
    "     * **FAR.Description** (64.56% missing)\n",
    "     * **Schedule** (86.07% missing)\n",
    "     * **Air.carrier** (81.57% missing)\n",
    "  * These missing values may need to be imputed, dropped, or handled depending on the importance of these columns in answering the business questions.\n",
    "* **Data Types**:\n",
    "  * **Event.Date** has been correctly converted to `datetime64[ns]`, which will be useful for time series analysis.\n",
    "  * Several columns such as **Latitude** and **Longitude** are still of type `object`. These should ideally be converted to numeric types for proper analysis.\n",
    "  * Columns like **Number.of.Engines**, **Total.Fatal.Injuries**, **Total.Serious.Injuries**, etc., are already of type `float64`, which is appropriate for numerical analysis."
   ]
  },
  {
   "cell_type": "code",
   "execution_count": 313,
   "metadata": {},
   "outputs": [
    {
     "name": "stdout",
     "output_type": "stream",
     "text": [
      "Number of duplicate rows: 1390\n",
      "Columns with missing values percentage:\n",
      "Latitude             61.944924\n",
      "Longitude            61.954886\n",
      "Aircraft.Category    64.263736\n",
      "FAR.Description      64.555939\n",
      "Schedule             86.073848\n",
      "Air.carrier          81.573471\n",
      "dtype: float64\n",
      "Data Types:\n",
      " Event.Id                          object\n",
      "Investigation.Type                object\n",
      "Accident.Number                   object\n",
      "Event.Date                datetime64[ns]\n",
      "Location                          object\n",
      "Country                           object\n",
      "Latitude                          object\n",
      "Longitude                         object\n",
      "Airport.Code                      object\n",
      "Airport.Name                      object\n",
      "Injury.Severity                   object\n",
      "Aircraft.damage                   object\n",
      "Aircraft.Category                 object\n",
      "Registration.Number               object\n",
      "Make                              object\n",
      "Model                             object\n",
      "Amateur.Built                     object\n",
      "Number.of.Engines                float64\n",
      "Engine.Type                       object\n",
      "FAR.Description                   object\n",
      "Schedule                          object\n",
      "Purpose.of.flight                 object\n",
      "Air.carrier                       object\n",
      "Total.Fatal.Injuries             float64\n",
      "Total.Serious.Injuries           float64\n",
      "Total.Minor.Injuries             float64\n",
      "Total.Uninjured                  float64\n",
      "Weather.Condition                 object\n",
      "Broad.phase.of.flight             object\n",
      "Report.Status                     object\n",
      "Publication.Date                  object\n",
      "dtype: object\n"
     ]
    }
   ],
   "source": [
    "# Check for duplicate rows in the dataset\n",
    "duplicates = df.duplicated().sum()\n",
    "print(f\"Number of duplicate rows: {duplicates}\")\n",
    "\n",
    "# Identify columns with high percentages of missing values\n",
    "missing_values = df.isnull().mean() * 100\n",
    "print(f\"Columns with missing values percentage:\\n{missing_values[missing_values > 50]}\")\n",
    "\n",
    "# Review data types to ensure they are correct\n",
    "print(\"Data Types:\\n\", df.dtypes)\n"
   ]
  },
  {
   "cell_type": "markdown",
   "metadata": {},
   "source": [
    "## 3. Data Preparation (Cleaning the Data) \n",
    "\n",
    "---\n",
    "\n",
    "### 1. Remove Duplicate Rows\n",
    "\n",
    "- Ensure each accident record is unique to prevent skewing results.\n",
    "- Use: `df.drop_duplicates(keep='first', inplace=True)`\n",
    "- Track the number and percentage of duplicates removed.\n",
    "\n",
    "---\n",
    "\n",
    "### 2. Handle Missing Data in Key Columns\n",
    "\n",
    "Focus only on columns essential to business insights:\n",
    "\n",
    "####  Geographic Analysis\n",
    "- `Latitude`, `Longitude`: Create a binary column `Location.Available`. Drop records if critical for spatial plots.\n",
    "- `Country`, `Location`: Drop or impute if they're missing from location-based analysis.\n",
    "\n",
    "####  Aircraft Characteristics\n",
    "- `Make`, `Model`: Drop rows with missing values.\n",
    "- `Aircraft.Category`: May contain many missing values. Consider imputation using `Model` or mark as `Unknown`.\n",
    "\n",
    "####  Severity and Injury Analysis\n",
    "- `Injury.Severity`: Drop records with missing severity.\n",
    "- `Total.Fatal.Injuries`, `Total.Serious.Injuries`, `Total.Minor.Injuries`, `Total.Uninjured`: Drop rows with missing values or impute zeros if that reflects reality.\n",
    "\n",
    "####  Operational Context\n",
    "- `Broad.phase.of.flight`, `Weather.Condition`: Drop or mark as `Unknown` if missing but important to cause analysis.\n",
    "- `Aircraft.damage`: Keep or impute with `Unknown` if only mildly missing.\n",
    "\n",
    "####  Technical Specs\n",
    "- `Number.of.Engines`, `Engine.Type`: Drop if heavily missing or impute from aircraft model or similar aircraft.\n",
    "\n",
    "---\n",
    "\n",
    "### 3. Convert Data Types\n",
    "\n",
    "- Convert `Latitude`/`Longitude` to `float64`, validating geographic ranges.\n",
    "- Ensure `Event.Date` and `Publication.Date` are in `datetime64[ns]` format.\n",
    "- Injury and engine count fields must be numeric (`float64` or `int64`).\n",
    "\n",
    "---\n",
    "\n",
    "### 4. Standardize Categorical Values\n",
    "\n",
    "- **Make**: Normalize case (e.g., \"CESSNA\", \"Cessna\" → \"Cessna\").\n",
    "- **Injury.Severity**: Simplify into standard levels (e.g., \"Fatal\", \"Non-Fatal\", \"Incident\").\n",
    "- **Aircraft.Category**: Normalize and group rare values as \"Other\".\n",
    "- **Broad.phase.of.flight**: Group into broad categories (e.g., Takeoff, Cruise, Landing).\n",
    "\n",
    "---\n",
    "\n",
    "### 5. Handle Outliers\n",
    "\n",
    "- Flag extreme values in injury counts or engine numbers.\n",
    "- Validate unusual or high fatality events against known incidents.\n",
    "- Investigate invalid or out-of-range coordinates (e.g., Lat > 90).\n",
    "\n",
    "---\n",
    "\n",
    "### 6. Feature Engineering\n",
    "\n",
    "- `Accident.Severity.Score`: Derived from injury counts and aircraft damage.\n",
    "- `Location.Available`: Binary from `Latitude` and `Longitude`.\n",
    "- Temporal breakdown: Extract `year`, `month`, `day`, `season`, `weekday` from `Event.Date`.\n",
    "\n",
    "---\n",
    "\n",
    "### 7. Validate Data Consistency\n",
    "\n",
    "- Cross-check injury counts vs. `Injury.Severity`.\n",
    "- Validate engine count vs. aircraft category.\n",
    "- Ensure no contradictory values (e.g., \"Fatal\" with all injury counts = 0).\n",
    "\n",
    "---\n",
    "\n",
    "### 8. Final Processing\n",
    "\n",
    "- Reset index after all cleaning: `df.reset_index(drop=True, inplace=True)`\n",
    "- Output cleaned row count and summary stats.\n",
    "- Prepare cleaned dataset for visualization and analysis.\n"
   ]
  },
  {
   "cell_type": "markdown",
   "metadata": {},
   "source": [
    "## 1. Remove Duplicate Rows\n",
    "\n",
    "**Objective:**  \n",
    "Ensure data integrity by removing duplicate records, which can lead to bias in analysis and inaccurate results.\n",
    "\n",
    "**Steps Taken:**\n",
    "\n",
    "- Identified and removed duplicate rows from the dataset.\n",
    "- Used the pandas function `df.drop_duplicates(keep='first')` to retain only the first occurrence of each unique record.\n",
    "  \n",
    "**Findings:**\n",
    "\n",
    "- **Number of duplicates removed:** 0\n",
    "- **Percentage of duplicates removed:** 0.00%\n",
    "\n",
    "**Conclusion:**  \n",
    "No duplicate records were found in the dataset, so no rows were removed. The dataset remains unchanged in terms of duplicate records.\n"
   ]
  },
  {
   "cell_type": "code",
   "execution_count": 314,
   "metadata": {},
   "outputs": [
    {
     "name": "stdout",
     "output_type": "stream",
     "text": [
      "Number of duplicates removed: 0\n",
      "Percentage of duplicates removed: 0.00%\n"
     ]
    }
   ],
   "source": [
    "# Remove duplicate rows\n",
    "df = df.drop_duplicates(keep='first')\n",
    "\n",
    "# Output the number of duplicates removed and the percentage\n",
    "duplicates_removed = df.duplicated().sum()\n",
    "total_records = len(df)\n",
    "percentage_removed = (duplicates_removed / total_records) * 100\n",
    "\n",
    "print(f\"Number of duplicates removed: {duplicates_removed}\")\n",
    "print(f\"Percentage of duplicates removed: {percentage_removed:.2f}%\")\n",
    "\n"
   ]
  },
  {
   "cell_type": "markdown",
   "metadata": {},
   "source": [
    "# 2: Handle Missing Data\n",
    "\n",
    "High-missingness columns (consider dropping if >70% missing):\n",
    "\n",
    "* `Schedule` (86.07% missing)\n",
    "* `Air.carrier` (81.57% missing)\n",
    "\n",
    "These columns exhibit substantial missing data and might not provide significant value to the analysis. Dropping them could streamline the dataset."
   ]
  },
  {
   "cell_type": "code",
   "execution_count": 315,
   "metadata": {},
   "outputs": [
    {
     "name": "stdout",
     "output_type": "stream",
     "text": [
      "Columns with more than 70% missing:\n",
      "Index(['Schedule', 'Air.carrier'], dtype='object')\n",
      "\n"
     ]
    }
   ],
   "source": [
    "\n",
    "# Columns with more than 70% missing\n",
    "high_missing_cols = df.columns[df.isnull().mean() > 0.7]\n",
    "print(f\"Columns with more than 70% missing:\\n{high_missing_cols}\\n\")"
   ]
  },
  {
   "cell_type": "code",
   "execution_count": 316,
   "metadata": {},
   "outputs": [],
   "source": [
    "# Drop columns with high missingness ( 'Schedule', 'Air.carrier'))\n",
    "df = df.drop(columns=high_missing_cols)"
   ]
  },
  {
   "cell_type": "markdown",
   "metadata": {},
   "source": [
    "### Handle Missing Data in Key Columns – Injury Severity\n",
    "\n",
    "**Action Taken:**\n",
    "- Dropped rows with missing `Injury.Severity`, which is essential for severity and injury analysis.\n",
    "- **Rows dropped**: 1,000\n",
    "- **New total rows**: 73,359\n",
    "\n",
    "**Rationale:**\n",
    "- The `Injury.Severity` column is critical for understanding the nature of accidents and their severity. Missing values here would significantly impact analysis related to injury severity classification and operational insights. Dropping rows with missing values ensures more accurate analysis. \n"
   ]
  },
  {
   "cell_type": "code",
   "execution_count": 317,
   "metadata": {},
   "outputs": [
    {
     "data": {
      "text/plain": [
       "1069"
      ]
     },
     "execution_count": 317,
     "metadata": {},
     "output_type": "execute_result"
    }
   ],
   "source": [
    "df['Injury.Severity'].isna().sum()\n"
   ]
  },
  {
   "cell_type": "code",
   "execution_count": 318,
   "metadata": {},
   "outputs": [
    {
     "name": "stdout",
     "output_type": "stream",
     "text": [
      "Rows dropped due to missing Injury.Severity: 1069\n",
      "New total rows: 87889\n"
     ]
    }
   ],
   "source": [
    "# Store initial row count\n",
    "initial_row_count = df.shape[0]\n",
    "\n",
    "# Drop rows with missing Injury.Severity\n",
    "df.dropna(subset=['Injury.Severity'], inplace=True)\n",
    "\n",
    "# Report how many were dropped\n",
    "rows_dropped = initial_row_count - df.shape[0]\n",
    "print(f\"Rows dropped due to missing Injury.Severity: {rows_dropped}\")\n",
    "print(f\"New total rows: {df.shape[0]}\")\n"
   ]
  },
  {
   "cell_type": "markdown",
   "metadata": {},
   "source": [
    "To address missing geographic data (Latitude and Longitude), we created a binary feature called `Location.Available`. This feature indicates whether both `Latitude` and `Longitude` values are available for a given record:\n",
    "\n",
    "- **True**: Both `Latitude` and `Longitude` are non-null.\n",
    "- **False**: Either `Latitude` or `Longitude` is missing.\n",
    "\n",
    "This binary feature helps retain information about the presence or absence of geographic coordinates without discarding rows that may still be useful in analysis.\n",
    "\n",
    "\n"
   ]
  },
  {
   "cell_type": "code",
   "execution_count": 319,
   "metadata": {},
   "outputs": [],
   "source": [
    "# For geographic data (Latitude and Longitude), consider creating a \"location available\" binary feature\n",
    "df['Location.Available'] = df['Latitude'].notna() & df['Longitude'].notna()"
   ]
  },
  {
   "cell_type": "code",
   "execution_count": 320,
   "metadata": {},
   "outputs": [
    {
     "name": "stdout",
     "output_type": "stream",
     "text": [
      "Location.Available\n",
      "False    53755\n",
      "True     34134\n",
      "Name: count, dtype: int64\n",
      "    Latitude  Longitude  Location.Available\n",
      "0        NaN        NaN               False\n",
      "1        NaN        NaN               False\n",
      "2  36.922223 -81.878056                True\n",
      "3        NaN        NaN               False\n",
      "4        NaN        NaN               False\n"
     ]
    }
   ],
   "source": [
    "# Check the distribution of the new \"Location.Available\" feature\n",
    "print(df['Location.Available'].value_counts())\n",
    "\n",
    "# Preview some records where location is available and unavailable\n",
    "print(df[['Latitude', 'Longitude', 'Location.Available']].head())\n"
   ]
  },
  {
   "cell_type": "markdown",
   "metadata": {},
   "source": [
    "No rows were dropped, indicating that there were no missing values in the critical injury columns (`Total.Fatal.Injuries`, `Total.Serious.Injuries`, `Total.Minor.Injuries`, and `Total.Uninjured`) after checking for missing values. This is a positive sign, suggesting that the dataset already has complete injury data."
   ]
  },
  {
   "cell_type": "code",
   "execution_count": 321,
   "metadata": {},
   "outputs": [
    {
     "name": "stdout",
     "output_type": "stream",
     "text": [
      "Rows dropped: 14530 (Total rows before: 87889)\n"
     ]
    }
   ],
   "source": [
    "# Store the original row count before dropping rows\n",
    "original_row_count = df.shape[0]\n",
    "\n",
    "# Drop rows where any of the critical injury columns are missing\n",
    "df.dropna(subset=['Total.Fatal.Injuries', 'Total.Serious.Injuries', 'Total.Minor.Injuries', 'Total.Uninjured'], inplace=True)\n",
    "\n",
    "# Check how many rows were dropped\n",
    "print(f\"Rows dropped: {original_row_count - df.shape[0]} (Total rows before: {original_row_count})\")\n",
    "\n"
   ]
  },
  {
   "cell_type": "code",
   "execution_count": 322,
   "metadata": {},
   "outputs": [
    {
     "name": "stdout",
     "output_type": "stream",
     "text": [
      "Percentage of missing values after handling:\n",
      "Location                  0.043621\n",
      "Country                   0.288990\n",
      "Latitude                 69.476138\n",
      "Longitude                69.474775\n",
      "Airport.Code             43.596559\n",
      "Airport.Name             40.368598\n",
      "Aircraft.damage           2.948513\n",
      "Aircraft.Category        62.739405\n",
      "Registration.Number       0.342153\n",
      "Make                      0.044984\n",
      "Model                     0.076337\n",
      "Amateur.Built             0.002726\n",
      "Number.of.Engines         5.456727\n",
      "Engine.Type               6.618138\n",
      "FAR.Description          62.988863\n",
      "Purpose.of.flight         4.949631\n",
      "Weather.Condition         4.209436\n",
      "Broad.phase.of.flight    33.833613\n",
      "Report.Status             7.463297\n",
      "Publication.Date         19.925299\n",
      "dtype: float64\n"
     ]
    }
   ],
   "source": [
    "# Review missing values again after handling\n",
    "missing_data = df.isnull().mean() * 100\n",
    "print(f\"Percentage of missing values after handling:\\n{missing_data[missing_data > 0]}\")\n"
   ]
  },
  {
   "cell_type": "markdown",
   "metadata": {},
   "source": [
    "**Drop Missing Values in the 'Make' Column**\n",
    "\n",
    "In this step, we drop rows that have missing values in the `Make` column, as it's a key variable for analyzing aircraft characteristics.\n"
   ]
  },
  {
   "cell_type": "code",
   "execution_count": 323,
   "metadata": {},
   "outputs": [
    {
     "name": "stdout",
     "output_type": "stream",
     "text": [
      "Missing values in 'Make' column: 33\n"
     ]
    }
   ],
   "source": [
    "# Count missing values in the 'Make' column\n",
    "missing_make_count = df['Make'].isna().sum()\n",
    "\n",
    "# Output the result\n",
    "print(f\"Missing values in 'Make' column: {missing_make_count}\")\n"
   ]
  },
  {
   "cell_type": "code",
   "execution_count": 324,
   "metadata": {},
   "outputs": [
    {
     "name": "stdout",
     "output_type": "stream",
     "text": [
      "New total rows: 73326\n"
     ]
    }
   ],
   "source": [
    "# Drop rows with missing values in the 'Make' column\n",
    "df.dropna(subset=['Make'], inplace=True)\n",
    "\n",
    "# Output the new shape of the DataFrame after dropping rows\n",
    "print(f\"New total rows: {df.shape[0]}\")\n"
   ]
  },
  {
   "cell_type": "markdown",
   "metadata": {},
   "source": [
    "**Convert Data Types**\n",
    "\n",
    "In this step, we ensure that each column is in the appropriate format for analysis:\n",
    "\n",
    "1. **Latitude and Longitude:** \n",
    "   - These columns are converted from `object` to `float64` to facilitate geographic analysis. We also filter out any invalid coordinate values (outside the valid ranges for latitude and longitude).\n",
    "\n",
    "2. **Event.Date and Publication.Date:**\n",
    "   - These date columns are converted to `datetime64[ns]` to ensure that temporal analysis can be performed.\n",
    "\n",
    "3. **Numerical Columns:** \n",
    "   - Columns like `Number.of.Engines` and injury counts are converted to `float64` or `int64` as needed for accurate statistical analysis.\n",
    "\n",
    "**Outcome:**\n",
    "- All columns are now in the appropriate data types for further analysis.\n"
   ]
  },
  {
   "cell_type": "code",
   "execution_count": 325,
   "metadata": {},
   "outputs": [
    {
     "name": "stdout",
     "output_type": "stream",
     "text": [
      "Event.Id                                     object\n",
      "Investigation.Type                           object\n",
      "Accident.Number                              object\n",
      "Event.Date                           datetime64[ns]\n",
      "Location                                     object\n",
      "Country                                      object\n",
      "Latitude                                    float64\n",
      "Longitude                                   float64\n",
      "Airport.Code                                 object\n",
      "Airport.Name                                 object\n",
      "Injury.Severity                              object\n",
      "Aircraft.damage                              object\n",
      "Aircraft.Category                            object\n",
      "Registration.Number                          object\n",
      "Make                                         object\n",
      "Model                                        object\n",
      "Amateur.Built                                object\n",
      "Number.of.Engines                           float64\n",
      "Engine.Type                                  object\n",
      "FAR.Description                              object\n",
      "Purpose.of.flight                            object\n",
      "Total.Fatal.Injuries                        float64\n",
      "Total.Serious.Injuries                      float64\n",
      "Total.Minor.Injuries                        float64\n",
      "Total.Uninjured                             float64\n",
      "Weather.Condition                            object\n",
      "Broad.phase.of.flight                        object\n",
      "Report.Status                                object\n",
      "Publication.Date                     datetime64[ns]\n",
      "Location.Available                             bool\n",
      "Latitude_Invalid                               bool\n",
      "Longitude_Invalid                              bool\n",
      "Event_Date_Invalid                             bool\n",
      "Publication_Date_Invalid                       bool\n",
      "Number.of.Engines_NonNumeric                   bool\n",
      "Total.Fatal.Injuries_NonNumeric                bool\n",
      "Total.Serious.Injuries_NonNumeric              bool\n",
      "Total.Minor.Injuries_NonNumeric                bool\n",
      "dtype: object\n",
      "\n",
      "Optional Validity Flags (First 5 rows):\n",
      "   Latitude_Invalid  Longitude_Invalid  Event_Date_Invalid  \\\n",
      "0              True               True               False   \n",
      "1              True               True               False   \n",
      "3              True               True               False   \n",
      "6              True               True               False   \n",
      "7              True               True               False   \n",
      "\n",
      "   Publication_Date_Invalid  Number.of.Engines_NonNumeric  \\\n",
      "0                      True                         False   \n",
      "1                     False                         False   \n",
      "3                     False                         False   \n",
      "6                     False                         False   \n",
      "7                     False                         False   \n",
      "\n",
      "   Total.Fatal.Injuries_NonNumeric  Total.Serious.Injuries_NonNumeric  \\\n",
      "0                            False                              False   \n",
      "1                            False                              False   \n",
      "3                            False                              False   \n",
      "6                            False                              False   \n",
      "7                            False                              False   \n",
      "\n",
      "   Total.Minor.Injuries_NonNumeric  \n",
      "0                            False  \n",
      "1                            False  \n",
      "3                            False  \n",
      "6                            False  \n",
      "7                            False  \n"
     ]
    },
    {
     "name": "stderr",
     "output_type": "stream",
     "text": [
      "C:\\Users\\HP\\AppData\\Local\\Temp\\ipykernel_15652\\949084248.py:15: UserWarning: Parsing dates in %d-%m-%Y format when dayfirst=False (the default) was specified. Pass `dayfirst=True` or specify a format to silence this warning.\n",
      "  df['Publication.Date'] = pd.to_datetime(df['Publication.Date'], errors='coerce')\n"
     ]
    }
   ],
   "source": [
    "\n",
    "# Convert Latitude and Longitude to float64, setting invalid to NaN\n",
    "df['Latitude'] = pd.to_numeric(df['Latitude'], errors='coerce')\n",
    "df['Longitude'] = pd.to_numeric(df['Longitude'], errors='coerce')\n",
    "\n",
    "# Create boolean masks for valid Latitude and Longitude ranges\n",
    "valid_latitude = (df['Latitude'] >= -90) & (df['Latitude'] <= 90)\n",
    "valid_longitude = (df['Longitude'] >= -180) & (df['Longitude'] <= 180)\n",
    "\n",
    "# Optionally, flag invalid coordinates (retaining original rows)\n",
    "df['Latitude_Invalid'] = ~valid_latitude\n",
    "df['Longitude_Invalid'] = ~valid_longitude\n",
    "\n",
    "# Convert Event.Date and Publication.Date to datetime64[ns], setting invalid to NaT\n",
    "df['Event.Date'] = pd.to_datetime(df['Event.Date'], errors='coerce')\n",
    "df['Publication.Date'] = pd.to_datetime(df['Publication.Date'], errors='coerce')\n",
    "\n",
    "# Optionally, flag invalid dates (retaining original rows)\n",
    "df['Event_Date_Invalid'] = df['Event.Date'].isna()\n",
    "df['Publication_Date_Invalid'] = df['Publication.Date'].isna()\n",
    "\n",
    "# Convert numerical columns to numeric, setting invalid to NaN\n",
    "cols_to_numeric = ['Number.of.Engines', 'Total.Fatal.Injuries', 'Total.Serious.Injuries', 'Total.Minor.Injuries']\n",
    "for col in cols_to_numeric:\n",
    "    df[col] = pd.to_numeric(df[col], errors='coerce')\n",
    "\n",
    "# Optionally, flag non-numeric values in these columns (retaining original rows)\n",
    "for col in cols_to_numeric:\n",
    "    df[f'{col}_NonNumeric'] = pd.isna(df[col]) & pd.notna(df[col].astype(str)) # Check if originally not NaN but became NaN after conversion\n",
    "\n",
    "# Output the data types and a sample of the validity flags\n",
    "print(df.dtypes)\n",
    "print(\"\\nOptional Validity Flags (First 5 rows):\")\n",
    "print(df[['Latitude_Invalid', 'Longitude_Invalid', 'Event_Date_Invalid', 'Publication_Date_Invalid'] + [f'{col}_NonNumeric' for col in cols_to_numeric]].head())"
   ]
  },
  {
   "cell_type": "markdown",
   "metadata": {},
   "source": [
    "### Standardize Categorical Variables\n",
    "- **Action Taken**: The **Make** column was standardized by normalizing the case (e.g., \"CESSNA\" and \"Cessna\" were unified to \"Cessna\").\n",
    "- **Result**: The **Make** column now contains consistently capitalized values for easier analysis."
   ]
  },
  {
   "cell_type": "code",
   "execution_count": 326,
   "metadata": {},
   "outputs": [
    {
     "name": "stdout",
     "output_type": "stream",
     "text": [
      "Missing values in 'Make': 0\n"
     ]
    }
   ],
   "source": [
    "# Count missing values in 'Make'\n",
    "missing_make = df['Make'].isna().sum()\n",
    "print(f\"Missing values in 'Make': {missing_make}\")\n"
   ]
  },
  {
   "cell_type": "code",
   "execution_count": 327,
   "metadata": {},
   "outputs": [
    {
     "name": "stdout",
     "output_type": "stream",
     "text": [
      "Make\n",
      "Cessna      22928\n",
      "Piper       12654\n",
      "Beech        4474\n",
      "Bell         2225\n",
      "Boeing       1761\n",
      "Mooney       1098\n",
      "Grumman      1060\n",
      "Bellanca      902\n",
      "Robinson      848\n",
      "Hughes        768\n",
      "Name: count, dtype: int64\n"
     ]
    }
   ],
   "source": [
    "# Standardize Aircraft Make by normalizing case\n",
    "df['Make'] = df['Make'].str.strip().str.title()\n",
    "\n",
    "# Check the unique values in 'Make' after standardization\n",
    "print(df['Make'].value_counts().head(10))\n",
    "\n"
   ]
  },
  {
   "cell_type": "markdown",
   "metadata": {},
   "source": [
    "#### Standardize Categorical Variables (Injury Severity)\n",
    "- **Action Taken**: The **Injury.Severity** column was standardized to group various fatal categories (e.g., 'Fatal(1)', 'Fatal(2)', etc.) into a single **Fatal** category, and **Non-Fatal** or **Incident** were grouped under **Non-Fatal**.\n",
    "- **Result**: Injury severity is now simplified into two categories: **Fatal** and **Non-Fatal** for clearer analysis.\n",
    "\n"
   ]
  },
  {
   "cell_type": "code",
   "execution_count": 328,
   "metadata": {},
   "outputs": [
    {
     "name": "stdout",
     "output_type": "stream",
     "text": [
      "Injury.Severity\n",
      "Non-Fatal     56660\n",
      "Fatal          5253\n",
      "Fatal(1)       4683\n",
      "Fatal(2)       2796\n",
      "Incident       1569\n",
      "              ...  \n",
      "Fatal(56)         1\n",
      "Fatal(37)         1\n",
      "Fatal(132)        1\n",
      "Fatal(68)         1\n",
      "Fatal(47)         1\n",
      "Name: count, Length: 71, dtype: int64\n"
     ]
    }
   ],
   "source": [
    "print(df['Injury.Severity'].value_counts())"
   ]
  },
  {
   "cell_type": "code",
   "execution_count": 329,
   "metadata": {},
   "outputs": [
    {
     "name": "stdout",
     "output_type": "stream",
     "text": [
      "Injury.Severity\n",
      "Non-Fatal      56660\n",
      "Fatal          14695\n",
      "Incident        1569\n",
      "Minor            218\n",
      "Serious          173\n",
      "Unavailable       11\n",
      "Name: count, dtype: int64\n"
     ]
    }
   ],
   "source": [
    "# Overwrite Injury.Severity with standardized values\n",
    "df['Injury.Severity'] = df['Injury.Severity'].replace(\n",
    "    to_replace=r'Fatal\\(\\d+\\)', value='Fatal', regex=True\n",
    ")\n",
    "\n",
    "# Check updated value counts\n",
    "print(df['Injury.Severity'].value_counts())\n"
   ]
  },
  {
   "cell_type": "markdown",
   "metadata": {},
   "source": [
    "## Handle Missing Values in Aircraft.Category\n",
    "\n",
    "To ensure the integrity of the dataset, we removed rows where the `Aircraft.Category` column had missing (NaN) values. This step is crucial because `Aircraft.Category` is key to our analysis of different aircraft types and their relationship to accident severity and frequency.\n",
    "\n",
    "**Action Taken:**\n",
    "\n",
    "Used `df.dropna(subset=['Aircraft.Category'], inplace=True)` to remove rows where `Aircraft.Category` is missing.\n",
    "The dataset after this operation contains 73,326 rows.\n",
    "\n",
    "**Outcome:**\n",
    "\n",
    "The rows with missing `Aircraft.Category` values have been removed, ensuring that our analysis reflects only complete records for this feature."
   ]
  },
  {
   "cell_type": "code",
   "execution_count": 330,
   "metadata": {},
   "outputs": [
    {
     "name": "stdout",
     "output_type": "stream",
     "text": [
      "Aircraft.Category\n",
      "Airplane             23322\n",
      "Helicopter            2936\n",
      "Glider                 420\n",
      "Balloon                192\n",
      "Weight-Shift           161\n",
      "Gyrocraft              153\n",
      "Powered Parachute       91\n",
      "Ultralight              24\n",
      "Unknown                 11\n",
      "WSFT                     9\n",
      "Powered-Lift             2\n",
      "Rocket                   1\n",
      "Blimp                    1\n",
      "ULTR                     1\n",
      "Name: count, dtype: int64\n"
     ]
    }
   ],
   "source": [
    "# Check unique values in 'Aircraft.Category' and their counts\n",
    "print(df['Aircraft.Category'].value_counts())\n"
   ]
  },
  {
   "cell_type": "code",
   "execution_count": 331,
   "metadata": {},
   "outputs": [
    {
     "name": "stdout",
     "output_type": "stream",
     "text": [
      "Rows after dropping missing 'Aircraft.Category': 27324\n"
     ]
    }
   ],
   "source": [
    "# Drop rows with missing values in 'Aircraft.Category'\n",
    "df.dropna(subset=['Aircraft.Category'], inplace=True)\n",
    "\n",
    "# Check the number of rows after dropping missing values\n",
    "print(f\"Rows after dropping missing 'Aircraft.Category': {df.shape[0]}\")\n"
   ]
  },
  {
   "cell_type": "markdown",
   "metadata": {},
   "source": [
    "## Standardize Categorical Values\n",
    "### Broad.phase.of.flight:\n",
    "\n",
    "The column contains multiple detailed flight phases. To simplify the analysis, these categories are grouped into broader phases:\n",
    "\n",
    "* **Takeoff:** Includes \"Takeoff\", \"Climb\", \"Go-around\".\n",
    "* **Landing:** Includes \"Landing\", \"Approach\", \"Descent\".\n",
    "* **Cruise:** Includes \"Cruise\".\n",
    "* **Other:** Includes \"Maneuvering\", \"Taxi\", \"Standing\".\n",
    "* **Unknown:** Includes \"Unknown\".\n",
    "\n",
    "This grouping helps reduce the number of unique values, making it easier to analyze and interpret flight phase data."
   ]
  },
  {
   "cell_type": "code",
   "execution_count": 332,
   "metadata": {},
   "outputs": [
    {
     "name": "stdout",
     "output_type": "stream",
     "text": [
      "Broad.phase.of.flight\n",
      "Landing        946\n",
      "Takeoff        767\n",
      "Cruise         633\n",
      "Maneuvering    434\n",
      "Approach       399\n",
      "Taxi           131\n",
      "Descent        105\n",
      "Climb           97\n",
      "Go-around       58\n",
      "Unknown         53\n",
      "Standing        35\n",
      "Other           12\n",
      "Name: count, dtype: int64\n"
     ]
    }
   ],
   "source": [
    "# List unique values in the 'Broad.phase.of.flight' column\n",
    "print(df['Broad.phase.of.flight'].value_counts())\n"
   ]
  },
  {
   "cell_type": "code",
   "execution_count": 333,
   "metadata": {},
   "outputs": [
    {
     "name": "stdout",
     "output_type": "stream",
     "text": [
      "Broad.phase.of.flight\n",
      "Landing    1450\n",
      "Takeoff     922\n",
      "Cruise      633\n",
      "Other       612\n",
      "Unknown      53\n",
      "Name: count, dtype: int64\n"
     ]
    }
   ],
   "source": [
    "# Group the flight phases into broader categories\n",
    "df['Broad.phase.of.flight'] = df['Broad.phase.of.flight'].replace({\n",
    "    'Takeoff': 'Takeoff',\n",
    "    'Climb': 'Takeoff',\n",
    "    'Go-around': 'Takeoff',\n",
    "    'Landing': 'Landing',\n",
    "    'Approach': 'Landing',\n",
    "    'Descent': 'Landing',\n",
    "    'Cruise': 'Cruise',\n",
    "    'Maneuvering': 'Other',  # Could be considered \"Other\" if it doesn't fit major categories\n",
    "    'Taxi': 'Other',\n",
    "    'Standing': 'Other',\n",
    "    'Unknown': 'Unknown',\n",
    "    'Other': 'Other'\n",
    "})\n",
    "\n",
    "# Check the updated values in Broad.phase.of.flight\n",
    "print(df['Broad.phase.of.flight'].value_counts())\n"
   ]
  }
 ],
 "metadata": {
  "kernelspec": {
   "display_name": "base",
   "language": "python",
   "name": "python3"
  },
  "language_info": {
   "codemirror_mode": {
    "name": "ipython",
    "version": 3
   },
   "file_extension": ".py",
   "mimetype": "text/x-python",
   "name": "python",
   "nbconvert_exporter": "python",
   "pygments_lexer": "ipython3",
   "version": "3.11.5"
  }
 },
 "nbformat": 4,
 "nbformat_minor": 2
}
