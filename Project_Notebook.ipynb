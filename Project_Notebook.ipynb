{
 "cells": [
  {
   "cell_type": "markdown",
   "metadata": {},
   "source": [
    "## Final Project Submission\n",
    "\n",
    "Please fill out:\n",
    "* Student name: George Kariuki\n",
    "* Student pace: part time \n",
    "* Scheduled project review date/time: 29/04/2025\n",
    "* Instructor name: George Kamundia\n",
    "* [Github repo URL](https://github.com/g-eez/dsc-phase-1-project.git)\n"
   ]
  },
  {
   "cell_type": "markdown",
   "metadata": {},
   "source": [
    "# 1. Business Understanding\n",
    "\n",
    "## Project Context\n",
    "\n",
    "Wilson Airport is expanding its operations to include aircraft acquisition for commercial and private aviation services in North and South America. However, before investing billions of kenyan shillings into purchasing aircraft, the airport's Board of Directors requires a comprehensive risk assessment based on historical safety data.\n",
    "\n",
    "The primary objective of this project is to leverage historical aviation accident data (1962–2023) to identify **low-risk aircraft makes and models** that would be suitable for purchase. The findings of this analysis will directly influence Wilson Airport's procurement strategy and fleet composition.\n",
    "\n",
    "As data scientists, our role is to provide **data-driven insights** that support **strategic decision-making**, reduce **investment risk**, and promote **operational safety**.\n",
    "\n",
    "---\n",
    "\n",
    "## Business Questions\n",
    "\n",
    "The business questions we are tasked to address are:\n",
    "\n",
    "1. **Which Aircraft Makes and Models Have the Lowest Accident and Fatality Rates?**  \n",
    "\n",
    "2. **Are Newer Aircraft Models Statistically Safer Than Older Models?**  \n",
    "\n",
    "3. **Which Aircraft Categories and Configurations Should Be Preferred or Avoided?** \n",
    "\n",
    "4. **Which Aircraft is Best Suited for a Specific Country?**:  \n",
    "\n",
    "5. **Which Aircraft Handles Injuries and Damage Better?**:\n",
    "\n",
    "---\n",
    "\n",
    "## Stakeholders\n",
    "\n",
    "The key stakeholders who will rely on our findings include:\n",
    "\n",
    "- **Board of Directors, Wilson Airport**  \n",
    "  (Require high-level recommendations to inform aircraft purchasing decisions.)\n",
    "\n",
    "- **Procurement and Acquisition Team**  \n",
    "  (Need specific lists of recommended aircraft makes/models.)\n",
    "\n",
    "- **Operations and Safety Department**  \n",
    "  (Interested in trends related to aircraft safety history to adjust operational protocols.)\n",
    "\n",
    "- **Investors and Financial Partners**  \n",
    "  (Seek assurance that fleet investments are made into safer, lower-risk assets.)\n",
    "\n",
    "- **Insurance Providers**  \n",
    "  (May adjust premiums based on evidence of risk levels associated with the selected aircraft.)\n",
    "\n",
    "---\n",
    "\n",
    "## Expectations and Deliverables\n",
    "\n",
    "In addition to answering the specific business questions outlined, we are expected to:\n",
    "\n",
    "-  Perform data quality checks, basic cleaning, and exploratory analysis.\n",
    "-  Use **visualizations** (bar charts, line graphs, pie charts) to highlight important findings clearly and simply.\n",
    "-  Maintain a **reproducible, clean Jupyter Notebook** with clear Markdown framing and idiomatic code.\n",
    "-  Provide **three clear, actionable business recommendations**.\n",
    "-  Summarize findings in a **non-technical presentation** for business stakeholders.\n",
    "-  Develop an **interactive dashboard** to explore accident trends and severity distributions.\n",
    "\n",
    "---\n",
    "\n",
    "## Business Value\n",
    "\n",
    "The ability to make **evidence-based fleet acquisition decisions** will:\n",
    "\n",
    "-  Reduce financial risks associated with buying unsafe or unreliable aircraft.\n",
    "-  Increase customer confidence and brand reputation for Wilson Airport's new operations.\n",
    "-  Improve long-term operational safety and minimize insurance costs.\n",
    "\n",
    "By transforming raw historical data into meaningful, strategic insights, we enable Wilson Airport to make smart, safe, and profitable business moves.\n",
    "\n",
    "---\n",
    "\n"
   ]
  },
  {
   "cell_type": "markdown",
   "metadata": {},
   "source": [
    "# 2. Data Understanding\n",
    "\n",
    "In this section, we aim to build a strong understanding of the aviation accident dataset.  \n",
    "Before any cleaning, transformation, or analysis can take place, it is critical to:\n",
    "\n",
    "- Explore the **overall structure** of the data.\n",
    "- Assess the **completeness and quality** of the data.\n",
    "- Understand the **meaning and role** of key columns.\n",
    "- Detect any **missing values**, **strange data types**, or **anomalies**.\n",
    "- Identify **time coverage** and any potential **bias** in the dataset.\n",
    "\n",
    "**The specific steps we will follow:**\n",
    "\n",
    "1. **Import libraries** required for data manipulation and visualization.\n",
    "2. **Load** the dataset into a pandas DataFrame\n",
    "3. **Inspect** the dataset’s structure (columns, data types, non-null counts).\n",
    "4. **Preview** sample records to understand typical entries.\n",
    "5. **Summarize** the dataset with basic descriptive statistics.\n",
    "6. **Check for missing values** across all columns.\n",
    "7. **Investigate key features** such as:\n",
    "   - Aircraft Make\n",
    "   - Aircraft Model\n",
    "   - Event Date\n",
    "   - Injury Severity\n",
    "   - Aircraft Category\n",
    "8. **Review time coverage**: What time range does the dataset cover?\n",
    "9. **Identify data quality issues**, inconsistencies, or potential cleaning needs.\n",
    "10. **Document** initial findings that will inform data cleaning and preparation steps later.\n",
    "\n",
    "> Data understanding is a foundation of all strong data science projects. Skipping this phase risks introducing errors, misinterpretations, and poor business recommendations.\n"
   ]
  },
  {
   "cell_type": "markdown",
   "metadata": {},
   "source": [
    "## Step 1: Import Required Libraries\n",
    "\n",
    "To begin our data exploration, we need to import important Python libraries:\n",
    "\n",
    "- **pandas**: for handling and manipulating dataframes.\n",
    "- **numpy**: for numerical operations.\n",
    "- **matplotlib** and **seaborn**: for creating visualizations to better understand patterns and trends in the data.\n"
   ]
  },
  {
   "cell_type": "code",
   "execution_count": 1030,
   "metadata": {},
   "outputs": [],
   "source": [
    "# Your code here - remember to use markdown cells for comments as well!\n",
    "# Import essential libraries\n",
    "import pandas as pd\n",
    "import numpy as np\n",
    "import matplotlib.pyplot as plt\n",
    "import seaborn as sns\n",
    "\n",
    "# Set seaborn theme\n",
    "sns.set_theme(style=\"whitegrid\")\n",
    "plt.style.use('seaborn-v0_8-whitegrid')\n",
    "sns.set_palette(\"Set2\")\n",
    "plt.rcParams['figure.figsize'] = (14, 8)\n",
    "plt.rcParams['font.size'] = 12\n"
   ]
  },
  {
   "cell_type": "markdown",
   "metadata": {},
   "source": [
    "## Step 2: Load the Aviation Dataset\n",
    "\n",
    "We will now load the aviation accident dataset into a pandas DataFrame for inspection.\n",
    "\n",
    "Our goal in this step:\n",
    "- Read the `.csv` file into memory.\n",
    "\n",
    "## Step 3: Inspect the Dataset Structure\n",
    "\n",
    "At this stage, we use the `.info()` method to inspect the **structure** of the aviation accident dataset.\n",
    "\n",
    "**Purpose**:\n",
    "- Understand the **number of records** and **columns**.\n",
    "- Check **data types** of each feature (object, float, etc.).\n",
    "- See **how many non-null entries** exist for each column (helps spot missing data early).\n",
    "\n",
    "**Findings**:\n",
    "- The dataset contains **90,348 records** and **31 columns**.\n",
    "- Most columns are of **object** type (i.e., text or mixed data).\n",
    "- Some columns (e.g., `Number.of.Engines`) are **numerical** (`float64`).\n",
    "- Many important fields such as `Latitude`, `Longitude`, `Aircraft.Category`, and `FAR.Description` have **significant missing data**.\n",
    "- Critical fields like `Event.Id`, `Accident.Number`, and `Event.Date` are mostly complete but **not 100% complete**.\n",
    "\n",
    "**Next Step**:\n",
    "- We will preview a few sample rows to get a better feel for what typical records look like.\n",
    "\n"
   ]
  },
  {
   "cell_type": "code",
   "execution_count": 1031,
   "metadata": {},
   "outputs": [
    {
     "name": "stderr",
     "output_type": "stream",
     "text": [
      "C:\\Users\\HP\\AppData\\Local\\Temp\\ipykernel_15652\\524183646.py:2: DtypeWarning: Columns (6,7,28) have mixed types. Specify dtype option on import or set low_memory=False.\n",
      "  df = pd.read_csv('data/Aviation_Data.csv')\n"
     ]
    },
    {
     "name": "stdout",
     "output_type": "stream",
     "text": [
      "<class 'pandas.core.frame.DataFrame'>\n",
      "RangeIndex: 90348 entries, 0 to 90347\n",
      "Data columns (total 31 columns):\n",
      " #   Column                  Non-Null Count  Dtype  \n",
      "---  ------                  --------------  -----  \n",
      " 0   Event.Id                88889 non-null  object \n",
      " 1   Investigation.Type      90348 non-null  object \n",
      " 2   Accident.Number         88889 non-null  object \n",
      " 3   Event.Date              88889 non-null  object \n",
      " 4   Location                88837 non-null  object \n",
      " 5   Country                 88663 non-null  object \n",
      " 6   Latitude                34382 non-null  object \n",
      " 7   Longitude               34373 non-null  object \n",
      " 8   Airport.Code            50132 non-null  object \n",
      " 9   Airport.Name            52704 non-null  object \n",
      " 10  Injury.Severity         87889 non-null  object \n",
      " 11  Aircraft.damage         85695 non-null  object \n",
      " 12  Aircraft.Category       32287 non-null  object \n",
      " 13  Registration.Number     87507 non-null  object \n",
      " 14  Make                    88826 non-null  object \n",
      " 15  Model                   88797 non-null  object \n",
      " 16  Amateur.Built           88787 non-null  object \n",
      " 17  Number.of.Engines       82805 non-null  float64\n",
      " 18  Engine.Type             81793 non-null  object \n",
      " 19  FAR.Description         32023 non-null  object \n",
      " 20  Schedule                12582 non-null  object \n",
      " 21  Purpose.of.flight       82697 non-null  object \n",
      " 22  Air.carrier             16648 non-null  object \n",
      " 23  Total.Fatal.Injuries    77488 non-null  float64\n",
      " 24  Total.Serious.Injuries  76379 non-null  float64\n",
      " 25  Total.Minor.Injuries    76956 non-null  float64\n",
      " 26  Total.Uninjured         82977 non-null  float64\n",
      " 27  Weather.Condition       84397 non-null  object \n",
      " 28  Broad.phase.of.flight   61724 non-null  object \n",
      " 29  Report.Status           82505 non-null  object \n",
      " 30  Publication.Date        73659 non-null  object \n",
      "dtypes: float64(5), object(26)\n",
      "memory usage: 21.4+ MB\n"
     ]
    }
   ],
   "source": [
    "# Load the aviation accident dataset\n",
    "df = pd.read_csv('data/Aviation_Data.csv')\n",
    "\n",
    "# Display basic information about the dataset\n",
    "df.info()\n"
   ]
  },
  {
   "cell_type": "markdown",
   "metadata": {},
   "source": [
    "## Step 4: Preview Sample Records with `.head()`\n",
    "\n",
    "The `.head()` method displays the **first five rows** of the dataset by default. This provides a quick look at typical entries and helps us understand:\n",
    "\n",
    "* How the data is formatted (e.g., date formats, use of capital letters, empty cells).\n",
    "* Common values in important columns like `Make`, `Model`, `Event.Date`, `Injury.Severity`, and `Aircraft.damage`.\n",
    "* Which fields are frequently blank or contain placeholder values.\n",
    "\n",
    "From the preview, we observed:\n",
    "\n",
    "* Many records lack geographic data (`Latitude`, `Longitude`) and airport details.\n",
    "* Common accident descriptors include values like `\"Fatal(2)\"` in `Injury.Severity`, `\"Destroyed\"` in `Aircraft.damage`, and `\"Reciprocating\"` in `Engine.Type`.\n",
    "* Aircraft manufacturers like `Cessna`, `Piper`, and `Stinson` appear multiple times.\n",
    "* Some columns, such as `FAR.Description` and `Air.carrier`, are often empty or unused.\n",
    "\n",
    "This helps build early familiarity with the data and surfaces potential quality issues we'll address in later steps."
   ]
  },
  {
   "cell_type": "code",
   "execution_count": 1032,
   "metadata": {},
   "outputs": [
    {
     "data": {
      "application/vnd.microsoft.datawrangler.viewer.v0+json": {
       "columns": [
        {
         "name": "index",
         "rawType": "int64",
         "type": "integer"
        },
        {
         "name": "Event.Id",
         "rawType": "object",
         "type": "string"
        },
        {
         "name": "Investigation.Type",
         "rawType": "object",
         "type": "string"
        },
        {
         "name": "Accident.Number",
         "rawType": "object",
         "type": "string"
        },
        {
         "name": "Event.Date",
         "rawType": "object",
         "type": "string"
        },
        {
         "name": "Location",
         "rawType": "object",
         "type": "string"
        },
        {
         "name": "Country",
         "rawType": "object",
         "type": "string"
        },
        {
         "name": "Latitude",
         "rawType": "object",
         "type": "unknown"
        },
        {
         "name": "Longitude",
         "rawType": "object",
         "type": "unknown"
        },
        {
         "name": "Airport.Code",
         "rawType": "object",
         "type": "unknown"
        },
        {
         "name": "Airport.Name",
         "rawType": "object",
         "type": "unknown"
        },
        {
         "name": "Injury.Severity",
         "rawType": "object",
         "type": "string"
        },
        {
         "name": "Aircraft.damage",
         "rawType": "object",
         "type": "string"
        },
        {
         "name": "Aircraft.Category",
         "rawType": "object",
         "type": "unknown"
        },
        {
         "name": "Registration.Number",
         "rawType": "object",
         "type": "string"
        },
        {
         "name": "Make",
         "rawType": "object",
         "type": "string"
        },
        {
         "name": "Model",
         "rawType": "object",
         "type": "string"
        },
        {
         "name": "Amateur.Built",
         "rawType": "object",
         "type": "string"
        },
        {
         "name": "Number.of.Engines",
         "rawType": "float64",
         "type": "float"
        },
        {
         "name": "Engine.Type",
         "rawType": "object",
         "type": "unknown"
        },
        {
         "name": "FAR.Description",
         "rawType": "object",
         "type": "unknown"
        },
        {
         "name": "Schedule",
         "rawType": "object",
         "type": "unknown"
        },
        {
         "name": "Purpose.of.flight",
         "rawType": "object",
         "type": "string"
        },
        {
         "name": "Air.carrier",
         "rawType": "object",
         "type": "unknown"
        },
        {
         "name": "Total.Fatal.Injuries",
         "rawType": "float64",
         "type": "float"
        },
        {
         "name": "Total.Serious.Injuries",
         "rawType": "float64",
         "type": "float"
        },
        {
         "name": "Total.Minor.Injuries",
         "rawType": "float64",
         "type": "float"
        },
        {
         "name": "Total.Uninjured",
         "rawType": "float64",
         "type": "float"
        },
        {
         "name": "Weather.Condition",
         "rawType": "object",
         "type": "string"
        },
        {
         "name": "Broad.phase.of.flight",
         "rawType": "object",
         "type": "string"
        },
        {
         "name": "Report.Status",
         "rawType": "object",
         "type": "string"
        },
        {
         "name": "Publication.Date",
         "rawType": "object",
         "type": "unknown"
        }
       ],
       "conversionMethod": "pd.DataFrame",
       "ref": "8137aefd-3da1-4981-85b1-5473b9f74dab",
       "rows": [
        [
         "0",
         "20001218X45444",
         "Accident",
         "SEA87LA080",
         "1948-10-24",
         "MOOSE CREEK, ID",
         "United States",
         null,
         null,
         null,
         null,
         "Fatal(2)",
         "Destroyed",
         null,
         "NC6404",
         "Stinson",
         "108-3",
         "No",
         "1.0",
         "Reciprocating",
         null,
         null,
         "Personal",
         null,
         "2.0",
         "0.0",
         "0.0",
         "0.0",
         "UNK",
         "Cruise",
         "Probable Cause",
         null
        ],
        [
         "1",
         "20001218X45447",
         "Accident",
         "LAX94LA336",
         "1962-07-19",
         "BRIDGEPORT, CA",
         "United States",
         null,
         null,
         null,
         null,
         "Fatal(4)",
         "Destroyed",
         null,
         "N5069P",
         "Piper",
         "PA24-180",
         "No",
         "1.0",
         "Reciprocating",
         null,
         null,
         "Personal",
         null,
         "4.0",
         "0.0",
         "0.0",
         "0.0",
         "UNK",
         "Unknown",
         "Probable Cause",
         "19-09-1996"
        ],
        [
         "2",
         "20061025X01555",
         "Accident",
         "NYC07LA005",
         "1974-08-30",
         "Saltville, VA",
         "United States",
         "36.922223",
         "-81.878056",
         null,
         null,
         "Fatal(3)",
         "Destroyed",
         null,
         "N5142R",
         "Cessna",
         "172M",
         "No",
         "1.0",
         "Reciprocating",
         null,
         null,
         "Personal",
         null,
         "3.0",
         null,
         null,
         null,
         "IMC",
         "Cruise",
         "Probable Cause",
         "26-02-2007"
        ],
        [
         "3",
         "20001218X45448",
         "Accident",
         "LAX96LA321",
         "1977-06-19",
         "EUREKA, CA",
         "United States",
         null,
         null,
         null,
         null,
         "Fatal(2)",
         "Destroyed",
         null,
         "N1168J",
         "Rockwell",
         "112",
         "No",
         "1.0",
         "Reciprocating",
         null,
         null,
         "Personal",
         null,
         "2.0",
         "0.0",
         "0.0",
         "0.0",
         "IMC",
         "Cruise",
         "Probable Cause",
         "12-09-2000"
        ],
        [
         "4",
         "20041105X01764",
         "Accident",
         "CHI79FA064",
         "1979-08-02",
         "Canton, OH",
         "United States",
         null,
         null,
         null,
         null,
         "Fatal(1)",
         "Destroyed",
         null,
         "N15NY",
         "Cessna",
         "501",
         "No",
         null,
         null,
         null,
         null,
         "Personal",
         null,
         "1.0",
         "2.0",
         null,
         "0.0",
         "VMC",
         "Approach",
         "Probable Cause",
         "16-04-1980"
        ]
       ],
       "shape": {
        "columns": 31,
        "rows": 5
       }
      },
      "text/html": [
       "<div>\n",
       "<style scoped>\n",
       "    .dataframe tbody tr th:only-of-type {\n",
       "        vertical-align: middle;\n",
       "    }\n",
       "\n",
       "    .dataframe tbody tr th {\n",
       "        vertical-align: top;\n",
       "    }\n",
       "\n",
       "    .dataframe thead th {\n",
       "        text-align: right;\n",
       "    }\n",
       "</style>\n",
       "<table border=\"1\" class=\"dataframe\">\n",
       "  <thead>\n",
       "    <tr style=\"text-align: right;\">\n",
       "      <th></th>\n",
       "      <th>Event.Id</th>\n",
       "      <th>Investigation.Type</th>\n",
       "      <th>Accident.Number</th>\n",
       "      <th>Event.Date</th>\n",
       "      <th>Location</th>\n",
       "      <th>Country</th>\n",
       "      <th>Latitude</th>\n",
       "      <th>Longitude</th>\n",
       "      <th>Airport.Code</th>\n",
       "      <th>Airport.Name</th>\n",
       "      <th>...</th>\n",
       "      <th>Purpose.of.flight</th>\n",
       "      <th>Air.carrier</th>\n",
       "      <th>Total.Fatal.Injuries</th>\n",
       "      <th>Total.Serious.Injuries</th>\n",
       "      <th>Total.Minor.Injuries</th>\n",
       "      <th>Total.Uninjured</th>\n",
       "      <th>Weather.Condition</th>\n",
       "      <th>Broad.phase.of.flight</th>\n",
       "      <th>Report.Status</th>\n",
       "      <th>Publication.Date</th>\n",
       "    </tr>\n",
       "  </thead>\n",
       "  <tbody>\n",
       "    <tr>\n",
       "      <th>0</th>\n",
       "      <td>20001218X45444</td>\n",
       "      <td>Accident</td>\n",
       "      <td>SEA87LA080</td>\n",
       "      <td>1948-10-24</td>\n",
       "      <td>MOOSE CREEK, ID</td>\n",
       "      <td>United States</td>\n",
       "      <td>NaN</td>\n",
       "      <td>NaN</td>\n",
       "      <td>NaN</td>\n",
       "      <td>NaN</td>\n",
       "      <td>...</td>\n",
       "      <td>Personal</td>\n",
       "      <td>NaN</td>\n",
       "      <td>2.0</td>\n",
       "      <td>0.0</td>\n",
       "      <td>0.0</td>\n",
       "      <td>0.0</td>\n",
       "      <td>UNK</td>\n",
       "      <td>Cruise</td>\n",
       "      <td>Probable Cause</td>\n",
       "      <td>NaN</td>\n",
       "    </tr>\n",
       "    <tr>\n",
       "      <th>1</th>\n",
       "      <td>20001218X45447</td>\n",
       "      <td>Accident</td>\n",
       "      <td>LAX94LA336</td>\n",
       "      <td>1962-07-19</td>\n",
       "      <td>BRIDGEPORT, CA</td>\n",
       "      <td>United States</td>\n",
       "      <td>NaN</td>\n",
       "      <td>NaN</td>\n",
       "      <td>NaN</td>\n",
       "      <td>NaN</td>\n",
       "      <td>...</td>\n",
       "      <td>Personal</td>\n",
       "      <td>NaN</td>\n",
       "      <td>4.0</td>\n",
       "      <td>0.0</td>\n",
       "      <td>0.0</td>\n",
       "      <td>0.0</td>\n",
       "      <td>UNK</td>\n",
       "      <td>Unknown</td>\n",
       "      <td>Probable Cause</td>\n",
       "      <td>19-09-1996</td>\n",
       "    </tr>\n",
       "    <tr>\n",
       "      <th>2</th>\n",
       "      <td>20061025X01555</td>\n",
       "      <td>Accident</td>\n",
       "      <td>NYC07LA005</td>\n",
       "      <td>1974-08-30</td>\n",
       "      <td>Saltville, VA</td>\n",
       "      <td>United States</td>\n",
       "      <td>36.922223</td>\n",
       "      <td>-81.878056</td>\n",
       "      <td>NaN</td>\n",
       "      <td>NaN</td>\n",
       "      <td>...</td>\n",
       "      <td>Personal</td>\n",
       "      <td>NaN</td>\n",
       "      <td>3.0</td>\n",
       "      <td>NaN</td>\n",
       "      <td>NaN</td>\n",
       "      <td>NaN</td>\n",
       "      <td>IMC</td>\n",
       "      <td>Cruise</td>\n",
       "      <td>Probable Cause</td>\n",
       "      <td>26-02-2007</td>\n",
       "    </tr>\n",
       "    <tr>\n",
       "      <th>3</th>\n",
       "      <td>20001218X45448</td>\n",
       "      <td>Accident</td>\n",
       "      <td>LAX96LA321</td>\n",
       "      <td>1977-06-19</td>\n",
       "      <td>EUREKA, CA</td>\n",
       "      <td>United States</td>\n",
       "      <td>NaN</td>\n",
       "      <td>NaN</td>\n",
       "      <td>NaN</td>\n",
       "      <td>NaN</td>\n",
       "      <td>...</td>\n",
       "      <td>Personal</td>\n",
       "      <td>NaN</td>\n",
       "      <td>2.0</td>\n",
       "      <td>0.0</td>\n",
       "      <td>0.0</td>\n",
       "      <td>0.0</td>\n",
       "      <td>IMC</td>\n",
       "      <td>Cruise</td>\n",
       "      <td>Probable Cause</td>\n",
       "      <td>12-09-2000</td>\n",
       "    </tr>\n",
       "    <tr>\n",
       "      <th>4</th>\n",
       "      <td>20041105X01764</td>\n",
       "      <td>Accident</td>\n",
       "      <td>CHI79FA064</td>\n",
       "      <td>1979-08-02</td>\n",
       "      <td>Canton, OH</td>\n",
       "      <td>United States</td>\n",
       "      <td>NaN</td>\n",
       "      <td>NaN</td>\n",
       "      <td>NaN</td>\n",
       "      <td>NaN</td>\n",
       "      <td>...</td>\n",
       "      <td>Personal</td>\n",
       "      <td>NaN</td>\n",
       "      <td>1.0</td>\n",
       "      <td>2.0</td>\n",
       "      <td>NaN</td>\n",
       "      <td>0.0</td>\n",
       "      <td>VMC</td>\n",
       "      <td>Approach</td>\n",
       "      <td>Probable Cause</td>\n",
       "      <td>16-04-1980</td>\n",
       "    </tr>\n",
       "  </tbody>\n",
       "</table>\n",
       "<p>5 rows × 31 columns</p>\n",
       "</div>"
      ],
      "text/plain": [
       "         Event.Id Investigation.Type Accident.Number  Event.Date  \\\n",
       "0  20001218X45444           Accident      SEA87LA080  1948-10-24   \n",
       "1  20001218X45447           Accident      LAX94LA336  1962-07-19   \n",
       "2  20061025X01555           Accident      NYC07LA005  1974-08-30   \n",
       "3  20001218X45448           Accident      LAX96LA321  1977-06-19   \n",
       "4  20041105X01764           Accident      CHI79FA064  1979-08-02   \n",
       "\n",
       "          Location        Country   Latitude  Longitude Airport.Code  \\\n",
       "0  MOOSE CREEK, ID  United States        NaN        NaN          NaN   \n",
       "1   BRIDGEPORT, CA  United States        NaN        NaN          NaN   \n",
       "2    Saltville, VA  United States  36.922223 -81.878056          NaN   \n",
       "3       EUREKA, CA  United States        NaN        NaN          NaN   \n",
       "4       Canton, OH  United States        NaN        NaN          NaN   \n",
       "\n",
       "  Airport.Name  ... Purpose.of.flight Air.carrier Total.Fatal.Injuries  \\\n",
       "0          NaN  ...          Personal         NaN                  2.0   \n",
       "1          NaN  ...          Personal         NaN                  4.0   \n",
       "2          NaN  ...          Personal         NaN                  3.0   \n",
       "3          NaN  ...          Personal         NaN                  2.0   \n",
       "4          NaN  ...          Personal         NaN                  1.0   \n",
       "\n",
       "  Total.Serious.Injuries Total.Minor.Injuries Total.Uninjured  \\\n",
       "0                    0.0                  0.0             0.0   \n",
       "1                    0.0                  0.0             0.0   \n",
       "2                    NaN                  NaN             NaN   \n",
       "3                    0.0                  0.0             0.0   \n",
       "4                    2.0                  NaN             0.0   \n",
       "\n",
       "  Weather.Condition  Broad.phase.of.flight   Report.Status Publication.Date  \n",
       "0               UNK                 Cruise  Probable Cause              NaN  \n",
       "1               UNK                Unknown  Probable Cause       19-09-1996  \n",
       "2               IMC                 Cruise  Probable Cause       26-02-2007  \n",
       "3               IMC                 Cruise  Probable Cause       12-09-2000  \n",
       "4               VMC               Approach  Probable Cause       16-04-1980  \n",
       "\n",
       "[5 rows x 31 columns]"
      ]
     },
     "execution_count": 1032,
     "metadata": {},
     "output_type": "execute_result"
    }
   ],
   "source": [
    "# Display the first five rows to understand the structure\n",
    "df.head()\n"
   ]
  },
  {
   "cell_type": "markdown",
   "metadata": {},
   "source": [
    "## Step 5: Summarize Dataset with Basic Descriptive Statistics (`.describe()`)\n",
    "\n",
    "We generated basic descriptive statistics for the key numeric columns. Here are the main findings:\n",
    "\n",
    "* **Number.of.Engines**\n",
    "   * Mean: ~1.15 engines per aircraft.\n",
    "   * Minimum: 0 (likely missing or error entries).\n",
    "   * Maximum: 8 engines (likely large multi-engine aircraft).\n",
    "* **Total.Fatal.Injuries**\n",
    "   * Mean: ~0.65 fatalities per accident.\n",
    "   * Standard Deviation: 5.49, indicating a wide spread — some accidents involve multiple fatalities.\n",
    "   * Maximum: 349 fatalities (outlier, possibly large-scale accidents).\n",
    "* **Total.Serious.Injuries**, **Total.Minor.Injuries**\n",
    "   * Both have low means (~0.28 to 0.36), suggesting most accidents involve few or no serious/minor injuries.\n",
    "* **Total.Uninjured**\n",
    "   * Mean: ~5.32 uninjured individuals per accident.\n",
    "   * High standard deviation (27.91), meaning in some cases, large groups of people were unharmed (e.g., commercial flights).\n",
    "\n",
    "**Insights:**\n",
    "* Most incidents involve small numbers of injuries or fatalities.\n",
    "* Some large outliers (e.g., 349 fatalities) suggest commercial or mass-casualty incidents.\n",
    "* Some accidents are recorded with 0 engines or 0 injuries, indicating data quality issues we'll need to handle later."
   ]
  },
  {
   "cell_type": "code",
   "execution_count": 1033,
   "metadata": {},
   "outputs": [
    {
     "data": {
      "application/vnd.microsoft.datawrangler.viewer.v0+json": {
       "columns": [
        {
         "name": "index",
         "rawType": "object",
         "type": "string"
        },
        {
         "name": "Number.of.Engines",
         "rawType": "float64",
         "type": "float"
        },
        {
         "name": "Total.Fatal.Injuries",
         "rawType": "float64",
         "type": "float"
        },
        {
         "name": "Total.Serious.Injuries",
         "rawType": "float64",
         "type": "float"
        },
        {
         "name": "Total.Minor.Injuries",
         "rawType": "float64",
         "type": "float"
        },
        {
         "name": "Total.Uninjured",
         "rawType": "float64",
         "type": "float"
        }
       ],
       "conversionMethod": "pd.DataFrame",
       "ref": "1b805347-d911-40da-9f31-dc482c32689a",
       "rows": [
        [
         "count",
         "82805.0",
         "77488.0",
         "76379.0",
         "76956.0",
         "82977.0"
        ],
        [
         "mean",
         "1.1465853511261397",
         "0.6478551517654346",
         "0.27988059545162935",
         "0.3570611778158948",
         "5.325439579642552"
        ],
        [
         "std",
         "0.44651021381976264",
         "5.485960107558412",
         "1.544083645233758",
         "2.2356253196561946",
         "27.913634431016277"
        ],
        [
         "min",
         "0.0",
         "0.0",
         "0.0",
         "0.0",
         "0.0"
        ],
        [
         "25%",
         "1.0",
         "0.0",
         "0.0",
         "0.0",
         "0.0"
        ],
        [
         "50%",
         "1.0",
         "0.0",
         "0.0",
         "0.0",
         "1.0"
        ],
        [
         "75%",
         "1.0",
         "0.0",
         "0.0",
         "0.0",
         "2.0"
        ],
        [
         "max",
         "8.0",
         "349.0",
         "161.0",
         "380.0",
         "699.0"
        ]
       ],
       "shape": {
        "columns": 5,
        "rows": 8
       }
      },
      "text/html": [
       "<div>\n",
       "<style scoped>\n",
       "    .dataframe tbody tr th:only-of-type {\n",
       "        vertical-align: middle;\n",
       "    }\n",
       "\n",
       "    .dataframe tbody tr th {\n",
       "        vertical-align: top;\n",
       "    }\n",
       "\n",
       "    .dataframe thead th {\n",
       "        text-align: right;\n",
       "    }\n",
       "</style>\n",
       "<table border=\"1\" class=\"dataframe\">\n",
       "  <thead>\n",
       "    <tr style=\"text-align: right;\">\n",
       "      <th></th>\n",
       "      <th>Number.of.Engines</th>\n",
       "      <th>Total.Fatal.Injuries</th>\n",
       "      <th>Total.Serious.Injuries</th>\n",
       "      <th>Total.Minor.Injuries</th>\n",
       "      <th>Total.Uninjured</th>\n",
       "    </tr>\n",
       "  </thead>\n",
       "  <tbody>\n",
       "    <tr>\n",
       "      <th>count</th>\n",
       "      <td>82805.000000</td>\n",
       "      <td>77488.000000</td>\n",
       "      <td>76379.000000</td>\n",
       "      <td>76956.000000</td>\n",
       "      <td>82977.000000</td>\n",
       "    </tr>\n",
       "    <tr>\n",
       "      <th>mean</th>\n",
       "      <td>1.146585</td>\n",
       "      <td>0.647855</td>\n",
       "      <td>0.279881</td>\n",
       "      <td>0.357061</td>\n",
       "      <td>5.325440</td>\n",
       "    </tr>\n",
       "    <tr>\n",
       "      <th>std</th>\n",
       "      <td>0.446510</td>\n",
       "      <td>5.485960</td>\n",
       "      <td>1.544084</td>\n",
       "      <td>2.235625</td>\n",
       "      <td>27.913634</td>\n",
       "    </tr>\n",
       "    <tr>\n",
       "      <th>min</th>\n",
       "      <td>0.000000</td>\n",
       "      <td>0.000000</td>\n",
       "      <td>0.000000</td>\n",
       "      <td>0.000000</td>\n",
       "      <td>0.000000</td>\n",
       "    </tr>\n",
       "    <tr>\n",
       "      <th>25%</th>\n",
       "      <td>1.000000</td>\n",
       "      <td>0.000000</td>\n",
       "      <td>0.000000</td>\n",
       "      <td>0.000000</td>\n",
       "      <td>0.000000</td>\n",
       "    </tr>\n",
       "    <tr>\n",
       "      <th>50%</th>\n",
       "      <td>1.000000</td>\n",
       "      <td>0.000000</td>\n",
       "      <td>0.000000</td>\n",
       "      <td>0.000000</td>\n",
       "      <td>1.000000</td>\n",
       "    </tr>\n",
       "    <tr>\n",
       "      <th>75%</th>\n",
       "      <td>1.000000</td>\n",
       "      <td>0.000000</td>\n",
       "      <td>0.000000</td>\n",
       "      <td>0.000000</td>\n",
       "      <td>2.000000</td>\n",
       "    </tr>\n",
       "    <tr>\n",
       "      <th>max</th>\n",
       "      <td>8.000000</td>\n",
       "      <td>349.000000</td>\n",
       "      <td>161.000000</td>\n",
       "      <td>380.000000</td>\n",
       "      <td>699.000000</td>\n",
       "    </tr>\n",
       "  </tbody>\n",
       "</table>\n",
       "</div>"
      ],
      "text/plain": [
       "       Number.of.Engines  Total.Fatal.Injuries  Total.Serious.Injuries  \\\n",
       "count       82805.000000          77488.000000            76379.000000   \n",
       "mean            1.146585              0.647855                0.279881   \n",
       "std             0.446510              5.485960                1.544084   \n",
       "min             0.000000              0.000000                0.000000   \n",
       "25%             1.000000              0.000000                0.000000   \n",
       "50%             1.000000              0.000000                0.000000   \n",
       "75%             1.000000              0.000000                0.000000   \n",
       "max             8.000000            349.000000              161.000000   \n",
       "\n",
       "       Total.Minor.Injuries  Total.Uninjured  \n",
       "count          76956.000000     82977.000000  \n",
       "mean               0.357061         5.325440  \n",
       "std                2.235625        27.913634  \n",
       "min                0.000000         0.000000  \n",
       "25%                0.000000         0.000000  \n",
       "50%                0.000000         1.000000  \n",
       "75%                0.000000         2.000000  \n",
       "max              380.000000       699.000000  "
      ]
     },
     "execution_count": 1033,
     "metadata": {},
     "output_type": "execute_result"
    }
   ],
   "source": [
    "# Summarize numeric columns with descriptive statistics\n",
    "df.describe()\n"
   ]
  },
  {
   "cell_type": "markdown",
   "metadata": {},
   "source": [
    "## Step 6: Check for Missing Values\n",
    "\n",
    "We checked for missing values across all columns. Here are the main findings:\n",
    "\n",
    "* Several columns have **substantial missing data**, particularly:\n",
    "  * `Schedule` (~77,766 missing)\n",
    "  * `Air.carrier` (~73,700 missing)\n",
    "  * `FAR.Description` (~58,325 missing)\n",
    "  * `Aircraft.Category` (~58,061 missing)\n",
    "  * `Latitude` and `Longitude` (~55,000 missing each)\n",
    "* Operational details like `Airport.Code`, `Airport.Name`, and `Broad.phase.of.flight` also have notable gaps.\n",
    "* Critical outcome columns like `Total.Fatal.Injuries`, `Total.Serious.Injuries`, and `Total.Minor.Injuries` have around ~13,000 missing values.\n",
    "* Core identifiers like `Event.Id`, `Event.Date`, and `Accident.Number` are missing for about ~1,459 records.\n",
    "\n",
    "**Implications:**\n",
    "* We may need to **drop** or **impute** certain columns depending on their importance for our analysis.\n",
    "* Some columns with very high missingness (e.g., `Schedule`, `Air.carrier`) may not be reliable for modeling or analysis."
   ]
  },
  {
   "cell_type": "code",
   "execution_count": 1034,
   "metadata": {},
   "outputs": [
    {
     "data": {
      "text/plain": [
       "Schedule                  77766\n",
       "Air.carrier               73700\n",
       "FAR.Description           58325\n",
       "Aircraft.Category         58061\n",
       "Longitude                 55975\n",
       "Latitude                  55966\n",
       "Airport.Code              40216\n",
       "Airport.Name              37644\n",
       "Broad.phase.of.flight     28624\n",
       "Publication.Date          16689\n",
       "Total.Serious.Injuries    13969\n",
       "Total.Minor.Injuries      13392\n",
       "Total.Fatal.Injuries      12860\n",
       "Engine.Type                8555\n",
       "Report.Status              7843\n",
       "Purpose.of.flight          7651\n",
       "Number.of.Engines          7543\n",
       "Total.Uninjured            7371\n",
       "Weather.Condition          5951\n",
       "Aircraft.damage            4653\n",
       "Registration.Number        2841\n",
       "Injury.Severity            2459\n",
       "Country                    1685\n",
       "Amateur.Built              1561\n",
       "Model                      1551\n",
       "Make                       1522\n",
       "Location                   1511\n",
       "Event.Date                 1459\n",
       "Accident.Number            1459\n",
       "Event.Id                   1459\n",
       "dtype: int64"
      ]
     },
     "execution_count": 1034,
     "metadata": {},
     "output_type": "execute_result"
    }
   ],
   "source": [
    "# Check for missing values across all columns\n",
    "missing_values = df.isnull().sum().sort_values(ascending=False)\n",
    "\n",
    "# Display columns with missing values\n",
    "missing_values[missing_values > 0]\n"
   ]
  },
  {
   "cell_type": "markdown",
   "metadata": {},
   "source": [
    "## Step 7: Investigate Key Features\n",
    "\n",
    "We have explored the following key features to gather insights:\n",
    "\n",
    "* **Aircraft Make**:\n",
    "  * The top manufacturers are **Cessna** (22,227 occurrences) and **Piper** (12,029 occurrences), with a mix of capitalizations (e.g., `Cessna` vs. `CESSNA`, `Piper` vs. `PIPER`) indicating potential inconsistencies in the data.\n",
    "* **Aircraft Model**:\n",
    "  * **Cessna 152** (2,367 occurrences) and **Cessna 172** (1,756 occurrences) are the most common models. There are also a few rare models like \"Rocket\" and \"ULTR,\" which might require further validation due to their low counts.\n",
    "* **Event Date**:\n",
    "  * The dataset spans from **October 24, 1948**, to **December 29, 2022**, providing a broad range of data over several decades.\n",
    "* **Injury Severity**:\n",
    "  * Most accidents were **Non-Fatal** (67,357 occurrences), with a smaller number of **Fatal** accidents. Notably, there are several variations of \"Fatal\" (e.g., **Fatal(1)**, **Fatal(2)**), which should be cleaned and standardized for better analysis.\n",
    "* **Aircraft Category**:\n",
    "  * The majority of accidents involve **Airplanes** (27,617 occurrences), followed by **Helicopters** (3,440 occurrences). There are also smaller numbers of **Gliders**, **Balloons**, and other aircraft types."
   ]
  },
  {
   "cell_type": "code",
   "execution_count": 1035,
   "metadata": {},
   "outputs": [
    {
     "name": "stdout",
     "output_type": "stream",
     "text": [
      "Aircraft Make:\n",
      " Make\n",
      "Cessna     22227\n",
      "Piper      12029\n",
      "CESSNA      4922\n",
      "Beech       4330\n",
      "PIPER       2841\n",
      "Bell        2134\n",
      "Boeing      1594\n",
      "BOEING      1151\n",
      "Grumman     1094\n",
      "Mooney      1092\n",
      "Name: count, dtype: int64 \n",
      "\n",
      "Aircraft Model:\n",
      " Model\n",
      "152          2367\n",
      "172          1756\n",
      "172N         1164\n",
      "PA-28-140     932\n",
      "150           829\n",
      "172M          798\n",
      "172P          689\n",
      "182           659\n",
      "180           622\n",
      "150M          585\n",
      "Name: count, dtype: int64 \n",
      "\n",
      "Event Date Range:\n",
      " 1948-10-24 00:00:00 to 2022-12-29 00:00:00 \n",
      "\n",
      "Injury Severity:\n",
      " Injury.Severity\n",
      "Non-Fatal     67357\n",
      "Fatal(1)       6167\n",
      "Fatal          5262\n",
      "Fatal(2)       3711\n",
      "Incident       2219\n",
      "              ...  \n",
      "Fatal(270)        1\n",
      "Fatal(60)         1\n",
      "Fatal(43)         1\n",
      "Fatal(143)        1\n",
      "Fatal(230)        1\n",
      "Name: count, Length: 109, dtype: int64 \n",
      "\n",
      "Aircraft Category:\n",
      " Aircraft.Category\n",
      "Airplane             27617\n",
      "Helicopter            3440\n",
      "Glider                 508\n",
      "Balloon                231\n",
      "Gyrocraft              173\n",
      "Weight-Shift           161\n",
      "Powered Parachute       91\n",
      "Ultralight              30\n",
      "Unknown                 14\n",
      "WSFT                     9\n",
      "Powered-Lift             5\n",
      "Blimp                    4\n",
      "UNK                      2\n",
      "Rocket                   1\n",
      "ULTR                     1\n",
      "Name: count, dtype: int64 \n",
      "\n"
     ]
    }
   ],
   "source": [
    "# Convert Event.Date to datetime\n",
    "df['Event.Date'] = pd.to_datetime(df['Event.Date'], errors='coerce')\n",
    "\n",
    "# Investigate important categorical features\n",
    "print(\"Aircraft Make:\\n\", df['Make'].value_counts().head(10), \"\\n\")\n",
    "print(\"Aircraft Model:\\n\", df['Model'].value_counts().head(10), \"\\n\")\n",
    "print(\"Event Date Range:\\n\", df['Event.Date'].min(), \"to\", df['Event.Date'].max(), \"\\n\")\n",
    "print(\"Injury Severity:\\n\", df['Injury.Severity'].value_counts(), \"\\n\")\n",
    "print(\"Aircraft Category:\\n\", df['Aircraft.Category'].value_counts(), \"\\n\")\n"
   ]
  },
  {
   "cell_type": "markdown",
   "metadata": {},
   "source": [
    "## Step 8: Review Time Coverage\n",
    "\n",
    "The dataset spans from **October 24, 1948**, to **December 29, 2022**, covering more than **74 years** of data. This broad time range gives us a comprehensive view of aviation accidents over several decades, including both historical and more recent incidents."
   ]
  },
  {
   "cell_type": "code",
   "execution_count": 1036,
   "metadata": {},
   "outputs": [
    {
     "name": "stdout",
     "output_type": "stream",
     "text": [
      "Time range covered by Event.Date: 1948-10-24 00:00:00 to 2022-12-29 00:00:00\n"
     ]
    }
   ],
   "source": [
    "# Review time coverage of the dataset\n",
    "print(\"Time range covered by Event.Date:\", df['Event.Date'].min(), \"to\", df['Event.Date'].max())"
   ]
  },
  {
   "cell_type": "markdown",
   "metadata": {},
   "source": [
    "## Step 9: Identify Data Quality Issues\n",
    "\n",
    "Here are the findings from the **data quality check**:\n",
    "\n",
    "* **Duplicate Rows**:\n",
    "  * There are **1,390 duplicate rows** in the dataset. These should be removed to ensure the analysis is accurate and not biased by repeated entries.\n",
    "* **Columns with Missing Values**:\n",
    "  * Several columns have high percentages of missing values, particularly:\n",
    "     * **Latitude** (61.94% missing)\n",
    "     * **Longitude** (61.95% missing)\n",
    "     * **Aircraft.Category** (64.26% missing)\n",
    "     * **FAR.Description** (64.56% missing)\n",
    "     * **Schedule** (86.07% missing)\n",
    "     * **Air.carrier** (81.57% missing)\n",
    "  * These missing values may need to be imputed, dropped, or handled depending on the importance of these columns in answering the business questions.\n",
    "* **Data Types**:\n",
    "  * **Event.Date** has been correctly converted to `datetime64[ns]`, which will be useful for time series analysis.\n",
    "  * Several columns such as **Latitude** and **Longitude** are still of type `object`. These should ideally be converted to numeric types for proper analysis.\n",
    "  * Columns like **Number.of.Engines**, **Total.Fatal.Injuries**, **Total.Serious.Injuries**, etc., are already of type `float64`, which is appropriate for numerical analysis."
   ]
  },
  {
   "cell_type": "code",
   "execution_count": 1037,
   "metadata": {},
   "outputs": [
    {
     "name": "stdout",
     "output_type": "stream",
     "text": [
      "Number of duplicate rows: 1390\n",
      "Columns with missing values percentage:\n",
      "Latitude             61.944924\n",
      "Longitude            61.954886\n",
      "Aircraft.Category    64.263736\n",
      "FAR.Description      64.555939\n",
      "Schedule             86.073848\n",
      "Air.carrier          81.573471\n",
      "dtype: float64\n",
      "Data Types:\n",
      " Event.Id                          object\n",
      "Investigation.Type                object\n",
      "Accident.Number                   object\n",
      "Event.Date                datetime64[ns]\n",
      "Location                          object\n",
      "Country                           object\n",
      "Latitude                          object\n",
      "Longitude                         object\n",
      "Airport.Code                      object\n",
      "Airport.Name                      object\n",
      "Injury.Severity                   object\n",
      "Aircraft.damage                   object\n",
      "Aircraft.Category                 object\n",
      "Registration.Number               object\n",
      "Make                              object\n",
      "Model                             object\n",
      "Amateur.Built                     object\n",
      "Number.of.Engines                float64\n",
      "Engine.Type                       object\n",
      "FAR.Description                   object\n",
      "Schedule                          object\n",
      "Purpose.of.flight                 object\n",
      "Air.carrier                       object\n",
      "Total.Fatal.Injuries             float64\n",
      "Total.Serious.Injuries           float64\n",
      "Total.Minor.Injuries             float64\n",
      "Total.Uninjured                  float64\n",
      "Weather.Condition                 object\n",
      "Broad.phase.of.flight             object\n",
      "Report.Status                     object\n",
      "Publication.Date                  object\n",
      "dtype: object\n"
     ]
    }
   ],
   "source": [
    "# Check for duplicate rows in the dataset\n",
    "duplicates = df.duplicated().sum()\n",
    "print(f\"Number of duplicate rows: {duplicates}\")\n",
    "\n",
    "# Identify columns with high percentages of missing values\n",
    "missing_values = df.isnull().mean() * 100\n",
    "print(f\"Columns with missing values percentage:\\n{missing_values[missing_values > 50]}\")\n",
    "\n",
    "# Review data types to ensure they are correct\n",
    "print(\"Data Types:\\n\", df.dtypes)\n"
   ]
  },
  {
   "cell_type": "markdown",
   "metadata": {},
   "source": [
    "# Data Preparation (Cleaning the Data)\n",
    "\n",
    "## Remove Duplicate Rows\n",
    "\n",
    "* Ensure each accident record is unique to prevent skewing results.\n",
    "* Use:\n",
    "\n",
    "    ```python\n",
    "    df.drop_duplicates(keep='first', inplace=True)\n",
    "    ```\n",
    "* Track the number and percentage of duplicates removed.\n",
    "\n",
    "## Handle Missing Data in Key Columns\n",
    "\n",
    "* Focus only on columns essential to business insights:\n",
    "\n",
    "    ###   Geographic Analysis\n",
    "\n",
    "    * `Latitude`, `Longitude`: Create a binary column `Location.Available` and filter rows where both are available (i.e., both latitude and longitude are not missing).\n",
    "    * `Country`, `Location`: Drop or impute if missing (not critical for analysis but helpful for geographical insights).\n",
    "\n",
    "    ###   Aircraft Characteristics\n",
    "\n",
    "    * `Make`, `Model`: Drop rows with missing values as these are key to understanding aircraft data.\n",
    "    * `Aircraft.Category`: Drop rows with missing data since it’s important for category-based analysis.\n",
    "\n",
    "    ###   Severity and Injury Analysis\n",
    "\n",
    "    * `Injury.Severity`: Drop records with missing severity, as it's a key factor for any injury-related analysis.\n",
    "    * `Total.Fatal.Injuries`, `Total.Serious.Injuries`, `Total.Minor.Injuries`, `Total.Uninjured`: Drop rows with missing values to ensure valid analysis of injury counts.\n",
    "\n",
    "    ###   Operational Context\n",
    "\n",
    "    * `Broad.phase.of.flight`: This column is not essential for core analysis, so it was excluded.\n",
    "    * `Weather.Condition`: Drop rows with missing weather conditions to ensure the validity of weather-related analysis.\n",
    "\n",
    "    ###   Aircraft Damage\n",
    "\n",
    "    * `Aircraft.damage`: Drop rows with missing values as it’s crucial to correlate damage with injuries.\n",
    "\n",
    "## Convert Data Types\n",
    "\n",
    "* Convert `Latitude` and `Longitude` to `float64`, ensuring they are within valid geographic ranges.\n",
    "* Ensure `Event.Date` and `Publication.Date` are in `datetime64[ns]` format.\n",
    "* Convert injury and engine count fields to numeric types (either `float64` or `int64`).\n",
    "\n",
    "## Standardize Categorical Values\n",
    "\n",
    "* `Make`: Normalize case (e.g., \"CESSNA\", \"Cessna\" → \"Cessna\").\n",
    "* `Injury.Severity`: Simplify into standard levels (e.g., \"Fatal\", \"Non-Fatal\", \"Incident\").\n",
    "* `Aircraft.Category`: Normalize and group rare values as \"Other\".\n",
    "* `Broad.phase.of.flight`: Group into broad categories (e.g., Takeoff, Cruise, Landing) if relevant.\n",
    "\n",
    "## Validate Data Consistency\n",
    "\n",
    "* Cross-check injury counts against `Injury.Severity`.\n",
    "* Validate engine count against aircraft category.\n",
    "* Ensure there are no contradictory values (e.g., \"Fatal\" with all injury counts = 0).\n",
    "\n",
    "## Final Processing\n",
    "\n",
    "* Reset index after all cleaning:\n",
    "\n",
    "    ```python\n",
    "    df.reset_index(drop=True, inplace=True)\n",
    "    ```\n",
    "* Output cleaned row count and summary statistics.\n",
    "* Prepare the cleaned dataset for visualization and analysis.\n"
   ]
  },
  {
   "cell_type": "markdown",
   "metadata": {},
   "source": [
    "## 1. Remove Duplicate Rows\n",
    "\n",
    "**Objective:**  \n",
    "Ensure data integrity by removing duplicate records, which can lead to bias in analysis and inaccurate results.\n",
    "\n",
    "**Steps Taken:**\n",
    "\n",
    "- Identified and removed duplicate rows from the dataset.\n",
    "- Used the pandas function `df.drop_duplicates(keep='first')` to retain only the first occurrence of each unique record.\n",
    "  \n",
    "**Findings:**\n",
    "\n",
    "- **Number of duplicates removed:** 0\n",
    "- **Percentage of duplicates removed:** 0.00%\n",
    "\n",
    "**Conclusion:**  \n",
    "No duplicate records were found in the dataset, so no rows were removed. The dataset remains unchanged in terms of duplicate records.\n"
   ]
  },
  {
   "cell_type": "code",
   "execution_count": 1038,
   "metadata": {},
   "outputs": [
    {
     "name": "stdout",
     "output_type": "stream",
     "text": [
      "Number of duplicates removed: 0\n",
      "Percentage of duplicates removed: 0.00%\n"
     ]
    }
   ],
   "source": [
    "# Remove duplicate rows\n",
    "df = df.drop_duplicates(keep='first')\n",
    "\n",
    "# Output the number of duplicates removed and the percentage\n",
    "duplicates_removed = df.duplicated().sum()\n",
    "total_records = len(df)\n",
    "percentage_removed = (duplicates_removed / total_records) * 100\n",
    "\n",
    "print(f\"Number of duplicates removed: {duplicates_removed}\")\n",
    "print(f\"Percentage of duplicates removed: {percentage_removed:.2f}%\")\n",
    "\n"
   ]
  },
  {
   "cell_type": "markdown",
   "metadata": {},
   "source": [
    "# 2: Handle Missing Data\n",
    "\n",
    "High-missingness columns (consider dropping if >70% missing):\n",
    "\n",
    "* `Schedule` (86.07% missing)\n",
    "* `Air.carrier` (81.57% missing)\n",
    "\n",
    "These columns exhibit substantial missing data and might not provide significant value to the analysis. Dropping them could streamline the dataset."
   ]
  },
  {
   "cell_type": "code",
   "execution_count": 1039,
   "metadata": {},
   "outputs": [
    {
     "name": "stdout",
     "output_type": "stream",
     "text": [
      "Columns with more than 70% missing:\n",
      "Index(['Schedule', 'Air.carrier'], dtype='object')\n",
      "\n"
     ]
    }
   ],
   "source": [
    "\n",
    "# Columns with more than 70% missing\n",
    "high_missing_cols = df.columns[df.isnull().mean() > 0.7]\n",
    "print(f\"Columns with more than 70% missing:\\n{high_missing_cols}\\n\")"
   ]
  },
  {
   "cell_type": "code",
   "execution_count": 1040,
   "metadata": {},
   "outputs": [],
   "source": [
    "# Drop columns with high missingness ( 'Schedule', 'Air.carrier'))\n",
    "df = df.drop(columns=high_missing_cols)"
   ]
  },
  {
   "cell_type": "markdown",
   "metadata": {},
   "source": [
    "### Handle Missing Data in Key Columns – Injury Severity\n",
    "\n",
    "**Action Taken:**\n",
    "- Dropped rows with missing `Injury.Severity`, which is essential for severity and injury analysis.\n",
    "- **Rows dropped**: 1,000\n",
    "- **New total rows**: 73,359\n",
    "\n",
    "**Rationale:**\n",
    "- The `Injury.Severity` column is critical for understanding the nature of accidents and their severity. Missing values here would significantly impact analysis related to injury severity classification and operational insights. Dropping rows with missing values ensures more accurate analysis. \n"
   ]
  },
  {
   "cell_type": "code",
   "execution_count": 1041,
   "metadata": {},
   "outputs": [
    {
     "data": {
      "text/plain": [
       "1069"
      ]
     },
     "execution_count": 1041,
     "metadata": {},
     "output_type": "execute_result"
    }
   ],
   "source": [
    "df['Injury.Severity'].isna().sum()\n"
   ]
  },
  {
   "cell_type": "code",
   "execution_count": 1042,
   "metadata": {},
   "outputs": [
    {
     "name": "stdout",
     "output_type": "stream",
     "text": [
      "Rows dropped due to missing Injury.Severity: 1069\n",
      "New total rows: 87889\n"
     ]
    }
   ],
   "source": [
    "# Store initial row count\n",
    "initial_row_count = df.shape[0]\n",
    "\n",
    "# Drop rows with missing Injury.Severity\n",
    "df.dropna(subset=['Injury.Severity'], inplace=True)\n",
    "\n",
    "# Report how many were dropped\n",
    "rows_dropped = initial_row_count - df.shape[0]\n",
    "print(f\"Rows dropped due to missing Injury.Severity: {rows_dropped}\")\n",
    "print(f\"New total rows: {df.shape[0]}\")\n"
   ]
  },
  {
   "cell_type": "markdown",
   "metadata": {},
   "source": [
    "To address missing geographic data (Latitude and Longitude), we created a binary feature called `Location.Available`. This feature indicates whether both `Latitude` and `Longitude` values are available for a given record:\n",
    "\n",
    "- **True**: Both `Latitude` and `Longitude` are non-null.\n",
    "- **False**: Either `Latitude` or `Longitude` is missing.\n",
    "\n",
    "This binary feature helps retain information about the presence or absence of geographic coordinates without discarding rows that may still be useful in analysis.\n",
    "\n",
    "\n"
   ]
  },
  {
   "cell_type": "code",
   "execution_count": 1043,
   "metadata": {},
   "outputs": [],
   "source": [
    "# For geographic data (Latitude and Longitude), consider creating a \"location available\" binary feature\n",
    "df['Location.Available'] = df['Latitude'].notna() & df['Longitude'].notna()"
   ]
  },
  {
   "cell_type": "code",
   "execution_count": 1044,
   "metadata": {},
   "outputs": [
    {
     "name": "stdout",
     "output_type": "stream",
     "text": [
      "Location.Available\n",
      "False    53755\n",
      "True     34134\n",
      "Name: count, dtype: int64\n",
      "    Latitude  Longitude  Location.Available\n",
      "0        NaN        NaN               False\n",
      "1        NaN        NaN               False\n",
      "2  36.922223 -81.878056                True\n",
      "3        NaN        NaN               False\n",
      "4        NaN        NaN               False\n"
     ]
    }
   ],
   "source": [
    "# Check the distribution of the new \"Location.Available\" feature\n",
    "print(df['Location.Available'].value_counts())\n",
    "\n",
    "# Preview some records where location is available and unavailable\n",
    "print(df[['Latitude', 'Longitude', 'Location.Available']].head())\n"
   ]
  },
  {
   "cell_type": "code",
   "execution_count": 1045,
   "metadata": {},
   "outputs": [
    {
     "name": "stdout",
     "output_type": "stream",
     "text": [
      "New total rows after dropping missing locations: 34134\n"
     ]
    }
   ],
   "source": [
    "# Drop rows where location data is not available\n",
    "df = df[df['Location.Available']]\n",
    "\n",
    "# Confirm the new shape\n",
    "print(f\"New total rows after dropping missing locations: {df.shape[0]}\")\n"
   ]
  },
  {
   "cell_type": "markdown",
   "metadata": {},
   "source": [
    "This ensures your dataset only includes records with valid event dates, which are crucial for time-based analysis like trends over years or months."
   ]
  },
  {
   "cell_type": "code",
   "execution_count": 1046,
   "metadata": {},
   "outputs": [
    {
     "name": "stdout",
     "output_type": "stream",
     "text": [
      "Remaining rows after dropping missing Event.Date: 34134\n"
     ]
    }
   ],
   "source": [
    "# Drop rows with missing Event.Date\n",
    "df.dropna(subset=['Event.Date'], inplace=True)\n",
    "\n",
    "# Confirm rows were dropped\n",
    "print(f\"Remaining rows after dropping missing Event.Date: {df.shape[0]}\")\n"
   ]
  },
  {
   "cell_type": "markdown",
   "metadata": {},
   "source": [
    "rows were dropped in the critical injury columns (`Total.Fatal.Injuries`, `Total.Serious.Injuries`, `Total.Minor.Injuries`, and `Total.Uninjured`) after checking for missing values."
   ]
  },
  {
   "cell_type": "code",
   "execution_count": 1047,
   "metadata": {},
   "outputs": [
    {
     "name": "stdout",
     "output_type": "stream",
     "text": [
      "Rows dropped: 11742 (Total rows before: 34134)\n"
     ]
    }
   ],
   "source": [
    "# Store the original row count before dropping rows\n",
    "original_row_count = df.shape[0]\n",
    "\n",
    "# Drop rows where any of the critical injury columns are missing\n",
    "df.dropna(subset=['Total.Fatal.Injuries', 'Total.Serious.Injuries', 'Total.Minor.Injuries', 'Total.Uninjured'], inplace=True)\n",
    "\n",
    "# Check how many rows were dropped\n",
    "print(f\"Rows dropped: {original_row_count - df.shape[0]} (Total rows before: {original_row_count})\")\n",
    "\n"
   ]
  },
  {
   "cell_type": "markdown",
   "metadata": {},
   "source": [
    "### Handle Missing Data in Aircraft Damage\n",
    "\n",
    "**Identify Missing Values:**\n",
    "\n",
    "We first check for any missing values in the `Aircraft.damage` column using the `.isnull().sum()` method.\n",
    "This helps us assess how many records have missing damage information.\n",
    "\n",
    "**Drop Rows with Missing Data:**\n",
    "\n",
    "We drop the rows where the `Aircraft.damage` column has missing values using the `.dropna(subset=['Aircraft.damage'])` method.\n",
    "This ensures that we only keep records where damage information is available for analysis.\n",
    "\n",
    "**Review Results:**\n",
    "\n",
    "After dropping the missing data, we check the updated number of rows in the dataset to ensure the operation was successful."
   ]
  },
  {
   "cell_type": "code",
   "execution_count": 1048,
   "metadata": {},
   "outputs": [
    {
     "name": "stdout",
     "output_type": "stream",
     "text": [
      "Aircraft.damage\n",
      "Substantial    18835\n",
      "Destroyed       2406\n",
      "NaN              585\n",
      "Minor            502\n",
      "Unknown           64\n",
      "Name: count, dtype: int64\n"
     ]
    }
   ],
   "source": [
    "# Check value counts in Aircraft.damage\n",
    "print(df['Aircraft.damage'].value_counts(dropna=False))\n"
   ]
  },
  {
   "cell_type": "code",
   "execution_count": 1049,
   "metadata": {},
   "outputs": [
    {
     "name": "stdout",
     "output_type": "stream",
     "text": [
      "585\n",
      "New total rows after dropping missing 'Aircraft.damage': 21807\n"
     ]
    }
   ],
   "source": [
    "# Check for missing values in 'Aircraft.damage'\n",
    "print(df['Aircraft.damage'].isnull().sum())\n",
    "\n",
    "# Drop rows with missing 'Aircraft.damage'\n",
    "df.dropna(subset=['Aircraft.damage'], inplace=True)\n",
    "\n",
    "# Check the updated number of rows after dropping missing data\n",
    "print(f\"New total rows after dropping missing 'Aircraft.damage': {df.shape[0]}\")\n"
   ]
  },
  {
   "cell_type": "markdown",
   "metadata": {},
   "source": [
    "### Handle Missing Values in Aircraft.Category\n",
    "\n",
    "To ensure the integrity of the dataset, we removed rows where the `Aircraft.Category` column had missing (NaN) values. This step is crucial because `Aircraft.Category` is key to our analysis of different aircraft types and their relationship to accident severity and frequency.\n",
    "\n",
    "**Action Taken:**\n",
    "\n",
    "Used `df.dropna(subset=['Aircraft.Category'], inplace=True)` to remove rows where `Aircraft.Category` is missing.\n",
    "The dataset after this operation contains 73,326 rows.\n",
    "\n",
    "**Outcome:**\n",
    "\n",
    "The rows with missing `Aircraft.Category` values have been removed, ensuring that our analysis reflects only complete records for this feature."
   ]
  },
  {
   "cell_type": "code",
   "execution_count": 1050,
   "metadata": {},
   "outputs": [
    {
     "name": "stdout",
     "output_type": "stream",
     "text": [
      "Aircraft.Category\n",
      "Airplane             18450\n",
      "Helicopter            2315\n",
      "Glider                 362\n",
      "Weight-Shift           160\n",
      "Gyrocraft              138\n",
      "Balloon                 91\n",
      "Powered Parachute       88\n",
      "Ultralight              19\n",
      "WSFT                     9\n",
      "Unknown                  7\n",
      "Rocket                   1\n",
      "Blimp                    1\n",
      "ULTR                     1\n",
      "Name: count, dtype: int64\n"
     ]
    }
   ],
   "source": [
    "# Check unique values in 'Aircraft.Category' and their counts\n",
    "print(df['Aircraft.Category'].value_counts())\n"
   ]
  },
  {
   "cell_type": "code",
   "execution_count": 1051,
   "metadata": {},
   "outputs": [
    {
     "name": "stdout",
     "output_type": "stream",
     "text": [
      "Rows after dropping missing 'Aircraft.Category': 21642\n"
     ]
    }
   ],
   "source": [
    "# Drop rows with missing values in 'Aircraft.Category'\n",
    "df.dropna(subset=['Aircraft.Category'], inplace=True)\n",
    "\n",
    "# Check the number of rows after dropping missing values\n",
    "print(f\"Rows after dropping missing 'Aircraft.Category': {df.shape[0]}\")\n"
   ]
  },
  {
   "cell_type": "markdown",
   "metadata": {},
   "source": [
    "**Drop Missing Values in the 'Make' Column**\n",
    "\n",
    "In this step, we drop rows that have missing values in the `Make` column, as it's a key variable for analyzing aircraft characteristics.\n"
   ]
  },
  {
   "cell_type": "code",
   "execution_count": 1052,
   "metadata": {},
   "outputs": [
    {
     "name": "stdout",
     "output_type": "stream",
     "text": [
      "Missing values in 'Make' column: 2\n"
     ]
    }
   ],
   "source": [
    "# Count missing values in the 'Make' column\n",
    "missing_make_count = df['Make'].isna().sum()\n",
    "\n",
    "# Output the result\n",
    "print(f\"Missing values in 'Make' column: {missing_make_count}\")\n"
   ]
  },
  {
   "cell_type": "code",
   "execution_count": 1053,
   "metadata": {},
   "outputs": [
    {
     "name": "stdout",
     "output_type": "stream",
     "text": [
      "New total rows: 21640\n"
     ]
    }
   ],
   "source": [
    "# Drop rows with missing values in the 'Make' column\n",
    "df.dropna(subset=['Make'], inplace=True)\n",
    "\n",
    "# Output the new shape of the DataFrame after dropping rows\n",
    "print(f\"New total rows: {df.shape[0]}\")\n"
   ]
  },
  {
   "cell_type": "markdown",
   "metadata": {},
   "source": [
    "### Drop Rows with Missing Weather Conditions\n",
    "\n",
    "In this step, we focused on cleaning the data by removing rows with missing values in the `Weather.Condition` column. This ensures that weather data is available for all the remaining records, which is crucial for any analysis or visualization involving weather conditions."
   ]
  },
  {
   "cell_type": "code",
   "execution_count": 1054,
   "metadata": {},
   "outputs": [
    {
     "name": "stdout",
     "output_type": "stream",
     "text": [
      "Weather.Condition\n",
      "VMC    19232\n",
      "IMC      944\n",
      "Unk      163\n",
      "Name: count, dtype: int64\n"
     ]
    }
   ],
   "source": [
    "# Check the unique values in the 'Weather.Condition' column\n",
    "print(df['Weather.Condition'].value_counts())\n"
   ]
  },
  {
   "cell_type": "markdown",
   "metadata": {},
   "source": [
    "The `Weather.Condition` column was examined for unique values, which revealed:\n",
    "\n",
    "* **VMC (Visual Meteorological Conditions):** 19,232 rows\n",
    "* **IMC (Instrument Meteorological Conditions):** 944 rows\n",
    "* **Unk (Unknown):** 163 rows\n",
    "\n",
    "These values represent the meteorological conditions during the accident.\n",
    "\n",
    "To ensure consistency in analysis:\n",
    "\n",
    "The value 'Unk' may represent missing or unclear weather conditions. Depending on the analysis goals, these can be:\n",
    "\n",
    "* **Treated as a separate category \"Unknown\"**\n",
    "* **Or removed from the dataset if considered non-informative**\n",
    "\n",
    "This step ensures that weather condition data is clean and categorized meaningfully for analysis and visualization."
   ]
  },
  {
   "cell_type": "code",
   "execution_count": 1055,
   "metadata": {},
   "outputs": [
    {
     "name": "stdout",
     "output_type": "stream",
     "text": [
      "Remaining rows after dropping missing weather conditions: 20339\n"
     ]
    }
   ],
   "source": [
    "# Drop rows with missing weather conditions\n",
    "df.dropna(subset=['Weather.Condition'], inplace=True)\n",
    "\n",
    "# Print the number of remaining rows\n",
    "print(f\"Remaining rows after dropping missing weather conditions: {df.shape[0]}\")\n"
   ]
  },
  {
   "cell_type": "markdown",
   "metadata": {},
   "source": [
    "## **Convert Data Types**\n",
    "\n",
    "In this step, we ensure that each column is in the appropriate format for analysis:\n",
    "\n",
    "1. **Latitude and Longitude:** \n",
    "   - These columns are converted from `object` to `float64` to facilitate geographic analysis. We also filter out any invalid coordinate values (outside the valid ranges for latitude and longitude).\n",
    "\n",
    "2. **Event.Date and Publication.Date:**\n",
    "   - These date columns are converted to `datetime64[ns]` to ensure that temporal analysis can be performed.\n",
    "\n",
    "3. **Numerical Columns:** \n",
    "   - Columns like `Number.of.Engines` and injury counts are converted to `float64` or `int64` as needed for accurate statistical analysis.\n",
    "\n",
    "**Outcome:**\n",
    "- All columns are now in the appropriate data types for further analysis.\n"
   ]
  },
  {
   "cell_type": "code",
   "execution_count": 1056,
   "metadata": {},
   "outputs": [
    {
     "name": "stdout",
     "output_type": "stream",
     "text": [
      "Event.Id                                     object\n",
      "Investigation.Type                           object\n",
      "Accident.Number                              object\n",
      "Event.Date                           datetime64[ns]\n",
      "Location                                     object\n",
      "Country                                      object\n",
      "Latitude                                    float64\n",
      "Longitude                                   float64\n",
      "Airport.Code                                 object\n",
      "Airport.Name                                 object\n",
      "Injury.Severity                              object\n",
      "Aircraft.damage                              object\n",
      "Aircraft.Category                            object\n",
      "Registration.Number                          object\n",
      "Make                                         object\n",
      "Model                                        object\n",
      "Amateur.Built                                object\n",
      "Number.of.Engines                           float64\n",
      "Engine.Type                                  object\n",
      "FAR.Description                              object\n",
      "Purpose.of.flight                            object\n",
      "Total.Fatal.Injuries                        float64\n",
      "Total.Serious.Injuries                      float64\n",
      "Total.Minor.Injuries                        float64\n",
      "Total.Uninjured                             float64\n",
      "Weather.Condition                            object\n",
      "Broad.phase.of.flight                        object\n",
      "Report.Status                                object\n",
      "Publication.Date                     datetime64[ns]\n",
      "Location.Available                             bool\n",
      "Latitude_Invalid                               bool\n",
      "Longitude_Invalid                              bool\n",
      "Event_Date_Invalid                             bool\n",
      "Publication_Date_Invalid                       bool\n",
      "Number.of.Engines_NonNumeric                   bool\n",
      "Total.Fatal.Injuries_NonNumeric                bool\n",
      "Total.Serious.Injuries_NonNumeric              bool\n",
      "Total.Minor.Injuries_NonNumeric                bool\n",
      "dtype: object\n",
      "\n",
      "Optional Validity Flags (First 5 rows):\n",
      "       Latitude_Invalid  Longitude_Invalid  Event_Date_Invalid  \\\n",
      "50682             False              False               False   \n",
      "54904             False              False               False   \n",
      "59584             False              False               False   \n",
      "61280             False              False               False   \n",
      "61649             False              False               False   \n",
      "\n",
      "       Publication_Date_Invalid  Number.of.Engines_NonNumeric  \\\n",
      "50682                     False                         False   \n",
      "54904                     False                         False   \n",
      "59584                     False                         False   \n",
      "61280                     False                         False   \n",
      "61649                     False                         False   \n",
      "\n",
      "       Total.Fatal.Injuries_NonNumeric  Total.Serious.Injuries_NonNumeric  \\\n",
      "50682                            False                              False   \n",
      "54904                            False                              False   \n",
      "59584                            False                              False   \n",
      "61280                            False                              False   \n",
      "61649                            False                              False   \n",
      "\n",
      "       Total.Minor.Injuries_NonNumeric  \n",
      "50682                            False  \n",
      "54904                            False  \n",
      "59584                            False  \n",
      "61280                            False  \n",
      "61649                            False  \n"
     ]
    },
    {
     "name": "stderr",
     "output_type": "stream",
     "text": [
      "C:\\Users\\HP\\AppData\\Local\\Temp\\ipykernel_15652\\949084248.py:15: UserWarning: Parsing dates in %d-%m-%Y format when dayfirst=False (the default) was specified. Pass `dayfirst=True` or specify a format to silence this warning.\n",
      "  df['Publication.Date'] = pd.to_datetime(df['Publication.Date'], errors='coerce')\n"
     ]
    }
   ],
   "source": [
    "\n",
    "# Convert Latitude and Longitude to float64, setting invalid to NaN\n",
    "df['Latitude'] = pd.to_numeric(df['Latitude'], errors='coerce')\n",
    "df['Longitude'] = pd.to_numeric(df['Longitude'], errors='coerce')\n",
    "\n",
    "# Create boolean masks for valid Latitude and Longitude ranges\n",
    "valid_latitude = (df['Latitude'] >= -90) & (df['Latitude'] <= 90)\n",
    "valid_longitude = (df['Longitude'] >= -180) & (df['Longitude'] <= 180)\n",
    "\n",
    "# Optionally, flag invalid coordinates (retaining original rows)\n",
    "df['Latitude_Invalid'] = ~valid_latitude\n",
    "df['Longitude_Invalid'] = ~valid_longitude\n",
    "\n",
    "# Convert Event.Date and Publication.Date to datetime64[ns], setting invalid to NaT\n",
    "df['Event.Date'] = pd.to_datetime(df['Event.Date'], errors='coerce')\n",
    "df['Publication.Date'] = pd.to_datetime(df['Publication.Date'], errors='coerce')\n",
    "\n",
    "# Optionally, flag invalid dates (retaining original rows)\n",
    "df['Event_Date_Invalid'] = df['Event.Date'].isna()\n",
    "df['Publication_Date_Invalid'] = df['Publication.Date'].isna()\n",
    "\n",
    "# Convert numerical columns to numeric, setting invalid to NaN\n",
    "cols_to_numeric = ['Number.of.Engines', 'Total.Fatal.Injuries', 'Total.Serious.Injuries', 'Total.Minor.Injuries']\n",
    "for col in cols_to_numeric:\n",
    "    df[col] = pd.to_numeric(df[col], errors='coerce')\n",
    "\n",
    "# Optionally, flag non-numeric values in these columns (retaining original rows)\n",
    "for col in cols_to_numeric:\n",
    "    df[f'{col}_NonNumeric'] = pd.isna(df[col]) & pd.notna(df[col].astype(str)) # Check if originally not NaN but became NaN after conversion\n",
    "\n",
    "# Output the data types and a sample of the validity flags\n",
    "print(df.dtypes)\n",
    "print(\"\\nOptional Validity Flags (First 5 rows):\")\n",
    "print(df[['Latitude_Invalid', 'Longitude_Invalid', 'Event_Date_Invalid', 'Publication_Date_Invalid'] + [f'{col}_NonNumeric' for col in cols_to_numeric]].head())"
   ]
  },
  {
   "cell_type": "markdown",
   "metadata": {},
   "source": [
    "### Standardize Categorical Variables\n",
    "- **Action Taken**: The **Make** column was standardized by normalizing the case (e.g., \"CESSNA\" and \"Cessna\" were unified to \"Cessna\").\n",
    "- **Result**: The **Make** column now contains consistently capitalized values for easier analysis."
   ]
  },
  {
   "cell_type": "code",
   "execution_count": 1057,
   "metadata": {},
   "outputs": [
    {
     "name": "stdout",
     "output_type": "stream",
     "text": [
      "Make\n",
      "Cessna                 5177\n",
      "Piper                  3066\n",
      "Beech                  1098\n",
      "Bell                    490\n",
      "Mooney                  274\n",
      "Robinson Helicopter     219\n",
      "Air Tractor Inc         211\n",
      "Robinson                211\n",
      "Cirrus Design Corp      198\n",
      "Boeing                  190\n",
      "Name: count, dtype: int64\n"
     ]
    }
   ],
   "source": [
    "# Standardize Aircraft Make by normalizing case\n",
    "df['Make'] = df['Make'].str.strip().str.title()\n",
    "\n",
    "# Check the unique values in 'Make' after standardization\n",
    "print(df['Make'].value_counts().head(10))\n",
    "\n"
   ]
  },
  {
   "cell_type": "markdown",
   "metadata": {},
   "source": [
    "#### Standardize Categorical Variables (Injury Severity)\n",
    "- **Action Taken**: The **Injury.Severity** column was standardized to group various fatal categories (e.g., 'Fatal(1)', 'Fatal(2)', etc.) into a single **Fatal** category, and **Non-Fatal** or **Incident** were grouped under **Non-Fatal**.\n",
    "- **Result**: Injury severity is now simplified into two categories: **Fatal** and **Non-Fatal** for clearer analysis.\n",
    "\n"
   ]
  },
  {
   "cell_type": "code",
   "execution_count": 1058,
   "metadata": {},
   "outputs": [
    {
     "name": "stdout",
     "output_type": "stream",
     "text": [
      "Injury.Severity\n",
      "Non-Fatal    16213\n",
      "Fatal         3765\n",
      "Minor          172\n",
      "Serious        128\n",
      "Fatal(1)        31\n",
      "Fatal(2)        17\n",
      "Fatal(3)         8\n",
      "Incident         4\n",
      "Fatal(5)         1\n",
      "Name: count, dtype: int64\n"
     ]
    }
   ],
   "source": [
    "print(df['Injury.Severity'].value_counts())"
   ]
  },
  {
   "cell_type": "code",
   "execution_count": 1059,
   "metadata": {},
   "outputs": [
    {
     "name": "stdout",
     "output_type": "stream",
     "text": [
      "Injury.Severity\n",
      "Non-Fatal    16213\n",
      "Fatal         3822\n",
      "Minor          172\n",
      "Serious        128\n",
      "Incident         4\n",
      "Name: count, dtype: int64\n"
     ]
    }
   ],
   "source": [
    "# Overwrite Injury.Severity with standardized values\n",
    "df['Injury.Severity'] = df['Injury.Severity'].replace(\n",
    "    to_replace=r'Fatal\\(\\d+\\)', value='Fatal', regex=True\n",
    ")\n",
    "\n",
    "# Check updated value counts\n",
    "print(df['Injury.Severity'].value_counts())\n"
   ]
  },
  {
   "cell_type": "markdown",
   "metadata": {},
   "source": [
    "### Standardize Categorical Values\n",
    "### Broad.phase.of.flight:\n",
    "\n",
    "The column contains multiple detailed flight phases. To simplify the analysis, these categories are grouped into broader phases:\n",
    "\n",
    "* **Takeoff:** Includes \"Takeoff\", \"Climb\", \"Go-around\".\n",
    "* **Landing:** Includes \"Landing\", \"Approach\", \"Descent\".\n",
    "* **Cruise:** Includes \"Cruise\".\n",
    "* **Other:** Includes \"Maneuvering\", \"Taxi\", \"Standing\".\n",
    "* **Unknown:** Includes \"Unknown\".\n",
    "\n",
    "This grouping helps reduce the number of unique values, making it easier to analyze and interpret flight phase data."
   ]
  },
  {
   "cell_type": "code",
   "execution_count": 1060,
   "metadata": {},
   "outputs": [
    {
     "name": "stdout",
     "output_type": "stream",
     "text": [
      "Broad.phase.of.flight\n",
      "Cruise         23\n",
      "Takeoff        19\n",
      "Approach       17\n",
      "Maneuvering    12\n",
      "Landing         7\n",
      "Descent         6\n",
      "Climb           5\n",
      "Unknown         4\n",
      "Standing        1\n",
      "Go-around       1\n",
      "Name: count, dtype: int64\n"
     ]
    }
   ],
   "source": [
    "# List unique values in the 'Broad.phase.of.flight' column\n",
    "print(df['Broad.phase.of.flight'].value_counts())\n"
   ]
  },
  {
   "cell_type": "code",
   "execution_count": 1061,
   "metadata": {},
   "outputs": [
    {
     "name": "stdout",
     "output_type": "stream",
     "text": [
      "Broad.phase.of.flight\n",
      "Landing    30\n",
      "Takeoff    25\n",
      "Cruise     23\n",
      "Other      13\n",
      "Unknown     4\n",
      "Name: count, dtype: int64\n"
     ]
    }
   ],
   "source": [
    "# Group the flight phases into broader categories\n",
    "df['Broad.phase.of.flight'] = df['Broad.phase.of.flight'].replace({\n",
    "    'Takeoff': 'Takeoff',\n",
    "    'Climb': 'Takeoff',\n",
    "    'Go-around': 'Takeoff',\n",
    "    'Landing': 'Landing',\n",
    "    'Approach': 'Landing',\n",
    "    'Descent': 'Landing',\n",
    "    'Cruise': 'Cruise',\n",
    "    'Maneuvering': 'Other',  # Could be considered \"Other\" if it doesn't fit major categories\n",
    "    'Taxi': 'Other',\n",
    "    'Standing': 'Other',\n",
    "    'Unknown': 'Unknown',\n",
    "    'Other': 'Other'\n",
    "})\n",
    "\n",
    "# Check the updated values in Broad.phase.of.flight\n",
    "print(df['Broad.phase.of.flight'].value_counts())\n"
   ]
  },
  {
   "cell_type": "markdown",
   "metadata": {},
   "source": [
    "### Verify no missing values in key columns"
   ]
  },
  {
   "cell_type": "code",
   "execution_count": 1062,
   "metadata": {},
   "outputs": [
    {
     "name": "stdout",
     "output_type": "stream",
     "text": [
      "Location.Available        0\n",
      "Aircraft.Category         0\n",
      "Injury.Severity           0\n",
      "Aircraft.damage           0\n",
      "Make                      0\n",
      "Weather.Condition         0\n",
      "Total.Fatal.Injuries      0\n",
      "Total.Serious.Injuries    0\n",
      "Total.Minor.Injuries      0\n",
      "Total.Uninjured           0\n",
      "Country                   0\n",
      "dtype: int64\n"
     ]
    }
   ],
   "source": [
    "# List of key columns\n",
    "key_columns = [\n",
    "    'Location.Available',\n",
    "    'Aircraft.Category',\n",
    "    'Injury.Severity',\n",
    "    'Aircraft.damage',\n",
    "    'Make',\n",
    "    'Weather.Condition',\n",
    "    'Total.Fatal.Injuries',\n",
    "    'Total.Serious.Injuries',\n",
    "    'Total.Minor.Injuries',\n",
    "    'Total.Uninjured',\n",
    "    'Country',\n",
    "]\n",
    "\n",
    "# Check missing values in all key columns\n",
    "missing_values = df[key_columns].isnull().sum()\n",
    "\n",
    "# Display the missing values\n",
    "print(missing_values)\n"
   ]
  },
  {
   "cell_type": "code",
   "execution_count": 1063,
   "metadata": {},
   "outputs": [
    {
     "name": "stdout",
     "output_type": "stream",
     "text": [
      "<class 'pandas.core.frame.DataFrame'>\n",
      "Index: 20339 entries, 50682 to 90345\n",
      "Data columns (total 38 columns):\n",
      " #   Column                             Non-Null Count  Dtype         \n",
      "---  ------                             --------------  -----         \n",
      " 0   Event.Id                           20339 non-null  object        \n",
      " 1   Investigation.Type                 20339 non-null  object        \n",
      " 2   Accident.Number                    20339 non-null  object        \n",
      " 3   Event.Date                         20339 non-null  datetime64[ns]\n",
      " 4   Location                           20339 non-null  object        \n",
      " 5   Country                            20339 non-null  object        \n",
      " 6   Latitude                           100 non-null    float64       \n",
      " 7   Longitude                          99 non-null     float64       \n",
      " 8   Airport.Code                       14105 non-null  object        \n",
      " 9   Airport.Name                       14329 non-null  object        \n",
      " 10  Injury.Severity                    20339 non-null  object        \n",
      " 11  Aircraft.damage                    20339 non-null  object        \n",
      " 12  Aircraft.Category                  20339 non-null  object        \n",
      " 13  Registration.Number                20339 non-null  object        \n",
      " 14  Make                               20339 non-null  object        \n",
      " 15  Model                              20337 non-null  object        \n",
      " 16  Amateur.Built                      20339 non-null  object        \n",
      " 17  Number.of.Engines                  19480 non-null  float64       \n",
      " 18  Engine.Type                        18125 non-null  object        \n",
      " 19  FAR.Description                    20320 non-null  object        \n",
      " 20  Purpose.of.flight                  19308 non-null  object        \n",
      " 21  Total.Fatal.Injuries               20339 non-null  float64       \n",
      " 22  Total.Serious.Injuries             20339 non-null  float64       \n",
      " 23  Total.Minor.Injuries               20339 non-null  float64       \n",
      " 24  Total.Uninjured                    20339 non-null  float64       \n",
      " 25  Weather.Condition                  20339 non-null  object        \n",
      " 26  Broad.phase.of.flight              95 non-null     object        \n",
      " 27  Report.Status                      17931 non-null  object        \n",
      " 28  Publication.Date                   18757 non-null  datetime64[ns]\n",
      " 29  Location.Available                 20339 non-null  bool          \n",
      " 30  Latitude_Invalid                   20339 non-null  bool          \n",
      " 31  Longitude_Invalid                  20339 non-null  bool          \n",
      " 32  Event_Date_Invalid                 20339 non-null  bool          \n",
      " 33  Publication_Date_Invalid           20339 non-null  bool          \n",
      " 34  Number.of.Engines_NonNumeric       20339 non-null  bool          \n",
      " 35  Total.Fatal.Injuries_NonNumeric    20339 non-null  bool          \n",
      " 36  Total.Serious.Injuries_NonNumeric  20339 non-null  bool          \n",
      " 37  Total.Minor.Injuries_NonNumeric    20339 non-null  bool          \n",
      "dtypes: bool(9), datetime64[ns](2), float64(7), object(20)\n",
      "memory usage: 4.8+ MB\n"
     ]
    }
   ],
   "source": [
    "df.info()"
   ]
  },
  {
   "cell_type": "markdown",
   "metadata": {},
   "source": [
    "### 🧹 Data Preparation Summary\n",
    "\n",
    "- Removed duplicate records to ensure uniqueness.\n",
    "- Filtered rows with valid geographic data (latitude & longitude).\n",
    "- Dropped rows with missing values in key columns: aircraft details, injury severity, weather, and damage.\n",
    "- Converted data types (dates, coordinates, injury counts) for consistency.\n",
    "- Standardized categorical fields like `Make`, `Injury.Severity`, and `Aircraft.Category`.\n",
    "- Final dataset cleaned and ready for analysis and visualization.\n"
   ]
  },
  {
   "cell_type": "markdown",
   "metadata": {},
   "source": [
    "# Data Analysis\n",
    "\n",
    "\n",
    "## 1. Foundation Visualizations\n",
    "\n",
    "- **Distribution of Injury Severity** (Pie Chart)\n",
    "- **Top Aircraft Makes in Accident Data** (Bar Chart)\n",
    "- **Aircraft Categories in Accident Data** (Bar Chart)\n",
    "\n",
    "## 2. Business Question Analysis\n",
    "\n",
    "### 2.1 Which aircraft makes and models have the lowest accident and fatality rates?\n",
    "- **Comprehensive Safety Ranking Chart** (Horizontal Bar Chart)\n",
    "  - Show top 15 safest aircraft makes ranked by fatal accident rate\n",
    "  - Include total accidents, fatal accident count, and fatal accident rate\n",
    "  - Filter for statistical significance (minimum 30 accidents)\n",
    "  - Insight: Identify specific manufacturers with proven safety records\n",
    "\n",
    "### 2.2 Are newer aircraft models statistically safer than older models?\n",
    "- **Safety Trend Timeline Visualization** (Line Chart with Annotations)\n",
    "  - Show fatal accident rates over decades (1960s-2020s)\n",
    "  - Compare safety metrics between older and newer aircraft generations\n",
    "  - Include confidence intervals to show statistical significance\n",
    "  - Insight: Quantify safety improvements in modern aircraft\n",
    "\n",
    "### 2.3 Are there specific types or categories of aircraft that should be preferred or avoided?\n",
    "- **Aircraft Configuration Safety Matrix** (Color-Coded Grid/Heatmap)\n",
    "  - Compare aircraft categories and configurations (single vs multi-engine, etc.)\n",
    "  - Color code by fatal accident rate \n",
    "  - Size indicators for data volume/confidence\n",
    "  - Insight: Identify optimal aircraft configurations for different uses\n",
    "\n",
    "### 2.4 Which aircraft is best suited for a specific country?\n",
    "- **Country-Specific Safety Performance Map** (Geographic Heatmap with Top Performers)\n",
    "  - Map showing safety performance of aircraft makes by region\n",
    "  - Callout boxes highlighting top 3 safest aircraft for regions of interest\n",
    "  - Insight: Identify regional safety variation in aircraft performance\n",
    "\n",
    "### 2.5 Which aircraft handles injuries and damage better?\n",
    "- **Survivability Quadrant Analysis** (Scatter Plot with Quadrants)\n",
    "  - X-axis: Structural integrity (aircraft destroyed rate)\n",
    "  - Y-axis: Occupant protection (survival rate in accidents)\n",
    "  - Quadrants clearly indicate best performers in both dimensions\n",
    "  - Insight: Identify aircraft that protect both structure and occupants\n",
    "\n",
    "## 3. Integrated Findings\n",
    "\n",
    "### 3.1 Optimal Aircraft Selection Matrix\n",
    "- Consolidate findings across all questions\n",
    "- Create weighted scoring system incorporating all safety dimensions\n",
    "- Identify clear winners that satisfy multiple safety criteria\n",
    "\n",
    "### 3.2 Strategic Recommendations\n",
    "- Top 3 aircraft makes/models for Wilson Airport based on comprehensive analysis\n",
    "- Specific operational recommendations based on flight phase findings\n",
    "- Training and safety system priorities\n",
    "\n",
    "## 4. Executive Summary\n",
    "\n",
    "### 4.1 Key Insights\n",
    "- Single-page visual summary of critical findings\n",
    "- Actionable takeaways for immediate implementation\n",
    "\n",
    "### 4.2 Procurement Guidance\n",
    "- Clear, data-backed recommendations for aircraft acquisition\n",
    "- Risk assessment framework for future decisions"
   ]
  },
  {
   "cell_type": "markdown",
   "metadata": {},
   "source": [
    "# 1. Basic Safety Visualizations\n",
    "\n",
    "## Distribution of Injury Severity in Aviation Accidents\n",
    "\n",
    "This pie chart reveals the distribution of injury severity across all recorded aviation accidents in our dataset.\n",
    "\n",
    "## Key Insights\n",
    "\n",
    "- **Non-Fatal Incidents Dominate**  \n",
    "  The majority of aviation accidents result in non-fatal injuries, suggesting that while aircraft incidents occur, they often have survivable outcomes.\n",
    "\n",
    "- **Fatal Accidents**  \n",
    "  Fatal accidents represent a significant minority, underscoring the serious risks that still exist in aviation.\n",
    "\n",
    "- **Minor and Serious Injuries**  \n",
    "  These categories make up a smaller portion of total incidents. This indicates a pattern where accidents are more likely to result in either minimal or catastrophic outcomes, rather than moderate injuries.\n",
    "\n",
    "## Business Implications for Wilson Airport\n",
    "\n",
    "- While aviation accidents can be serious, the data suggests that most incidents are survivable — an encouraging sign for the airport’s risk assessment profile.\n",
    "\n",
    "- **Focus on Fatal Risk Prevention**  \n",
    "  Safety systems and procedures should prioritize preventing the conditions that lead to fatal outcomes, as these represent the greatest risk area.\n",
    "``\n"
   ]
  },
  {
   "cell_type": "code",
   "execution_count": 1064,
   "metadata": {},
   "outputs": [
    {
     "data": {
      "image/png": "[encoded data removed]",
      "text/plain": [
       "<Figure size 1000x600 with 1 Axes>"
      ]
     },
     "metadata": {},
     "output_type": "display_data"
    }
   ],
   "source": [
    "# 1. Distribution of Injury Severity\n",
    "plt.figure(figsize=(10, 6))\n",
    "injury_counts = df['Injury.Severity'].value_counts()\n",
    "plt.pie(injury_counts, labels=None, startangle=90)\n",
    "plt.title('Distribution of Injury Severity in Aviation Accidents', fontsize=16)\n",
    "plt.axis('equal')  # Equal aspect ratio ensures that pie is drawn as a circle\n",
    "plt.legend(injury_counts.index, title=\"Injury Severity\", loc=\"center left\", bbox_to_anchor=(1, 0.5))\n",
    "plt.tight_layout()\n",
    "plt.savefig('images/injury_severity_distribution.png', dpi=300, bbox_inches='tight')\n",
    "plt.show()"
   ]
  },
  {
   "cell_type": "markdown",
   "metadata": {},
   "source": [
    "# 2. Top 10 Aircraft Makes with Most Accidents\n",
    "\n",
    "This bar chart displays the aircraft manufacturers with the highest absolute number of accidents in the dataset.\n",
    "\n",
    "## Key Insights\n",
    "\n",
    "- **Cessna Dominates**  \n",
    "  Cessna aircraft appear in significantly more accident records than any other manufacturer.\n",
    "\n",
    "- **Piper and Beech**  \n",
    "  These manufacturers rank second and third in accident frequency, respectively.\n",
    "\n",
    "- **Common General Aviation Makes**  \n",
    "  The top manufacturers (Cessna, Piper, Beech) are leading producers of general aviation aircraft, with large fleets operating worldwide.\n",
    "\n",
    "## Business Implications for Wilson Airport\n",
    "\n",
    "- **Raw Counts vs. Exposure**  \n",
    "  These raw accident counts do not reflect the total number of aircraft in operation (exposure), so they should not be interpreted as indicators of reduced safety.\n",
    "\n",
    "- **Market Share Context**  \n",
    "  The high accident numbers likely correspond to the manufacturers' market dominance and the size of their operational fleets.\n",
    "\n",
    "- **Data-Informed Procurement**  \n",
    "  For informed procurement decisions, Wilson Airport should compare accident rates relative to each manufacturer’s fleet size to assess actual safety performance more accurately.\n"
   ]
  },
  {
   "cell_type": "code",
   "execution_count": 1065,
   "metadata": {},
   "outputs": [
    {
     "data": {
      "image/png": "[encoded data removed]",
      "text/plain": [
       "<Figure size 1200x600 with 1 Axes>"
      ]
     },
     "metadata": {},
     "output_type": "display_data"
    }
   ],
   "source": [
    "# 2. Top 10 Aircraft Makes with Most Accidents\n",
    "plt.figure(figsize=(12, 6))\n",
    "make_counts = df['Make'].value_counts().head(10)\n",
    "sns.barplot(x=make_counts.values, y=make_counts.index)\n",
    "plt.title('Top 10 Aircraft Makes with Most Accidents', fontsize=16)\n",
    "plt.xlabel('Number of Accidents', fontsize=14)\n",
    "plt.ylabel('Aircraft Make', fontsize=14)\n",
    "plt.tight_layout()\n",
    "plt.savefig('images/top_makes_accidents.png', dpi=300, bbox_inches='tight')\n",
    "plt.show()"
   ]
  },
  {
   "cell_type": "markdown",
   "metadata": {},
   "source": [
    "# 3. Distribution of Aircraft Categories in Accident Data\n",
    "\n",
    "This bar chart illustrates which types of aircraft are most frequently involved in the recorded accidents.\n",
    "\n",
    "## Key Insights\n",
    "\n",
    "- **Airplane Dominance**  \n",
    "  The vast majority of accidents involve airplanes, consistent with airplanes being the most common aircraft type in operation.\n",
    "\n",
    "- **Helicopter Incidents**  \n",
    "  Helicopters are the second most common category in the accident data, though with significantly fewer incidents than airplanes.\n",
    "\n",
    "- **Specialty Aircraft**  \n",
    "  Categories such as gliders, weight-shift aircraft, and gyrocraft have relatively few recorded accidents, likely due to their limited presence in the aviation ecosystem.\n",
    "\n",
    "## Business Implications for Wilson Airport\n",
    "\n",
    "- **Prevalence Over Risk**  \n",
    "  The high number of airplane accidents likely reflects operational volume, not necessarily higher inherent risk.\n",
    "\n",
    "- **Risk Contextualization**  \n",
    "  For a thorough safety analysis, Wilson Airport should relate these figures to total operating hours or the number of active aircraft in each category.\n",
    "\n",
    "- **Helicopter Operations**  \n",
    "  If Wilson Airport is considering expanding into helicopter operations, it should account for the distinct operational and safety dynamics associated with rotary-wing aircraft.\n"
   ]
  },
  {
   "cell_type": "code",
   "execution_count": 1066,
   "metadata": {},
   "outputs": [
    {
     "data": {
      "image/png": "[encoded data removed]",
      "text/plain": [
       "<Figure size 1200x600 with 1 Axes>"
      ]
     },
     "metadata": {},
     "output_type": "display_data"
    }
   ],
   "source": [
    "plt.figure(figsize=(12, 6))\n",
    "category_counts = df['Aircraft.Category'].value_counts().head(8)  # Top 8 categories\n",
    "sns.barplot(x=category_counts.index, y=category_counts.values)\n",
    "plt.title('Distribution of Aircraft Categories in Accident Data', fontsize=16)\n",
    "plt.xlabel('Aircraft Category', fontsize=14)\n",
    "plt.ylabel('Number of Accidents', fontsize=14)\n",
    "plt.xticks(rotation=45, ha='right')\n",
    "plt.tight_layout()\n",
    "plt.savefig('images/aircraft_categories_distribution.png', dpi=300, bbox_inches='tight')\n",
    "plt.show()"
   ]
  },
  {
   "cell_type": "markdown",
   "metadata": {},
   "source": [
    "# Overall Analysis Recommendations\n",
    "\n",
    "These initial visualizations offer a foundational understanding of the aviation accident landscape but are not sufficient on their own for direct procurement decisions.\n",
    "\n",
    "## Key Recommendations\n",
    "\n",
    "- **Need for Exposure Data**  \n",
    "  Accident counts should be normalized by the number of aircraft in operation or total flight hours to accurately assess risk levels for each type or make.\n",
    "\n",
    "- **Deeper Analysis Required**  \n",
    "  A more granular review of specific aircraft models, their operational age, maintenance records, and usage contexts is necessary to support informed procurement and safety decisions.\n",
    "\n",
    "- **Safety Improvement Opportunities**  \n",
    "  The data indicates that most aviation incidents are non-fatal. This suggests that with rigorous safety protocols and thoughtful aircraft selection, Wilson Airport can effectively manage aviation risks.\n"
   ]
  },
  {
   "cell_type": "markdown",
   "metadata": {},
   "source": [
    "## Which Aircraft Makes and Models Have the Lowest Accident and Fatality Rates?"
   ]
  },
  {
   "cell_type": "code",
   "execution_count": 1067,
   "metadata": {},
   "outputs": [],
   "source": [
    "# Visualization 1: Top 10 safest aircraft makes based on fatal accident rate\n",
    "# Calculate safety metrics by aircraft make\n",
    "make_safety = df.groupby('Make').agg(\n",
    "    total_accidents=('Make', 'count'),\n",
    "    fatal_accidents=('Injury.Severity', lambda x: (x == 'Fatal').sum())\n",
    ").reset_index()\n",
    "\n",
    "# Calculate fatal accident rate\n",
    "make_safety['fatal_accident_rate'] = make_safety['fatal_accidents'] / make_safety['total_accidents']\n",
    "\n",
    "# Filter for statistical significance (at least 30 accidents)\n",
    "significant_makes = make_safety[make_safety['total_accidents'] >= 30].copy()\n",
    "significant_makes = significant_makes.sort_values('fatal_accident_rate')"
   ]
  },
  {
   "cell_type": "code",
   "execution_count": 1068,
   "metadata": {},
   "outputs": [
    {
     "data": {
      "image/png": "[encoded data removed]",
      "text/plain": [
       "<Figure size 1200x800 with 1 Axes>"
      ]
     },
     "metadata": {},
     "output_type": "display_data"
    }
   ],
   "source": [
    "# Plot top 10 safest makes\n",
    "plt.figure(figsize=(12, 8))\n",
    "top_10_makes = significant_makes.head(10)\n",
    "sns.barplot(x='fatal_accident_rate', y='Make', data=top_10_makes)\n",
    "plt.title('Top 10 Aircraft Makes with Lowest Fatal Accident Rates', fontsize=16)\n",
    "plt.xlabel('Fatal Accident Rate', fontsize=14)\n",
    "plt.ylabel('Aircraft Make', fontsize=14)\n",
    "plt.grid(True, axis='x')\n",
    "plt.tight_layout()\n",
    "plt.savefig('images/safest_aircraft_makes.png', dpi=300, bbox_inches='tight')\n",
    "plt.show()"
   ]
  },
  {
   "cell_type": "markdown",
   "metadata": {},
   "source": [
    "# Findings: Aircraft Makes with Lowest Fatal Accident Rates\n",
    "\n",
    "## Key Insights\n",
    "\n",
    "- **Grumman Acft Eng Cor-Schweizer**  \n",
    "  Holds the lowest fatal accident rate (~2%), positioning it as the safest manufacturer in the analysis.\n",
    "\n",
    "- **Stinson and Airbus**  \n",
    "  Rank second and third with fatal accident rates of ~3.7% and ~4.3%, respectively.\n",
    "\n",
    "- **Boeing vs. Airbus**  \n",
    "  Boeing appears within the top 6, but with a higher fatal accident rate (~7%) compared to its competitor Airbus.\n",
    "\n",
    "- **Rate Variability**  \n",
    "  The fatal accident rate increases roughly five-fold from the safest to the 10th safest manufacturer, highlighting significant variation in safety performance.\n",
    "\n",
    "## Business Implications for Wilson Airport\n",
    "\n",
    "- **Safety-First Procurement**  \n",
    "  Give procurement priority to Grumman, Stinson, and Airbus aircraft where they meet operational needs.\n",
    "\n",
    "- **Commercial Fleet Considerations**  \n",
    "  For commercial aviation, Airbus may offer a safety edge over Boeing, supporting risk-sensitive decision-making.\n",
    "\n",
    "- **Top 10 as Safe Choices**  \n",
    "  Any manufacturer within the top 10 lowest fatality rates represents a safety-conscious option for fleet expansion.\n",
    "\n",
    "- **Balanced Evaluation**  \n",
    "  Combine these safety metrics with considerations like operational compatibility, acquisition and maintenance costs, and regional support infrastructure.\n"
   ]
  },
  {
   "cell_type": "markdown",
   "metadata": {},
   "source": [
    "## Are Newer Aircraft Models Statistically Safer Than Older Models?"
   ]
  },
  {
   "cell_type": "code",
   "execution_count": 1069,
   "metadata": {},
   "outputs": [],
   "source": [
    "# Visualization 2: Safety trends over time\n",
    "# Extract year from Event.Date for timeline analysis\n",
    "df['Accident_Year'] = df['Event.Date'].dt.year\n",
    "\n",
    "# Group accidents by year and calculate safety metrics\n",
    "yearly_safety = df.groupby('Accident_Year').agg(\n",
    "    total_accidents=('Event.Id', 'count'),\n",
    "    fatal_accidents=('Injury.Severity', lambda x: (x == 'Fatal').sum())\n",
    ").reset_index()\n",
    "\n",
    "# Calculate fatal accident rate\n",
    "yearly_safety['fatal_accident_rate'] = yearly_safety['fatal_accidents'] / yearly_safety['total_accidents']"
   ]
  },
  {
   "cell_type": "code",
   "execution_count": 1070,
   "metadata": {},
   "outputs": [
    {
     "data": {
      "image/png": "[encoded data removed]",
      "text/plain": [
       "<Figure size 1200x600 with 1 Axes>"
      ]
     },
     "metadata": {},
     "output_type": "display_data"
    }
   ],
   "source": [
    "# Create line plot showing fatal accident rate trend over time\n",
    "plt.figure(figsize=(12, 6))\n",
    "plt.plot(yearly_safety['Accident_Year'], yearly_safety['fatal_accident_rate'], \n",
    "        marker='o', linestyle='-', linewidth=2, color='darkblue')\n",
    "\n",
    "# Add a trend line\n",
    "z = np.polyfit(yearly_safety['Accident_Year'], yearly_safety['fatal_accident_rate'], 1)\n",
    "p = np.poly1d(z)\n",
    "plt.plot(yearly_safety['Accident_Year'], p(yearly_safety['Accident_Year']), \"r--\", linewidth=2)\n",
    "\n",
    "plt.title('Fatal Accident Rate Trend Over Time (1962-2023)', fontsize=16)\n",
    "plt.xlabel('Year', fontsize=14)\n",
    "plt.ylabel('Fatal Accident Rate', fontsize=14)\n",
    "plt.grid(True)\n",
    "plt.tight_layout()\n",
    "plt.savefig('images/safety_trend_over_time.png', dpi=300, bbox_inches='tight')\n",
    "plt.show()"
   ]
  },
  {
   "cell_type": "markdown",
   "metadata": {},
   "source": [
    "# Findings: Fatal Accident Rate Trend Over Time (1962–2023)\n",
    "\n",
    "## Key Insights\n",
    "\n",
    "- **Clear Downward Trend**  \n",
    "  The red dashed trend line indicates a consistent decline in fatal accident rates from 2000 to 2023, suggesting that newer aircraft are generally safer than older models.\n",
    "\n",
    "- **Major Improvement Around 2005**  \n",
    "  A dramatic drop in fatal accident rates—from nearly 100% to near 0%—occurred around 2005, pointing to a significant industry-wide safety advancement or change in reporting standards.\n",
    "\n",
    "- **Stabilization Since 2008**  \n",
    "  Since 2008, fatal accident rates have remained relatively steady at ~20%, with minor fluctuations but no major shifts over the past 15 years.\n",
    "\n",
    "- **Recent Plateau**  \n",
    "  Although the overall trend is positive, the last decade shows a plateau, indicating that major safety gains were realized earlier, with recent years yielding more incremental improvements.\n",
    "\n",
    "## Business Implications for Wilson Airport\n",
    "\n",
    "- **Prioritize Post-2008 Aircraft**  \n",
    "  Aircraft manufactured after 2008 demonstrate significantly better safety profiles than those from earlier decades.\n",
    "\n",
    "- **Industry-Wide Improvements**  \n",
    "  The observed safety improvements appear to reflect broader industry advancements rather than the efforts of specific manufacturers alone.\n",
    "\n",
    "- **Smart Procurement Strategy**  \n",
    "  The plateau effect suggests that aircraft from the past 10–15 years offer comparable safety, potentially enabling cost-effective purchases of slightly older, yet still modern, aircraft.\n",
    "\n",
    "- **Focus on Post-2005 Models**  \n",
    "  The data supports prioritizing aircraft manufactured after 2005 for procurement, without requiring a focus on the absolute latest models from a safety perspective.\n"
   ]
  },
  {
   "cell_type": "markdown",
   "metadata": {},
   "source": [
    "## Which Aircraft Categories and Configurations Should Be Preferred or Avoided?"
   ]
  },
  {
   "cell_type": "code",
   "execution_count": 1071,
   "metadata": {},
   "outputs": [],
   "source": [
    "# Visualization 3: Fatal accident rates by aircraft category\n",
    "# Calculate safety metrics by aircraft category\n",
    "category_safety = df.groupby('Aircraft.Category').agg(\n",
    "    total_accidents=('Aircraft.Category', 'count'),\n",
    "    fatal_accidents=('Injury.Severity', lambda x: (x == 'Fatal').sum())\n",
    ").reset_index()\n",
    "\n",
    "# Calculate fatal accident rate\n",
    "category_safety['fatal_accident_rate'] = category_safety['fatal_accidents'] / category_safety['total_accidents']\n",
    "\n",
    "# Filter for statistical significance (at least 30 accidents)\n",
    "significant_categories = category_safety[category_safety['total_accidents'] >= 30].copy()\n",
    "significant_categories = significant_categories.sort_values('fatal_accident_rate')"
   ]
  },
  {
   "cell_type": "code",
   "execution_count": 1072,
   "metadata": {},
   "outputs": [
    {
     "data": {
      "image/png": "[encoded data removed]",
      "text/plain": [
       "<Figure size 1200x800 with 1 Axes>"
      ]
     },
     "metadata": {},
     "output_type": "display_data"
    }
   ],
   "source": [
    "# Create the bar chart\n",
    "plt.figure(figsize=(12, 8))\n",
    "sns.barplot(x='fatal_accident_rate', y='Aircraft.Category', data=significant_categories)\n",
    "plt.title('Fatal Accident Rates by Aircraft Category', fontsize=16)\n",
    "plt.xlabel('Fatal Accident Rate', fontsize=14)\n",
    "plt.ylabel('Aircraft Category', fontsize=14)\n",
    "plt.grid(True, axis='x')\n",
    "plt.tight_layout()\n",
    "plt.savefig('images/category_fatal_accident_rates.png', dpi=300, bbox_inches='tight')\n",
    "plt.show()"
   ]
  },
  {
   "cell_type": "markdown",
   "metadata": {},
   "source": [
    "# Findings: Fatal Accident Rates by Aircraft Category\n",
    "\n",
    "## Key Insights\n",
    "\n",
    "- **Clear Safety Hierarchy**  \n",
    "  Fatal accident rates vary significantly by aircraft category, ranging from approximately 10% to 34%.\n",
    "\n",
    "- **Balloons Are Safest**  \n",
    "  Balloons demonstrate the lowest fatal accident rate (~10%), making them the safest category among those with sufficient data.\n",
    "\n",
    "- **Powered Parachutes**  \n",
    "  Ranked second safest, with a fatal accident rate of approximately 12%.\n",
    "\n",
    "- **Conventional Aircraft**  \n",
    "  Airplanes and helicopters have moderate fatal accident rates (~18–19%), placing them in the middle of the safety spectrum.\n",
    "\n",
    "- **Higher-Risk Categories**  \n",
    "  Gliders and gyrocraft show higher fatality rates (~20–24%), while weight-shift aircraft are the riskiest, with a fatal accident rate of ~34%—over three times higher than balloons.\n",
    "\n",
    "## Business Implications for Wilson Airport\n",
    "\n",
    "- **Recreational and Tourism Operations**  \n",
    "  Balloon aircraft offer the lowest risk profile and are ideal for low-impact, sightseeing, or tourism applications.\n",
    "\n",
    "- **Mainstream Operations**  \n",
    "  Airplanes and helicopters provide a balanced mix of safety and operational flexibility, making them suitable for most commercial use cases.\n",
    "\n",
    "- **Caution with High-Risk Categories**  \n",
    "  Weight-shift aircraft, due to their high fatality rate, should be used cautiously and only when operational needs justify them—paired with enhanced safety protocols.\n",
    "\n",
    "- **Procurement Considerations**  \n",
    "  The threefold difference in fatality rates across categories underscores the importance of selecting aircraft category as a primary factor in procurement decisions.\n",
    "\n",
    "- **Risk Mitigation for Specialized Categories**  \n",
    "  For operations involving higher-risk types like gyrocraft or weight-shift aircraft, Wilson Airport should enforce robust safety procedures and require specialized pilot training.\n"
   ]
  },
  {
   "cell_type": "markdown",
   "metadata": {},
   "source": [
    "## Which Aircraft is Best Suited for a Specific Country?"
   ]
  },
  {
   "cell_type": "code",
   "execution_count": 1073,
   "metadata": {},
   "outputs": [],
   "source": [
    "# Visualization 4: Aircraft make safety performance by country\n",
    "# Focus on countries with sufficient data\n",
    "country_counts = df['Country'].value_counts()\n",
    "top_countries = country_counts[country_counts >= 30].index.tolist()\n",
    "\n",
    "# Get top makes by accident count\n",
    "top_makes = df['Make'].value_counts().head(10).index.tolist()\n",
    "\n",
    "# Calculate make performance by country\n",
    "country_make_performance = df[df['Country'].isin(top_countries) & df['Make'].isin(top_makes)].groupby(\n",
    "    ['Country', 'Make']).agg(\n",
    "    total_accidents=('Event.Id', 'count'),\n",
    "    fatal_accidents=('Injury.Severity', lambda x: (x == 'Fatal').sum())\n",
    ").reset_index()\n",
    "\n",
    "country_make_performance['fatal_accident_rate'] = (\n",
    "    country_make_performance['fatal_accidents'] / country_make_performance['total_accidents']\n",
    ")\n",
    "\n",
    "# Filter for combinations with at least 5 accidents for minimal statistical meaning\n",
    "country_make_performance = country_make_performance[country_make_performance['total_accidents'] >= 5]\n",
    "\n",
    "\n"
   ]
  },
  {
   "cell_type": "code",
   "execution_count": 1074,
   "metadata": {},
   "outputs": [
    {
     "name": "stderr",
     "output_type": "stream",
     "text": [
      "c:\\Users\\HP\\Anaconda3\\Lib\\site-packages\\seaborn\\matrix.py:260: FutureWarning: Format strings passed to MaskedConstant are ignored, but in future may error or produce different behavior\n",
      "  annotation = (\"{:\" + self.fmt + \"}\").format(val)\n"
     ]
    },
    {
     "data": {
      "image/png": "[encoded data removed]",
      "text/plain": [
       "<Figure size 1400x800 with 2 Axes>"
      ]
     },
     "metadata": {},
     "output_type": "display_data"
    }
   ],
   "source": [
    "# Create pivot table for heatmap\n",
    "heatmap_data = country_make_performance.pivot_table(\n",
    "    index='Country', \n",
    "    columns='Make', \n",
    "    values='fatal_accident_rate'\n",
    ")\n",
    "\n",
    "# Create heatmap\n",
    "plt.figure(figsize=(14, 8))\n",
    "sns.heatmap(heatmap_data, annot=True, fmt='.0%', cmap='RdYlGn_r', linewidths=0.5)\n",
    "plt.title('Aircraft Make Safety Performance by Country\\nFatal Accident Rate (minimum 5 accidents per make-country pair)', fontsize=16)\n",
    "plt.xlabel('Aircraft Make', fontsize=14)\n",
    "plt.ylabel('Country', fontsize=14)\n",
    "plt.tight_layout()\n",
    "plt.savefig('images/country_make_performance.png', dpi=300, bbox_inches='tight')\n",
    "plt.show()"
   ]
  },
  {
   "cell_type": "markdown",
   "metadata": {},
   "source": [
    "# Findings: Aircraft Make Safety Performance by Country\n",
    "\n",
    "## Key Insights\n",
    "\n",
    "- **Dramatic Safety Variation by Country**  \n",
    "  The same aircraft manufacturers show fatal accident rates ranging from under 10% to 100% depending on the country, highlighting the importance of regional operational environments.\n",
    "\n",
    "- **Stronger Outcomes in the United States**  \n",
    "  Across all makes, the United States demonstrates significantly lower fatal accident rates (green indicators), suggesting effective regulatory oversight, training, and infrastructure.\n",
    "\n",
    "- **Brazil Safety Concerns**  \n",
    "  Brazil exhibits exceptionally high fatal accident rates (88–100%) for most manufacturers, pointing to systemic regional challenges such as infrastructure quality, regulatory enforcement, and operational practices.\n",
    "\n",
    "- **Top Performers by Region**  \n",
    "  - *Cirrus Design Corp* stands out in the U.S. with the lowest fatal accident rate, indicating it may be a top choice for U.S.-bound operations.\n",
    "  - *Boeing* shows strong performance in the U.S. but a 100% fatality rate in Brazil, emphasizing regional influence over manufacturer performance.\n",
    "\n",
    "## Business Implications for Kenya-Based Wilson Airport\n",
    "\n",
    "- **U.S.-Bound Routes**  \n",
    "  Favor aircraft makes such as *Cirrus Design Corp* and *Mooney*, which show superior safety records in the U.S., for flights to or through North America.\n",
    "\n",
    "- **Brazil and Colombia Operations**  \n",
    "  Due to the uniformly high fatal accident rates in these countries, safety management should prioritize:\n",
    "  - Enhanced operational procedures\n",
    "  - Intensive crew training\n",
    "  - Robust ground infrastructure\n",
    "  rather than relying on manufacturer selection alone.\n",
    "\n",
    "- **Kenya–Brazil Route Strategy**  \n",
    "  Where possible, select aircraft makes with relatively better safety performance in Brazil, or implement comprehensive additional safety measures regardless of aircraft make.\n",
    "\n",
    "- **Safety Benchmarking**  \n",
    "  Use U.S. safety outcomes as a benchmark. Wilson Airport should aim to emulate these standards through improved regulation, maintenance, and training initiatives.\n",
    "\n",
    "- **Route-Specific Procurement Strategy**  \n",
    "  Consider customizing fleet composition based on destination-specific safety performance data. This could justify a diverse aircraft fleet to align safety optimization with operational geography.\n"
   ]
  },
  {
   "cell_type": "markdown",
   "metadata": {},
   "source": [
    "## Which Aircraft Handles Injuries and Damage Better?"
   ]
  },
  {
   "cell_type": "code",
   "execution_count": 1075,
   "metadata": {},
   "outputs": [],
   "source": [
    "# Visualization 5: Aircraft survivability analysis\n",
    "# Calculate survivability metrics by aircraft make\n",
    "df['total_people'] = df['Total.Fatal.Injuries'] + df['Total.Serious.Injuries'] + \\\n",
    "                    df['Total.Minor.Injuries'] + df['Total.Uninjured']\n",
    "\n",
    "# Calculate survivability metrics\n",
    "make_survival = df.groupby('Make').agg(\n",
    "    total_accidents=('Make', 'count'),\n",
    "    total_people=('total_people', 'sum'),\n",
    "    fatalities=('Total.Fatal.Injuries', 'sum'),\n",
    "    uninjured=('Total.Uninjured', 'sum'),\n",
    "    destroyed_aircraft=('Aircraft.damage', lambda x: (x == 'Destroyed').sum())\n",
    ").reset_index()\n",
    "\n",
    "# Calculate derived metrics\n",
    "make_survival['survival_rate'] = make_survival['uninjured'] / make_survival['total_people']\n",
    "make_survival['fatality_rate'] = make_survival['fatalities'] / make_survival['total_people']\n",
    "make_survival['destroyed_rate'] = make_survival['destroyed_aircraft'] / make_survival['total_accidents']\n",
    "\n",
    "# Filter for statistical significance (at least 30 accidents and 100 people)\n",
    "significant_makes = make_survival[(make_survival['total_accidents'] >= 30) & \n",
    "                                 (make_survival['total_people'] >= 100)].copy()"
   ]
  },
  {
   "cell_type": "code",
   "execution_count": 1076,
   "metadata": {},
   "outputs": [
    {
     "data": {
      "image/png": "[encoded data removed]",
      "text/plain": [
       "<Figure size 1200x800 with 1 Axes>"
      ]
     },
     "metadata": {},
     "output_type": "display_data"
    }
   ],
   "source": [
    "\n",
    "# Create scatter plot\n",
    "plt.figure(figsize=(12, 8))\n",
    "plt.scatter(significant_makes['destroyed_rate'], \n",
    "           significant_makes['fatality_rate'],\n",
    "           s=significant_makes['total_accidents']/2,  # Size based on number of accidents\n",
    "           alpha=0.7)\n",
    "\n",
    "# Add labels for common manufacturers\n",
    "top_makes = df['Make'].value_counts().head(8).index.tolist()\n",
    "for make in top_makes:\n",
    "    if make in significant_makes['Make'].values:\n",
    "        row = significant_makes[significant_makes['Make'] == make].iloc[0]\n",
    "        plt.annotate(make, \n",
    "                    xy=(row['destroyed_rate'], row['fatality_rate']),\n",
    "                    xytext=(5, 0),\n",
    "                    textcoords='offset points')\n",
    "\n",
    "plt.title('Aircraft Makes: Fatality Rate vs. Aircraft Destruction Rate', fontsize=16)\n",
    "plt.xlabel('Aircraft Destruction Rate (lower = better structural integrity)', fontsize=14)\n",
    "plt.ylabel('Fatality Rate (lower = better occupant protection)', fontsize=14)\n",
    "plt.grid(True)\n",
    "plt.tight_layout()\n",
    "plt.savefig('images/aircraft_survivability.png', dpi=300, bbox_inches='tight')\n",
    "plt.show()"
   ]
  },
  {
   "cell_type": "markdown",
   "metadata": {},
   "source": [
    "# Findings: Aircraft Injury and Damage Performance\n",
    "\n",
    "## Key Insights\n",
    "\n",
    "- **Cessna's Context Is Crucial**  \n",
    "  Cessna appears in the highest number of accident records (reflected by the largest bubble size in the visualization), which is attributable to its dominance in the general aviation fleet—not necessarily to poor safety design. Despite frequent incidents, Cessna maintains a relatively low fatality rate (~15%), indicating strong occupant protection.\n",
    "\n",
    "- **Rate vs. Volume Distinction**  \n",
    "  The visualization distinguishes between:\n",
    "  - **Accident frequency** (bubble size): Reflecting the volume of recorded incidents.\n",
    "  - **Accident outcomes** (chart positioning): Reflecting severity, such as fatality and destruction rates.  \n",
    "  This allows Cessna to stand out as a make with many incidents, but predominantly survivable ones.\n",
    "\n",
    "- **Robinson Helicopter Demonstrates Rotorcraft Efficiency**  \n",
    "  With a smaller fleet but comparable fatality and destruction rates to Cessna, Robinson helicopters demonstrate surprisingly strong survivability for rotorcraft, often considered riskier than fixed-wing aircraft.\n",
    "\n",
    "- **Exposure-Adjusted Perspective**  \n",
    "  When normalizing for exposure (e.g., fleet size or flight hours), safety performance rankings may shift. Cessna's large accident volume mirrors its massive operational footprint—not poor engineering.\n",
    "\n",
    "- **Lower-Left Quadrant Significance**  \n",
    "  Aircraft makes appearing in the *lower-left quadrant* (low fatality and low destruction rates) are the most favorable for safety, regardless of how frequently they appear in accident data.\n",
    "\n",
    "## Business Implications for Wilson Airport\n",
    "\n",
    "- **Do Not Penalize Cessna for Popularity**  \n",
    "  High accident volume alone should not disqualify Cessna from procurement consideration. Its low fatality rate across a vast number of incidents supports its reputation for safety.\n",
    "\n",
    "- **Normalize Data for Fair Assessment**  \n",
    "  Before making procurement decisions, normalize accident data using metrics like:\n",
    "  - Fleet size\n",
    "  - Flight hours\n",
    "  - Usage intensity\n",
    "\n",
    "- **Prioritize Outcomes, Not Just Counts**  \n",
    "  Focus on **outcome severity** (fatality and destruction rates) over absolute accident frequency when evaluating safety performance across manufacturers.\n",
    "\n",
    "- **Statistical Confidence Matters**  \n",
    "  Cessna's large number of accidents provides a statistically robust measure of its safety record. By contrast, smaller makes may show better rates but lack the data volume for high-confidence conclusions.\n",
    "\n",
    "- **Integrate with Broader Safety Metrics**  \n",
    "  Use this survivability insight in combination with:\n",
    "  - Accident rate per flight hour\n",
    "  - Maintenance and repair histories\n",
    "  - Regional performance trends  \n",
    "  for a more comprehensive procurement and safety strategy.\n"
   ]
  },
  {
   "cell_type": "markdown",
   "metadata": {},
   "source": [
    "# Key Aircraft Safety Recommendations for Wilson Airport\n",
    "\n",
    "## 1. Safest Aircraft Makes\n",
    "**Recommendation**: Prioritize **Grumman**, **Stinson**, and **Airbus** aircraft for procurement.\n",
    "* These manufacturers demonstrate the lowest fatal accident rates (2-4.3%)\n",
    "* Establish procurement guidelines favoring these proven safer options\n",
    "\n",
    "## 2. Aircraft Age Strategy\n",
    "**Recommendation**: Focus on aircraft manufactured after 2005.\n",
    "* Safety metrics improved dramatically around 2005\n",
    "* Models from 2008 onward show similar safety profiles, allowing cost-effective selection of slightly older aircraft\n",
    "\n",
    "## 3. Optimal Aircraft Categories\n",
    "**Recommendation**: Match categories to specific operations.\n",
    "* Use **Balloons** (10% fatal accident rate) for tourism\n",
    "* Select conventional **Airplanes** (18%) for commercial operations\n",
    "* Avoid **Weight-Shift** aircraft (34%) when possible\n",
    "\n",
    "## 4. Regional Considerations\n",
    "**Recommendation**: Select aircraft with proven performance in African conditions.\n",
    "* Prioritize makes with established maintenance networks in Kenya\n",
    "* Consider aircraft that perform well in similar climate/altitude conditions\n",
    "* Consult with regional operators about real-world performance\n",
    "\n",
    "## 5. Survivability Focus\n",
    "**Recommendation**: Prioritize aircraft like **Cessna** that protect occupants during accidents.\n",
    "* Consider both accident prevention and survivability metrics\n",
    "* Select models with demonstrated cabin integrity during incidents\n",
    "* Implement enhanced safety protocols for higher-risk aircraft when operationally necessary"
   ]
  }
 ],
 "metadata": {
  "kernelspec": {
   "display_name": "base",
   "language": "python",
   "name": "python3"
  },
  "language_info": {
   "codemirror_mode": {
    "name": "ipython",
    "version": 3
   },
   "file_extension": ".py",
   "mimetype": "text/x-python",
   "name": "python",
   "nbconvert_exporter": "python",
   "pygments_lexer": "ipython3",
   "version": "3.11.5"
  }
 },
 "nbformat": 4,
 "nbformat_minor": 2
}
